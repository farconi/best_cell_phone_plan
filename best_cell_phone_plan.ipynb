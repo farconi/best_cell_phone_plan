{
 "cells": [
  {
   "cell_type": "markdown",
   "metadata": {},
   "source": [
    "# Which is the best cell phone plan?\n",
    "\n",
    "The telecommunications company Megaline offers its customers Surf and Ultimate prepaid cell phone plans.\n",
    "\n",
    "\n",
    "The commercial department wants to know which of the plans give the most revenue in order to adjust the advertising budget.\n",
    "\n",
    "\n",
    "We will perform a first analysis of the plans based on a small selection of customers.\n",
    "\n",
    "We will have data from 500 Megaline customers, among the variables: which customers they are, where they are from, which plan they use, the number of calls they made and messages they sent in 2018.\n",
    "\n",
    "**Our job is to analyze customer behavior and determine which prepaid plans bring in the most revenue.**"
   ]
  },
  {
   "cell_type": "markdown",
   "metadata": {},
   "source": [
    "# Starting"
   ]
  },
  {
   "cell_type": "markdown",
   "metadata": {},
   "source": [
    "Given our intention to analyze customer behavior and determine which plans generate the most revenue, we imagine that we will probably use a lot of libraries.\n",
    "\n",
    "Let's leave them loaded, just in case:"
   ]
  },
  {
   "cell_type": "code",
   "execution_count": 164,
   "metadata": {},
   "outputs": [],
   "source": [
    "# Loading all libraries\n",
    "\n",
    "import pandas as pd # pandas: for manipulation and analysis of tabular data\n",
    "\n",
    "from scipy import stats as st # scipy.stats: for statistical calculations and hypothesis testing\n",
    "\n",
    "import numpy as np # numpy: for numeric calculations and array operations\n",
    "\n",
    "from matplotlib import pyplot as plt # matplotlib.pyplot: for visualizing data in graphs and plots\n",
    "\n",
    "from math import factorial # math.factorial: for calculating factorials, useful in binomial distributions\n",
    "\n",
    "from scipy.stats import norm # scipy.stats.norm: for normal distribution and related calculations\n",
    "\n",
    "import random # random: for random number generation\n",
    "\n",
    "from scipy.stats import binom, norm # scipy.stats.binom: for binomial distribution and related calculations."
   ]
  },
  {
   "cell_type": "markdown",
   "metadata": {},
   "source": [
    "# Loading data"
   ]
  },
  {
   "cell_type": "markdown",
   "metadata": {},
   "source": [
    "We have access to datasets coming from five different files.\n",
    "\n",
    "Let's load them to later use them to reach our goal:"
   ]
  },
  {
   "cell_type": "code",
   "execution_count": 165,
   "metadata": {},
   "outputs": [],
   "source": [
    "# Loading data files into different DataFrames\n",
    "\n",
    "df_users = pd.read_csv('/datasets/megaline_users.csv')\n",
    "    \n",
    "df_plans = pd.read_csv('/datasets/megaline_plans.csv')\n",
    "\n",
    "df_calls = pd.read_csv('/datasets/megaline_calls.csv')\n",
    "\n",
    "df_messages = pd.read_csv('/datasets/megaline_messages.csv')\n",
    "\n",
    "df_internet = pd.read_csv('/datasets/megaline_internet.csv')"
   ]
  },
  {
   "cell_type": "markdown",
   "metadata": {},
   "source": [
    "# Preparing the data"
   ]
  },
  {
   "cell_type": "markdown",
   "metadata": {},
   "source": [
    "Since the data is split across multiple tables, we'll explore each one to get an initial understanding of the data and make the necessary corrections to each table if necessary."
   ]
  },
  {
   "cell_type": "markdown",
   "metadata": {},
   "source": [
    "## Plans"
   ]
  },
  {
   "cell_type": "code",
   "execution_count": 166,
   "metadata": {},
   "outputs": [
    {
     "name": "stdout",
     "output_type": "stream",
     "text": [
      "<class 'pandas.core.frame.DataFrame'>\n",
      "RangeIndex: 2 entries, 0 to 1\n",
      "Data columns (total 8 columns):\n",
      " #   Column                 Non-Null Count  Dtype  \n",
      "---  ------                 --------------  -----  \n",
      " 0   messages_included      2 non-null      int64  \n",
      " 1   mb_per_month_included  2 non-null      int64  \n",
      " 2   minutes_included       2 non-null      int64  \n",
      " 3   usd_monthly_pay        2 non-null      int64  \n",
      " 4   usd_per_gb             2 non-null      int64  \n",
      " 5   usd_per_message        2 non-null      float64\n",
      " 6   usd_per_minute         2 non-null      float64\n",
      " 7   plan_name              2 non-null      object \n",
      "dtypes: float64(2), int64(5), object(1)\n",
      "memory usage: 256.0+ bytes\n"
     ]
    },
    {
     "data": {
      "text/html": [
       "<div>\n",
       "<style scoped>\n",
       "    .dataframe tbody tr th:only-of-type {\n",
       "        vertical-align: middle;\n",
       "    }\n",
       "\n",
       "    .dataframe tbody tr th {\n",
       "        vertical-align: top;\n",
       "    }\n",
       "\n",
       "    .dataframe thead th {\n",
       "        text-align: right;\n",
       "    }\n",
       "</style>\n",
       "<table border=\"1\" class=\"dataframe\">\n",
       "  <thead>\n",
       "    <tr style=\"text-align: right;\">\n",
       "      <th></th>\n",
       "      <th>messages_included</th>\n",
       "      <th>mb_per_month_included</th>\n",
       "      <th>minutes_included</th>\n",
       "      <th>usd_monthly_pay</th>\n",
       "      <th>usd_per_gb</th>\n",
       "      <th>usd_per_message</th>\n",
       "      <th>usd_per_minute</th>\n",
       "    </tr>\n",
       "  </thead>\n",
       "  <tbody>\n",
       "    <tr>\n",
       "      <th>count</th>\n",
       "      <td>2.000000</td>\n",
       "      <td>2.000000</td>\n",
       "      <td>2.000000</td>\n",
       "      <td>2.000000</td>\n",
       "      <td>2.00000</td>\n",
       "      <td>2.000000</td>\n",
       "      <td>2.000000</td>\n",
       "    </tr>\n",
       "    <tr>\n",
       "      <th>mean</th>\n",
       "      <td>525.000000</td>\n",
       "      <td>23040.000000</td>\n",
       "      <td>1750.000000</td>\n",
       "      <td>45.000000</td>\n",
       "      <td>8.50000</td>\n",
       "      <td>0.020000</td>\n",
       "      <td>0.020000</td>\n",
       "    </tr>\n",
       "    <tr>\n",
       "      <th>std</th>\n",
       "      <td>671.751442</td>\n",
       "      <td>10861.160159</td>\n",
       "      <td>1767.766953</td>\n",
       "      <td>35.355339</td>\n",
       "      <td>2.12132</td>\n",
       "      <td>0.014142</td>\n",
       "      <td>0.014142</td>\n",
       "    </tr>\n",
       "    <tr>\n",
       "      <th>min</th>\n",
       "      <td>50.000000</td>\n",
       "      <td>15360.000000</td>\n",
       "      <td>500.000000</td>\n",
       "      <td>20.000000</td>\n",
       "      <td>7.00000</td>\n",
       "      <td>0.010000</td>\n",
       "      <td>0.010000</td>\n",
       "    </tr>\n",
       "    <tr>\n",
       "      <th>25%</th>\n",
       "      <td>287.500000</td>\n",
       "      <td>19200.000000</td>\n",
       "      <td>1125.000000</td>\n",
       "      <td>32.500000</td>\n",
       "      <td>7.75000</td>\n",
       "      <td>0.015000</td>\n",
       "      <td>0.015000</td>\n",
       "    </tr>\n",
       "    <tr>\n",
       "      <th>50%</th>\n",
       "      <td>525.000000</td>\n",
       "      <td>23040.000000</td>\n",
       "      <td>1750.000000</td>\n",
       "      <td>45.000000</td>\n",
       "      <td>8.50000</td>\n",
       "      <td>0.020000</td>\n",
       "      <td>0.020000</td>\n",
       "    </tr>\n",
       "    <tr>\n",
       "      <th>75%</th>\n",
       "      <td>762.500000</td>\n",
       "      <td>26880.000000</td>\n",
       "      <td>2375.000000</td>\n",
       "      <td>57.500000</td>\n",
       "      <td>9.25000</td>\n",
       "      <td>0.025000</td>\n",
       "      <td>0.025000</td>\n",
       "    </tr>\n",
       "    <tr>\n",
       "      <th>max</th>\n",
       "      <td>1000.000000</td>\n",
       "      <td>30720.000000</td>\n",
       "      <td>3000.000000</td>\n",
       "      <td>70.000000</td>\n",
       "      <td>10.00000</td>\n",
       "      <td>0.030000</td>\n",
       "      <td>0.030000</td>\n",
       "    </tr>\n",
       "  </tbody>\n",
       "</table>\n",
       "</div>"
      ],
      "text/plain": [
       "       messages_included  mb_per_month_included  minutes_included  \\\n",
       "count           2.000000               2.000000          2.000000   \n",
       "mean          525.000000           23040.000000       1750.000000   \n",
       "std           671.751442           10861.160159       1767.766953   \n",
       "min            50.000000           15360.000000        500.000000   \n",
       "25%           287.500000           19200.000000       1125.000000   \n",
       "50%           525.000000           23040.000000       1750.000000   \n",
       "75%           762.500000           26880.000000       2375.000000   \n",
       "max          1000.000000           30720.000000       3000.000000   \n",
       "\n",
       "       usd_monthly_pay  usd_per_gb  usd_per_message  usd_per_minute  \n",
       "count         2.000000     2.00000         2.000000        2.000000  \n",
       "mean         45.000000     8.50000         0.020000        0.020000  \n",
       "std          35.355339     2.12132         0.014142        0.014142  \n",
       "min          20.000000     7.00000         0.010000        0.010000  \n",
       "25%          32.500000     7.75000         0.015000        0.015000  \n",
       "50%          45.000000     8.50000         0.020000        0.020000  \n",
       "75%          57.500000     9.25000         0.025000        0.025000  \n",
       "max          70.000000    10.00000         0.030000        0.030000  "
      ]
     },
     "execution_count": 166,
     "metadata": {},
     "output_type": "execute_result"
    }
   ],
   "source": [
    "# Printing the general/summary information about the plans DataFrame\n",
    "\n",
    "df_plans.info()\n",
    "\n",
    "df_plans.describe()"
   ]
  },
  {
   "cell_type": "code",
   "execution_count": 167,
   "metadata": {},
   "outputs": [
    {
     "data": {
      "text/html": [
       "<div>\n",
       "<style scoped>\n",
       "    .dataframe tbody tr th:only-of-type {\n",
       "        vertical-align: middle;\n",
       "    }\n",
       "\n",
       "    .dataframe tbody tr th {\n",
       "        vertical-align: top;\n",
       "    }\n",
       "\n",
       "    .dataframe thead th {\n",
       "        text-align: right;\n",
       "    }\n",
       "</style>\n",
       "<table border=\"1\" class=\"dataframe\">\n",
       "  <thead>\n",
       "    <tr style=\"text-align: right;\">\n",
       "      <th></th>\n",
       "      <th>messages_included</th>\n",
       "      <th>mb_per_month_included</th>\n",
       "      <th>minutes_included</th>\n",
       "      <th>usd_monthly_pay</th>\n",
       "      <th>usd_per_gb</th>\n",
       "      <th>usd_per_message</th>\n",
       "      <th>usd_per_minute</th>\n",
       "      <th>plan_name</th>\n",
       "    </tr>\n",
       "  </thead>\n",
       "  <tbody>\n",
       "    <tr>\n",
       "      <th>0</th>\n",
       "      <td>50</td>\n",
       "      <td>15360</td>\n",
       "      <td>500</td>\n",
       "      <td>20</td>\n",
       "      <td>10</td>\n",
       "      <td>0.03</td>\n",
       "      <td>0.03</td>\n",
       "      <td>surf</td>\n",
       "    </tr>\n",
       "    <tr>\n",
       "      <th>1</th>\n",
       "      <td>1000</td>\n",
       "      <td>30720</td>\n",
       "      <td>3000</td>\n",
       "      <td>70</td>\n",
       "      <td>7</td>\n",
       "      <td>0.01</td>\n",
       "      <td>0.01</td>\n",
       "      <td>ultimate</td>\n",
       "    </tr>\n",
       "  </tbody>\n",
       "</table>\n",
       "</div>"
      ],
      "text/plain": [
       "   messages_included  mb_per_month_included  minutes_included  \\\n",
       "0                 50                  15360               500   \n",
       "1               1000                  30720              3000   \n",
       "\n",
       "   usd_monthly_pay  usd_per_gb  usd_per_message  usd_per_minute plan_name  \n",
       "0               20          10             0.03            0.03      surf  \n",
       "1               70           7             0.01            0.01  ultimate  "
      ]
     },
     "execution_count": 167,
     "metadata": {},
     "output_type": "execute_result"
    }
   ],
   "source": [
    "# Printing sample data for plans\n",
    "\n",
    "df_plans.head()"
   ]
  },
  {
   "cell_type": "markdown",
   "metadata": {},
   "source": [
    "✅ no nan values\n",
    "\n",
    "✅ column names\n",
    "\n",
    "✅ data types\n",
    "\n",
    "In this first table above we can see a general description of the communication plans.\n",
    "\n",
    "Column names, data types, and missing values don't seem to have any issues.\n",
    "\n",
    "Maybe we can think of some more later, but right now, we plan to add six columns that represent the amount of messages, data (mb) and minutes per dollar (usd), for both the included and the extra plan."
   ]
  },
  {
   "cell_type": "markdown",
   "metadata": {},
   "source": [
    "### Correcting the data"
   ]
  },
  {
   "cell_type": "markdown",
   "metadata": {},
   "source": [
    "Apparently, in this first table, we might consider changing only the data types of the columns `usd_monthly_pay` and `usd_per_gb` from 'integer' to 'float', since we're talking about money, just like `usd_per_gb` and `usd_per_message` .\n",
    "\n",
    "But considering these are full amounts and customers don't have the option of paying less than that, it's unlikely that we'll need the pennies in this case. So we don't see any problems keeping it that way."
   ]
  },
  {
   "cell_type": "markdown",
   "metadata": {},
   "source": [
    "### Enriching the data"
   ]
  },
  {
   "cell_type": "markdown",
   "metadata": {},
   "source": [
    "We are going to create six columns that may help us to interpret the customers' choice of plan at the time of purchase, considering how many messages (`msg_per_usd_included` and `msg_per_usd_extra`), internet megabytes (`mb_per_usd_included` and `mb_per_usd_extra`) and connection minutes (`min_per_usd_included` and `min_per_usd_extra`) that are offered for every dollar in the included package and how many per dollar when paying extra:"
   ]
  },
  {
   "cell_type": "code",
   "execution_count": 168,
   "metadata": {},
   "outputs": [
    {
     "data": {
      "text/plain": [
       "Index(['messages_included', 'mb_per_month_included', 'minutes_included',\n",
       "       'usd_monthly_pay', 'usd_per_gb', 'usd_per_message', 'usd_per_minute',\n",
       "       'plan_name', 'msg_per_usd_included', 'msg_per_usd_extra',\n",
       "       'mb_per_usd_included', 'mb_per_usd_extra', 'min_per_usd_included',\n",
       "       'min_per_usd_extra'],\n",
       "      dtype='object')"
      ]
     },
     "execution_count": 168,
     "metadata": {},
     "output_type": "execute_result"
    }
   ],
   "source": [
    "# Creating the 'msg_per_usd_included' column\n",
    "\n",
    "df_plans['msg_per_usd_included'] = df_plans['messages_included'] / df_plans['usd_monthly_pay']\n",
    "\n",
    "# Creating the 'msg_per_usd_extra' column\n",
    "\n",
    "df_plans['msg_per_usd_extra'] = 1 / df_plans['usd_per_message']\n",
    "\n",
    "# Creating the 'mb_per_usd_included' column\n",
    "\n",
    "df_plans['mb_per_usd_included'] = df_plans['mb_per_month_included'] / df_plans['usd_monthly_pay']\n",
    "\n",
    "# Creating the 'mb_per_usd_extra' column\n",
    "\n",
    "df_plans['mb_per_usd_extra'] = 1000 / df_plans['usd_per_gb']\n",
    "\n",
    "# Creating the 'min_per_usd_included' column\n",
    "\n",
    "df_plans['min_per_usd_included'] = df_plans['minutes_included'] / df_plans['usd_monthly_pay']\n",
    "\n",
    "# Creating the 'min_per_usd_extra' column\n",
    "\n",
    "df_plans['min_per_usd_extra'] = 1 / df_plans['usd_per_minute']\n",
    "\n",
    "# Checking the names of all columns\n",
    "\n",
    "df_plans.columns"
   ]
  },
  {
   "cell_type": "code",
   "execution_count": 169,
   "metadata": {},
   "outputs": [
    {
     "data": {
      "text/html": [
       "<div>\n",
       "<style scoped>\n",
       "    .dataframe tbody tr th:only-of-type {\n",
       "        vertical-align: middle;\n",
       "    }\n",
       "\n",
       "    .dataframe tbody tr th {\n",
       "        vertical-align: top;\n",
       "    }\n",
       "\n",
       "    .dataframe thead th {\n",
       "        text-align: right;\n",
       "    }\n",
       "</style>\n",
       "<table border=\"1\" class=\"dataframe\">\n",
       "  <thead>\n",
       "    <tr style=\"text-align: right;\">\n",
       "      <th></th>\n",
       "      <th>plan_name</th>\n",
       "      <th>usd_monthly_pay</th>\n",
       "      <th>msg_per_usd_included</th>\n",
       "      <th>mb_per_usd_included</th>\n",
       "      <th>min_per_usd_included</th>\n",
       "      <th>msg_per_usd_extra</th>\n",
       "      <th>mb_per_usd_extra</th>\n",
       "      <th>min_per_usd_extra</th>\n",
       "      <th>messages_ included</th>\n",
       "      <th>mb_per_month_included</th>\n",
       "      <th>minutes_included</th>\n",
       "      <th>usd_per_message</th>\n",
       "      <th>usd_per_gb</th>\n",
       "      <th>usd_per_minute</th>\n",
       "    </tr>\n",
       "  </thead>\n",
       "  <tbody>\n",
       "    <tr>\n",
       "      <th>0</th>\n",
       "      <td>surf</td>\n",
       "      <td>20</td>\n",
       "      <td>2.500000</td>\n",
       "      <td>768.000000</td>\n",
       "      <td>25.000000</td>\n",
       "      <td>33.333333</td>\n",
       "      <td>100.000000</td>\n",
       "      <td>33.333333</td>\n",
       "      <td>NaN</td>\n",
       "      <td>15360</td>\n",
       "      <td>NaN</td>\n",
       "      <td>0.03</td>\n",
       "      <td>10</td>\n",
       "      <td>0.03</td>\n",
       "    </tr>\n",
       "    <tr>\n",
       "      <th>1</th>\n",
       "      <td>ultimate</td>\n",
       "      <td>70</td>\n",
       "      <td>14.285714</td>\n",
       "      <td>438.857143</td>\n",
       "      <td>42.857143</td>\n",
       "      <td>100.000000</td>\n",
       "      <td>142.857143</td>\n",
       "      <td>100.000000</td>\n",
       "      <td>NaN</td>\n",
       "      <td>30720</td>\n",
       "      <td>NaN</td>\n",
       "      <td>0.01</td>\n",
       "      <td>7</td>\n",
       "      <td>0.01</td>\n",
       "    </tr>\n",
       "  </tbody>\n",
       "</table>\n",
       "</div>"
      ],
      "text/plain": [
       "  plan_name  usd_monthly_pay  msg_per_usd_included  mb_per_usd_included  \\\n",
       "0      surf               20              2.500000           768.000000   \n",
       "1  ultimate               70             14.285714           438.857143   \n",
       "\n",
       "   min_per_usd_included  msg_per_usd_extra  mb_per_usd_extra  \\\n",
       "0             25.000000          33.333333        100.000000   \n",
       "1             42.857143         100.000000        142.857143   \n",
       "\n",
       "   min_per_usd_extra  messages_ included  mb_per_month_included  \\\n",
       "0          33.333333                 NaN                  15360   \n",
       "1         100.000000                 NaN                  30720   \n",
       "\n",
       "    minutes_included  usd_per_message  usd_per_gb  usd_per_minute  \n",
       "0                NaN             0.03          10            0.03  \n",
       "1                NaN             0.01           7            0.01  "
      ]
     },
     "execution_count": 169,
     "metadata": {},
     "output_type": "execute_result"
    }
   ],
   "source": [
    "# Rearranging the columns\n",
    "\n",
    "df_plans = df_plans.reindex(columns=['plan_name', 'usd_monthly_pay', 'msg_per_usd_included', 'mb_per_usd_included', 'min_per_usd_included', 'msg_per_usd_extra', 'mb_per_usd_extra', 'min_per_usd_extra', 'messages_ included', 'mb_per_month_included', ' minutes_included', 'usd_per_message', 'usd_per_gb', 'usd_per_minute'])\n",
    "\n",
    "df_plans"
   ]
  },
  {
   "cell_type": "code",
   "execution_count": 170,
   "metadata": {},
   "outputs": [],
   "source": [
    "# Force round all floats to two decimal places for easy viewing\n",
    "\n",
    "df_plans = df_plans.round(2)"
   ]
  },
  {
   "cell_type": "code",
   "execution_count": 171,
   "metadata": {},
   "outputs": [
    {
     "data": {
      "text/html": [
       "<div>\n",
       "<style scoped>\n",
       "    .dataframe tbody tr th:only-of-type {\n",
       "        vertical-align: middle;\n",
       "    }\n",
       "\n",
       "    .dataframe tbody tr th {\n",
       "        vertical-align: top;\n",
       "    }\n",
       "\n",
       "    .dataframe thead th {\n",
       "        text-align: right;\n",
       "    }\n",
       "</style>\n",
       "<table border=\"1\" class=\"dataframe\">\n",
       "  <thead>\n",
       "    <tr style=\"text-align: right;\">\n",
       "      <th></th>\n",
       "      <th>0</th>\n",
       "      <th>1</th>\n",
       "    </tr>\n",
       "  </thead>\n",
       "  <tbody>\n",
       "    <tr>\n",
       "      <th>plan_name</th>\n",
       "      <td>surf</td>\n",
       "      <td>ultimate</td>\n",
       "    </tr>\n",
       "    <tr>\n",
       "      <th>usd_monthly_pay</th>\n",
       "      <td>20</td>\n",
       "      <td>70</td>\n",
       "    </tr>\n",
       "    <tr>\n",
       "      <th>msg_per_usd_included</th>\n",
       "      <td>2.5</td>\n",
       "      <td>14.29</td>\n",
       "    </tr>\n",
       "    <tr>\n",
       "      <th>mb_per_usd_included</th>\n",
       "      <td>768.0</td>\n",
       "      <td>438.86</td>\n",
       "    </tr>\n",
       "    <tr>\n",
       "      <th>min_per_usd_included</th>\n",
       "      <td>25.0</td>\n",
       "      <td>42.86</td>\n",
       "    </tr>\n",
       "    <tr>\n",
       "      <th>msg_per_usd_extra</th>\n",
       "      <td>33.33</td>\n",
       "      <td>100.0</td>\n",
       "    </tr>\n",
       "    <tr>\n",
       "      <th>mb_per_usd_extra</th>\n",
       "      <td>100.0</td>\n",
       "      <td>142.86</td>\n",
       "    </tr>\n",
       "    <tr>\n",
       "      <th>min_per_usd_extra</th>\n",
       "      <td>33.33</td>\n",
       "      <td>100.0</td>\n",
       "    </tr>\n",
       "    <tr>\n",
       "      <th>messages_ included</th>\n",
       "      <td>NaN</td>\n",
       "      <td>NaN</td>\n",
       "    </tr>\n",
       "    <tr>\n",
       "      <th>mb_per_month_included</th>\n",
       "      <td>15360</td>\n",
       "      <td>30720</td>\n",
       "    </tr>\n",
       "    <tr>\n",
       "      <th>minutes_included</th>\n",
       "      <td>NaN</td>\n",
       "      <td>NaN</td>\n",
       "    </tr>\n",
       "    <tr>\n",
       "      <th>usd_per_message</th>\n",
       "      <td>0.03</td>\n",
       "      <td>0.01</td>\n",
       "    </tr>\n",
       "    <tr>\n",
       "      <th>usd_per_gb</th>\n",
       "      <td>10</td>\n",
       "      <td>7</td>\n",
       "    </tr>\n",
       "    <tr>\n",
       "      <th>usd_per_minute</th>\n",
       "      <td>0.03</td>\n",
       "      <td>0.01</td>\n",
       "    </tr>\n",
       "  </tbody>\n",
       "</table>\n",
       "</div>"
      ],
      "text/plain": [
       "                           0         1\n",
       "plan_name               surf  ultimate\n",
       "usd_monthly_pay           20        70\n",
       "msg_per_usd_included     2.5     14.29\n",
       "mb_per_usd_included    768.0    438.86\n",
       "min_per_usd_included    25.0     42.86\n",
       "msg_per_usd_extra      33.33     100.0\n",
       "mb_per_usd_extra       100.0    142.86\n",
       "min_per_usd_extra      33.33     100.0\n",
       "messages_ included       NaN       NaN\n",
       "mb_per_month_included  15360     30720\n",
       " minutes_included        NaN       NaN\n",
       "usd_per_message         0.03      0.01\n",
       "usd_per_gb                10         7\n",
       "usd_per_minute          0.03      0.01"
      ]
     },
     "execution_count": 171,
     "metadata": {},
     "output_type": "execute_result"
    }
   ],
   "source": [
    "# Facilitating the visualization of the table transposing it vertically\n",
    "\n",
    "df_plans = df_plans.transpose()\n",
    "\n",
    "df_plans"
   ]
  },
  {
   "cell_type": "markdown",
   "metadata": {},
   "source": [
    "If a customer chooses to observe how much service he has available **for every dollar** he invests, with these new columns we can see that:\n",
    "* regarding what is **included** in the package, the **surf** plan is more advantageous for those who want **more internet** for every dollar invested while the **ultimate** plan offers more messages and minutes binding for every dollar.\n",
    "\n",
    "\n",
    "* if you reach the included limits, regarding **extra** payments, the most expensive package (ultimate) is the most advantageous because it offers more messages, more megabytes and more call minutes for every dollar.\n",
    "\n",
    "That is, in terms of the amount of service provided for every dollar invested, it is only worth paying for the cheapest plan for customers who prefer more mobile data (than calling and texting) **but** know that **no use more than 15gb** (15360mb)."
   ]
  },
  {
   "cell_type": "markdown",
   "metadata": {},
   "source": [
    "## Users"
   ]
  },
  {
   "cell_type": "code",
   "execution_count": 172,
   "metadata": {},
   "outputs": [
    {
     "name": "stdout",
     "output_type": "stream",
     "text": [
      "<class 'pandas.core.frame.DataFrame'>\n",
      "RangeIndex: 500 entries, 0 to 499\n",
      "Data columns (total 8 columns):\n",
      " #   Column      Non-Null Count  Dtype \n",
      "---  ------      --------------  ----- \n",
      " 0   user_id     500 non-null    int64 \n",
      " 1   first_name  500 non-null    object\n",
      " 2   last_name   500 non-null    object\n",
      " 3   age         500 non-null    int64 \n",
      " 4   city        500 non-null    object\n",
      " 5   reg_date    500 non-null    object\n",
      " 6   plan        500 non-null    object\n",
      " 7   churn_date  34 non-null     object\n",
      "dtypes: int64(2), object(6)\n",
      "memory usage: 31.4+ KB\n"
     ]
    },
    {
     "data": {
      "text/html": [
       "<div>\n",
       "<style scoped>\n",
       "    .dataframe tbody tr th:only-of-type {\n",
       "        vertical-align: middle;\n",
       "    }\n",
       "\n",
       "    .dataframe tbody tr th {\n",
       "        vertical-align: top;\n",
       "    }\n",
       "\n",
       "    .dataframe thead th {\n",
       "        text-align: right;\n",
       "    }\n",
       "</style>\n",
       "<table border=\"1\" class=\"dataframe\">\n",
       "  <thead>\n",
       "    <tr style=\"text-align: right;\">\n",
       "      <th></th>\n",
       "      <th>user_id</th>\n",
       "      <th>age</th>\n",
       "    </tr>\n",
       "  </thead>\n",
       "  <tbody>\n",
       "    <tr>\n",
       "      <th>count</th>\n",
       "      <td>500.000000</td>\n",
       "      <td>500.000000</td>\n",
       "    </tr>\n",
       "    <tr>\n",
       "      <th>mean</th>\n",
       "      <td>1249.500000</td>\n",
       "      <td>45.486000</td>\n",
       "    </tr>\n",
       "    <tr>\n",
       "      <th>std</th>\n",
       "      <td>144.481833</td>\n",
       "      <td>16.972269</td>\n",
       "    </tr>\n",
       "    <tr>\n",
       "      <th>min</th>\n",
       "      <td>1000.000000</td>\n",
       "      <td>18.000000</td>\n",
       "    </tr>\n",
       "    <tr>\n",
       "      <th>25%</th>\n",
       "      <td>1124.750000</td>\n",
       "      <td>30.000000</td>\n",
       "    </tr>\n",
       "    <tr>\n",
       "      <th>50%</th>\n",
       "      <td>1249.500000</td>\n",
       "      <td>46.000000</td>\n",
       "    </tr>\n",
       "    <tr>\n",
       "      <th>75%</th>\n",
       "      <td>1374.250000</td>\n",
       "      <td>61.000000</td>\n",
       "    </tr>\n",
       "    <tr>\n",
       "      <th>max</th>\n",
       "      <td>1499.000000</td>\n",
       "      <td>75.000000</td>\n",
       "    </tr>\n",
       "  </tbody>\n",
       "</table>\n",
       "</div>"
      ],
      "text/plain": [
       "           user_id         age\n",
       "count   500.000000  500.000000\n",
       "mean   1249.500000   45.486000\n",
       "std     144.481833   16.972269\n",
       "min    1000.000000   18.000000\n",
       "25%    1124.750000   30.000000\n",
       "50%    1249.500000   46.000000\n",
       "75%    1374.250000   61.000000\n",
       "max    1499.000000   75.000000"
      ]
     },
     "execution_count": 172,
     "metadata": {},
     "output_type": "execute_result"
    }
   ],
   "source": [
    "# Printing general/summary information about users' DataFrame\n",
    "\n",
    "df_users.info()\n",
    "\n",
    "df_users.describe()"
   ]
  },
  {
   "cell_type": "code",
   "execution_count": 173,
   "metadata": {},
   "outputs": [
    {
     "data": {
      "text/html": [
       "<div>\n",
       "<style scoped>\n",
       "    .dataframe tbody tr th:only-of-type {\n",
       "        vertical-align: middle;\n",
       "    }\n",
       "\n",
       "    .dataframe tbody tr th {\n",
       "        vertical-align: top;\n",
       "    }\n",
       "\n",
       "    .dataframe thead th {\n",
       "        text-align: right;\n",
       "    }\n",
       "</style>\n",
       "<table border=\"1\" class=\"dataframe\">\n",
       "  <thead>\n",
       "    <tr style=\"text-align: right;\">\n",
       "      <th></th>\n",
       "      <th>user_id</th>\n",
       "      <th>first_name</th>\n",
       "      <th>last_name</th>\n",
       "      <th>age</th>\n",
       "      <th>city</th>\n",
       "      <th>reg_date</th>\n",
       "      <th>plan</th>\n",
       "      <th>churn_date</th>\n",
       "    </tr>\n",
       "  </thead>\n",
       "  <tbody>\n",
       "    <tr>\n",
       "      <th>0</th>\n",
       "      <td>1000</td>\n",
       "      <td>Anamaria</td>\n",
       "      <td>Bauer</td>\n",
       "      <td>45</td>\n",
       "      <td>Atlanta-Sandy Springs-Roswell, GA MSA</td>\n",
       "      <td>2018-12-24</td>\n",
       "      <td>ultimate</td>\n",
       "      <td>NaN</td>\n",
       "    </tr>\n",
       "    <tr>\n",
       "      <th>1</th>\n",
       "      <td>1001</td>\n",
       "      <td>Mickey</td>\n",
       "      <td>Wilkerson</td>\n",
       "      <td>28</td>\n",
       "      <td>Seattle-Tacoma-Bellevue, WA MSA</td>\n",
       "      <td>2018-08-13</td>\n",
       "      <td>surf</td>\n",
       "      <td>NaN</td>\n",
       "    </tr>\n",
       "    <tr>\n",
       "      <th>2</th>\n",
       "      <td>1002</td>\n",
       "      <td>Carlee</td>\n",
       "      <td>Hoffman</td>\n",
       "      <td>36</td>\n",
       "      <td>Las Vegas-Henderson-Paradise, NV MSA</td>\n",
       "      <td>2018-10-21</td>\n",
       "      <td>surf</td>\n",
       "      <td>NaN</td>\n",
       "    </tr>\n",
       "    <tr>\n",
       "      <th>3</th>\n",
       "      <td>1003</td>\n",
       "      <td>Reynaldo</td>\n",
       "      <td>Jenkins</td>\n",
       "      <td>52</td>\n",
       "      <td>Tulsa, OK MSA</td>\n",
       "      <td>2018-01-28</td>\n",
       "      <td>surf</td>\n",
       "      <td>NaN</td>\n",
       "    </tr>\n",
       "    <tr>\n",
       "      <th>4</th>\n",
       "      <td>1004</td>\n",
       "      <td>Leonila</td>\n",
       "      <td>Thompson</td>\n",
       "      <td>40</td>\n",
       "      <td>Seattle-Tacoma-Bellevue, WA MSA</td>\n",
       "      <td>2018-05-23</td>\n",
       "      <td>surf</td>\n",
       "      <td>NaN</td>\n",
       "    </tr>\n",
       "  </tbody>\n",
       "</table>\n",
       "</div>"
      ],
      "text/plain": [
       "   user_id first_name  last_name  age                                   city  \\\n",
       "0     1000   Anamaria      Bauer   45  Atlanta-Sandy Springs-Roswell, GA MSA   \n",
       "1     1001     Mickey  Wilkerson   28        Seattle-Tacoma-Bellevue, WA MSA   \n",
       "2     1002     Carlee    Hoffman   36   Las Vegas-Henderson-Paradise, NV MSA   \n",
       "3     1003   Reynaldo    Jenkins   52                          Tulsa, OK MSA   \n",
       "4     1004    Leonila   Thompson   40        Seattle-Tacoma-Bellevue, WA MSA   \n",
       "\n",
       "     reg_date      plan churn_date  \n",
       "0  2018-12-24  ultimate        NaN  \n",
       "1  2018-08-13      surf        NaN  \n",
       "2  2018-10-21      surf        NaN  \n",
       "3  2018-01-28      surf        NaN  \n",
       "4  2018-05-23      surf        NaN  "
      ]
     },
     "execution_count": 173,
     "metadata": {},
     "output_type": "execute_result"
    }
   ],
   "source": [
    "# Printing sample data for users\n",
    "\n",
    "df_users.head()"
   ]
  },
  {
   "cell_type": "markdown",
   "metadata": {},
   "source": [
    "✅ column names\n",
    "\n",
    "🟩 `churn_date` has 466 nan values\n",
    "\n",
    "🟩 data types: change `churn_date` and `reg_date` from object to datetime\n",
    "\n",
    "Considering a dataset collected over the year 2018 in which no column has missing data other than `churn_date`, it means that these NaN indicate users who have not canceled the service with the operator.\n",
    "\n",
    "Let's do more research to estimate the possible dates we can substitute so that we can enrich our data and make sure its types are **datetime**."
   ]
  },
  {
   "cell_type": "markdown",
   "metadata": {},
   "source": [
    " "
   ]
  },
  {
   "cell_type": "markdown",
   "metadata": {},
   "source": [
    "### Correcting the data"
   ]
  },
  {
   "cell_type": "markdown",
   "metadata": {},
   "source": [
    "Let's look for the first and last dates of customer registration and analyze them:"
   ]
  },
  {
   "cell_type": "code",
   "execution_count": 174,
   "metadata": {},
   "outputs": [
    {
     "data": {
      "text/html": [
       "<div>\n",
       "<style scoped>\n",
       "    .dataframe tbody tr th:only-of-type {\n",
       "        vertical-align: middle;\n",
       "    }\n",
       "\n",
       "    .dataframe tbody tr th {\n",
       "        vertical-align: top;\n",
       "    }\n",
       "\n",
       "    .dataframe thead th {\n",
       "        text-align: right;\n",
       "    }\n",
       "</style>\n",
       "<table border=\"1\" class=\"dataframe\">\n",
       "  <thead>\n",
       "    <tr style=\"text-align: right;\">\n",
       "      <th></th>\n",
       "      <th>user_id</th>\n",
       "      <th>first_name</th>\n",
       "      <th>last_name</th>\n",
       "      <th>age</th>\n",
       "      <th>city</th>\n",
       "      <th>reg_date</th>\n",
       "      <th>plan</th>\n",
       "      <th>churn_date</th>\n",
       "    </tr>\n",
       "  </thead>\n",
       "  <tbody>\n",
       "    <tr>\n",
       "      <th>482</th>\n",
       "      <td>1482</td>\n",
       "      <td>Armand</td>\n",
       "      <td>Glenn</td>\n",
       "      <td>70</td>\n",
       "      <td>New York-Newark-Jersey City, NY-NJ-PA MSA</td>\n",
       "      <td>2018-01-01</td>\n",
       "      <td>ultimate</td>\n",
       "      <td>NaN</td>\n",
       "    </tr>\n",
       "    <tr>\n",
       "      <th>214</th>\n",
       "      <td>1214</td>\n",
       "      <td>Emil</td>\n",
       "      <td>Robles</td>\n",
       "      <td>34</td>\n",
       "      <td>San Francisco-Oakland-Berkeley, CA MSA</td>\n",
       "      <td>2018-01-01</td>\n",
       "      <td>ultimate</td>\n",
       "      <td>NaN</td>\n",
       "    </tr>\n",
       "    <tr>\n",
       "      <th>251</th>\n",
       "      <td>1251</td>\n",
       "      <td>Tifany</td>\n",
       "      <td>Mcgee</td>\n",
       "      <td>45</td>\n",
       "      <td>New York-Newark-Jersey City, NY-NJ-PA MSA</td>\n",
       "      <td>2018-01-01</td>\n",
       "      <td>surf</td>\n",
       "      <td>NaN</td>\n",
       "    </tr>\n",
       "    <tr>\n",
       "      <th>301</th>\n",
       "      <td>1301</td>\n",
       "      <td>Tomas</td>\n",
       "      <td>Horton</td>\n",
       "      <td>64</td>\n",
       "      <td>Chicago-Naperville-Elgin, IL-IN-WI MSA</td>\n",
       "      <td>2018-01-04</td>\n",
       "      <td>ultimate</td>\n",
       "      <td>NaN</td>\n",
       "    </tr>\n",
       "    <tr>\n",
       "      <th>439</th>\n",
       "      <td>1439</td>\n",
       "      <td>Moses</td>\n",
       "      <td>Cabrera</td>\n",
       "      <td>28</td>\n",
       "      <td>Riverside-San Bernardino-Ontario, CA MSA</td>\n",
       "      <td>2018-01-04</td>\n",
       "      <td>surf</td>\n",
       "      <td>NaN</td>\n",
       "    </tr>\n",
       "  </tbody>\n",
       "</table>\n",
       "</div>"
      ],
      "text/plain": [
       "     user_id first_name last_name  age  \\\n",
       "482     1482     Armand     Glenn   70   \n",
       "214     1214       Emil    Robles   34   \n",
       "251     1251     Tifany     Mcgee   45   \n",
       "301     1301      Tomas    Horton   64   \n",
       "439     1439      Moses   Cabrera   28   \n",
       "\n",
       "                                          city    reg_date      plan  \\\n",
       "482  New York-Newark-Jersey City, NY-NJ-PA MSA  2018-01-01  ultimate   \n",
       "214     San Francisco-Oakland-Berkeley, CA MSA  2018-01-01  ultimate   \n",
       "251  New York-Newark-Jersey City, NY-NJ-PA MSA  2018-01-01      surf   \n",
       "301     Chicago-Naperville-Elgin, IL-IN-WI MSA  2018-01-04  ultimate   \n",
       "439   Riverside-San Bernardino-Ontario, CA MSA  2018-01-04      surf   \n",
       "\n",
       "    churn_date  \n",
       "482        NaN  \n",
       "214        NaN  \n",
       "251        NaN  \n",
       "301        NaN  \n",
       "439        NaN  "
      ]
     },
     "execution_count": 174,
     "metadata": {},
     "output_type": "execute_result"
    }
   ],
   "source": [
    "# Printing a data sample for the first registered users of the year\n",
    "\n",
    "df_users.sort_values(by='reg_date', ascending=True).head()"
   ]
  },
  {
   "cell_type": "code",
   "execution_count": 175,
   "metadata": {},
   "outputs": [
    {
     "data": {
      "text/html": [
       "<div>\n",
       "<style scoped>\n",
       "    .dataframe tbody tr th:only-of-type {\n",
       "        vertical-align: middle;\n",
       "    }\n",
       "\n",
       "    .dataframe tbody tr th {\n",
       "        vertical-align: top;\n",
       "    }\n",
       "\n",
       "    .dataframe thead th {\n",
       "        text-align: right;\n",
       "    }\n",
       "</style>\n",
       "<table border=\"1\" class=\"dataframe\">\n",
       "  <thead>\n",
       "    <tr style=\"text-align: right;\">\n",
       "      <th></th>\n",
       "      <th>user_id</th>\n",
       "      <th>first_name</th>\n",
       "      <th>last_name</th>\n",
       "      <th>age</th>\n",
       "      <th>city</th>\n",
       "      <th>reg_date</th>\n",
       "      <th>plan</th>\n",
       "      <th>churn_date</th>\n",
       "    </tr>\n",
       "  </thead>\n",
       "  <tbody>\n",
       "    <tr>\n",
       "      <th>473</th>\n",
       "      <td>1473</td>\n",
       "      <td>Kirk</td>\n",
       "      <td>Velez</td>\n",
       "      <td>61</td>\n",
       "      <td>Louisville/Jefferson County, KY-IN MSA</td>\n",
       "      <td>2018-12-31</td>\n",
       "      <td>surf</td>\n",
       "      <td>NaN</td>\n",
       "    </tr>\n",
       "    <tr>\n",
       "      <th>307</th>\n",
       "      <td>1307</td>\n",
       "      <td>Kristopher</td>\n",
       "      <td>Lang</td>\n",
       "      <td>28</td>\n",
       "      <td>Boston-Cambridge-Newton, MA-NH MSA</td>\n",
       "      <td>2018-12-31</td>\n",
       "      <td>surf</td>\n",
       "      <td>NaN</td>\n",
       "    </tr>\n",
       "    <tr>\n",
       "      <th>323</th>\n",
       "      <td>1323</td>\n",
       "      <td>Pamelia</td>\n",
       "      <td>Atkins</td>\n",
       "      <td>42</td>\n",
       "      <td>Baltimore-Columbia-Towson, MD MSA</td>\n",
       "      <td>2018-12-30</td>\n",
       "      <td>surf</td>\n",
       "      <td>NaN</td>\n",
       "    </tr>\n",
       "    <tr>\n",
       "      <th>108</th>\n",
       "      <td>1108</td>\n",
       "      <td>Porfirio</td>\n",
       "      <td>Kane</td>\n",
       "      <td>45</td>\n",
       "      <td>Salt Lake City, UT MSA</td>\n",
       "      <td>2018-12-30</td>\n",
       "      <td>ultimate</td>\n",
       "      <td>NaN</td>\n",
       "    </tr>\n",
       "    <tr>\n",
       "      <th>452</th>\n",
       "      <td>1452</td>\n",
       "      <td>Miguel</td>\n",
       "      <td>Sparks</td>\n",
       "      <td>32</td>\n",
       "      <td>Tucson, AZ MSA</td>\n",
       "      <td>2018-12-29</td>\n",
       "      <td>surf</td>\n",
       "      <td>NaN</td>\n",
       "    </tr>\n",
       "  </tbody>\n",
       "</table>\n",
       "</div>"
      ],
      "text/plain": [
       "     user_id  first_name last_name  age  \\\n",
       "473     1473        Kirk     Velez   61   \n",
       "307     1307  Kristopher      Lang   28   \n",
       "323     1323     Pamelia    Atkins   42   \n",
       "108     1108    Porfirio      Kane   45   \n",
       "452     1452      Miguel    Sparks   32   \n",
       "\n",
       "                                       city    reg_date      plan churn_date  \n",
       "473  Louisville/Jefferson County, KY-IN MSA  2018-12-31      surf        NaN  \n",
       "307      Boston-Cambridge-Newton, MA-NH MSA  2018-12-31      surf        NaN  \n",
       "323       Baltimore-Columbia-Towson, MD MSA  2018-12-30      surf        NaN  \n",
       "108                  Salt Lake City, UT MSA  2018-12-30  ultimate        NaN  \n",
       "452                          Tucson, AZ MSA  2018-12-29      surf        NaN  "
      ]
     },
     "execution_count": 175,
     "metadata": {},
     "output_type": "execute_result"
    }
   ],
   "source": [
    "# Printing a data sample for the last registered users in the year\n",
    "\n",
    "df_users.sort_values(by='reg_date', ascending=False).head()"
   ]
  },
  {
   "cell_type": "markdown",
   "metadata": {},
   "source": [
    "Now for the 34 customers who canceled the service, let's see what the last dates of these processes were:"
   ]
  },
  {
   "cell_type": "code",
   "execution_count": 176,
   "metadata": {},
   "outputs": [
    {
     "data": {
      "text/html": [
       "<div>\n",
       "<style scoped>\n",
       "    .dataframe tbody tr th:only-of-type {\n",
       "        vertical-align: middle;\n",
       "    }\n",
       "\n",
       "    .dataframe tbody tr th {\n",
       "        vertical-align: top;\n",
       "    }\n",
       "\n",
       "    .dataframe thead th {\n",
       "        text-align: right;\n",
       "    }\n",
       "</style>\n",
       "<table border=\"1\" class=\"dataframe\">\n",
       "  <thead>\n",
       "    <tr style=\"text-align: right;\">\n",
       "      <th></th>\n",
       "      <th>user_id</th>\n",
       "      <th>first_name</th>\n",
       "      <th>last_name</th>\n",
       "      <th>age</th>\n",
       "      <th>city</th>\n",
       "      <th>reg_date</th>\n",
       "      <th>plan</th>\n",
       "      <th>churn_date</th>\n",
       "    </tr>\n",
       "  </thead>\n",
       "  <tbody>\n",
       "    <tr>\n",
       "      <th>54</th>\n",
       "      <td>1054</td>\n",
       "      <td>Denis</td>\n",
       "      <td>Frost</td>\n",
       "      <td>50</td>\n",
       "      <td>Phoenix-Mesa-Chandler, AZ MSA</td>\n",
       "      <td>2018-04-21</td>\n",
       "      <td>surf</td>\n",
       "      <td>2018-12-31</td>\n",
       "    </tr>\n",
       "    <tr>\n",
       "      <th>186</th>\n",
       "      <td>1186</td>\n",
       "      <td>Josiah</td>\n",
       "      <td>Douglas</td>\n",
       "      <td>55</td>\n",
       "      <td>Las Vegas-Henderson-Paradise, NV MSA</td>\n",
       "      <td>2018-12-22</td>\n",
       "      <td>ultimate</td>\n",
       "      <td>2018-12-31</td>\n",
       "    </tr>\n",
       "    <tr>\n",
       "      <th>40</th>\n",
       "      <td>1040</td>\n",
       "      <td>Paris</td>\n",
       "      <td>Santos</td>\n",
       "      <td>72</td>\n",
       "      <td>Philadelphia-Camden-Wilmington, PA-NJ-DE-MD MSA</td>\n",
       "      <td>2018-12-23</td>\n",
       "      <td>surf</td>\n",
       "      <td>2018-12-30</td>\n",
       "    </tr>\n",
       "    <tr>\n",
       "      <th>129</th>\n",
       "      <td>1129</td>\n",
       "      <td>Marin</td>\n",
       "      <td>Bolton</td>\n",
       "      <td>70</td>\n",
       "      <td>Baton Rouge, LA MSA</td>\n",
       "      <td>2018-11-10</td>\n",
       "      <td>surf</td>\n",
       "      <td>2018-12-27</td>\n",
       "    </tr>\n",
       "    <tr>\n",
       "      <th>402</th>\n",
       "      <td>1402</td>\n",
       "      <td>Jesus</td>\n",
       "      <td>Berry</td>\n",
       "      <td>25</td>\n",
       "      <td>New York-Newark-Jersey City, NY-NJ-PA MSA</td>\n",
       "      <td>2018-06-11</td>\n",
       "      <td>surf</td>\n",
       "      <td>2018-12-26</td>\n",
       "    </tr>\n",
       "  </tbody>\n",
       "</table>\n",
       "</div>"
      ],
      "text/plain": [
       "     user_id first_name last_name  age  \\\n",
       "54      1054      Denis     Frost   50   \n",
       "186     1186     Josiah   Douglas   55   \n",
       "40      1040      Paris    Santos   72   \n",
       "129     1129      Marin    Bolton   70   \n",
       "402     1402      Jesus     Berry   25   \n",
       "\n",
       "                                                city    reg_date      plan  \\\n",
       "54                     Phoenix-Mesa-Chandler, AZ MSA  2018-04-21      surf   \n",
       "186             Las Vegas-Henderson-Paradise, NV MSA  2018-12-22  ultimate   \n",
       "40   Philadelphia-Camden-Wilmington, PA-NJ-DE-MD MSA  2018-12-23      surf   \n",
       "129                              Baton Rouge, LA MSA  2018-11-10      surf   \n",
       "402        New York-Newark-Jersey City, NY-NJ-PA MSA  2018-06-11      surf   \n",
       "\n",
       "     churn_date  \n",
       "54   2018-12-31  \n",
       "186  2018-12-31  \n",
       "40   2018-12-30  \n",
       "129  2018-12-27  \n",
       "402  2018-12-26  "
      ]
     },
     "execution_count": 176,
     "metadata": {},
     "output_type": "execute_result"
    }
   ],
   "source": [
    "# Printing a sample data for the last contract cancellations of the year\n",
    "\n",
    "df_users.sort_values(by='churn_date', ascending=False).head()"
   ]
  },
  {
   "cell_type": "markdown",
   "metadata": {},
   "source": [
    "In both cases, **registration date** and **cancellation date**, the data does not show data collected beyond the year 2018.\n",
    "\n",
    "We can then confirm that, so that they don't end up with missing values, we will first create a **boolean** column differentiating active and non-active customers (make this column \"immutable\"), and then replace the absent ones with the last date of the year 2018 (2018-12-31).\n",
    "\n",
    "Then we convert the data types of both columns to **datetime**."
   ]
  },
  {
   "cell_type": "code",
   "execution_count": 177,
   "metadata": {},
   "outputs": [
    {
     "data": {
      "text/html": [
       "<div>\n",
       "<style scoped>\n",
       "    .dataframe tbody tr th:only-of-type {\n",
       "        vertical-align: middle;\n",
       "    }\n",
       "\n",
       "    .dataframe tbody tr th {\n",
       "        vertical-align: top;\n",
       "    }\n",
       "\n",
       "    .dataframe thead th {\n",
       "        text-align: right;\n",
       "    }\n",
       "</style>\n",
       "<table border=\"1\" class=\"dataframe\">\n",
       "  <thead>\n",
       "    <tr style=\"text-align: right;\">\n",
       "      <th></th>\n",
       "      <th>user_id</th>\n",
       "      <th>first_name</th>\n",
       "      <th>last_name</th>\n",
       "      <th>age</th>\n",
       "      <th>city</th>\n",
       "      <th>reg_date</th>\n",
       "      <th>plan</th>\n",
       "      <th>churn_date</th>\n",
       "      <th>active</th>\n",
       "    </tr>\n",
       "  </thead>\n",
       "  <tbody>\n",
       "    <tr>\n",
       "      <th>0</th>\n",
       "      <td>1000</td>\n",
       "      <td>Anamaria</td>\n",
       "      <td>Bauer</td>\n",
       "      <td>45</td>\n",
       "      <td>Atlanta-Sandy Springs-Roswell, GA MSA</td>\n",
       "      <td>2018-12-24</td>\n",
       "      <td>ultimate</td>\n",
       "      <td>NaN</td>\n",
       "      <td>1</td>\n",
       "    </tr>\n",
       "    <tr>\n",
       "      <th>1</th>\n",
       "      <td>1001</td>\n",
       "      <td>Mickey</td>\n",
       "      <td>Wilkerson</td>\n",
       "      <td>28</td>\n",
       "      <td>Seattle-Tacoma-Bellevue, WA MSA</td>\n",
       "      <td>2018-08-13</td>\n",
       "      <td>surf</td>\n",
       "      <td>NaN</td>\n",
       "      <td>1</td>\n",
       "    </tr>\n",
       "    <tr>\n",
       "      <th>2</th>\n",
       "      <td>1002</td>\n",
       "      <td>Carlee</td>\n",
       "      <td>Hoffman</td>\n",
       "      <td>36</td>\n",
       "      <td>Las Vegas-Henderson-Paradise, NV MSA</td>\n",
       "      <td>2018-10-21</td>\n",
       "      <td>surf</td>\n",
       "      <td>NaN</td>\n",
       "      <td>1</td>\n",
       "    </tr>\n",
       "    <tr>\n",
       "      <th>3</th>\n",
       "      <td>1003</td>\n",
       "      <td>Reynaldo</td>\n",
       "      <td>Jenkins</td>\n",
       "      <td>52</td>\n",
       "      <td>Tulsa, OK MSA</td>\n",
       "      <td>2018-01-28</td>\n",
       "      <td>surf</td>\n",
       "      <td>NaN</td>\n",
       "      <td>1</td>\n",
       "    </tr>\n",
       "    <tr>\n",
       "      <th>4</th>\n",
       "      <td>1004</td>\n",
       "      <td>Leonila</td>\n",
       "      <td>Thompson</td>\n",
       "      <td>40</td>\n",
       "      <td>Seattle-Tacoma-Bellevue, WA MSA</td>\n",
       "      <td>2018-05-23</td>\n",
       "      <td>surf</td>\n",
       "      <td>NaN</td>\n",
       "      <td>1</td>\n",
       "    </tr>\n",
       "  </tbody>\n",
       "</table>\n",
       "</div>"
      ],
      "text/plain": [
       "   user_id first_name  last_name  age                                   city  \\\n",
       "0     1000   Anamaria      Bauer   45  Atlanta-Sandy Springs-Roswell, GA MSA   \n",
       "1     1001     Mickey  Wilkerson   28        Seattle-Tacoma-Bellevue, WA MSA   \n",
       "2     1002     Carlee    Hoffman   36   Las Vegas-Henderson-Paradise, NV MSA   \n",
       "3     1003   Reynaldo    Jenkins   52                          Tulsa, OK MSA   \n",
       "4     1004    Leonila   Thompson   40        Seattle-Tacoma-Bellevue, WA MSA   \n",
       "\n",
       "     reg_date      plan churn_date  active  \n",
       "0  2018-12-24  ultimate        NaN       1  \n",
       "1  2018-08-13      surf        NaN       1  \n",
       "2  2018-10-21      surf        NaN       1  \n",
       "3  2018-01-28      surf        NaN       1  \n",
       "4  2018-05-23      surf        NaN       1  "
      ]
     },
     "execution_count": 177,
     "metadata": {},
     "output_type": "execute_result"
    }
   ],
   "source": [
    "# Creating a new \"active\" column that differentiates active and non-active clients\n",
    "\n",
    "df_users['active'] = df_users['churn_date'].isna().astype(int)\n",
    "\n",
    "# Making this column \"read-only\", so it doesn't change when new dates are added later\n",
    "\n",
    "df_users['active'].flags.writeable = False\n",
    "\n",
    "# Checking the first five lines\n",
    "\n",
    "df_users.head()"
   ]
  },
  {
   "cell_type": "code",
   "execution_count": 178,
   "metadata": {},
   "outputs": [
    {
     "data": {
      "text/html": [
       "<div>\n",
       "<style scoped>\n",
       "    .dataframe tbody tr th:only-of-type {\n",
       "        vertical-align: middle;\n",
       "    }\n",
       "\n",
       "    .dataframe tbody tr th {\n",
       "        vertical-align: top;\n",
       "    }\n",
       "\n",
       "    .dataframe thead th {\n",
       "        text-align: right;\n",
       "    }\n",
       "</style>\n",
       "<table border=\"1\" class=\"dataframe\">\n",
       "  <thead>\n",
       "    <tr style=\"text-align: right;\">\n",
       "      <th></th>\n",
       "      <th>user_id</th>\n",
       "      <th>first_name</th>\n",
       "      <th>last_name</th>\n",
       "      <th>age</th>\n",
       "      <th>city</th>\n",
       "      <th>reg_date</th>\n",
       "      <th>plan</th>\n",
       "      <th>churn_date</th>\n",
       "      <th>active</th>\n",
       "    </tr>\n",
       "  </thead>\n",
       "  <tbody>\n",
       "  </tbody>\n",
       "</table>\n",
       "</div>"
      ],
      "text/plain": [
       "Empty DataFrame\n",
       "Columns: [user_id, first_name, last_name, age, city, reg_date, plan, churn_date, active]\n",
       "Index: []"
      ]
     },
     "execution_count": 178,
     "metadata": {},
     "output_type": "execute_result"
    }
   ],
   "source": [
    "# Replacing the missing dates in \"churn_date\" with the last date of the year 2018 (2018-12-31)\n",
    "\n",
    "df_users['churn_date'].fillna('2018-12-31', inplace=True)\n",
    "\n",
    "# Displaying the rows that still have missing values in 'churn_date' for checking\n",
    "\n",
    "df_users[df_users['churn_date'].isna()]"
   ]
  },
  {
   "cell_type": "code",
   "execution_count": 179,
   "metadata": {},
   "outputs": [
    {
     "name": "stdout",
     "output_type": "stream",
     "text": [
      "<class 'pandas.core.frame.DataFrame'>\n",
      "RangeIndex: 500 entries, 0 to 499\n",
      "Data columns (total 9 columns):\n",
      " #   Column      Non-Null Count  Dtype         \n",
      "---  ------      --------------  -----         \n",
      " 0   user_id     500 non-null    int64         \n",
      " 1   first_name  500 non-null    object        \n",
      " 2   last_name   500 non-null    object        \n",
      " 3   age         500 non-null    int64         \n",
      " 4   city        500 non-null    object        \n",
      " 5   reg_date    500 non-null    datetime64[ns]\n",
      " 6   plan        500 non-null    object        \n",
      " 7   churn_date  500 non-null    datetime64[ns]\n",
      " 8   active      500 non-null    int64         \n",
      "dtypes: datetime64[ns](2), int64(3), object(4)\n",
      "memory usage: 35.3+ KB\n"
     ]
    }
   ],
   "source": [
    "# Converting 'reg_date' and 'churn_date' to datetime type and checking the result\n",
    "\n",
    "df_users['reg_date'] = pd.to_datetime(df_users['reg_date'])\n",
    "\n",
    "df_users['churn_date'] = pd.to_datetime(df_users['churn_date'])\n",
    "\n",
    "df_users.info()"
   ]
  },
  {
   "cell_type": "markdown",
   "metadata": {},
   "source": [
    "### Enriching the data"
   ]
  },
  {
   "cell_type": "markdown",
   "metadata": {},
   "source": [
    "In addition to having already enriched our table by adding a column of active and non-active customers, now"
   ]
  },
  {
   "cell_type": "code",
   "execution_count": 180,
   "metadata": {},
   "outputs": [
    {
     "data": {
      "text/html": [
       "<div>\n",
       "<style scoped>\n",
       "    .dataframe tbody tr th:only-of-type {\n",
       "        vertical-align: middle;\n",
       "    }\n",
       "\n",
       "    .dataframe tbody tr th {\n",
       "        vertical-align: top;\n",
       "    }\n",
       "\n",
       "    .dataframe thead th {\n",
       "        text-align: right;\n",
       "    }\n",
       "</style>\n",
       "<table border=\"1\" class=\"dataframe\">\n",
       "  <thead>\n",
       "    <tr style=\"text-align: right;\">\n",
       "      <th></th>\n",
       "      <th>user_id</th>\n",
       "      <th>first_name</th>\n",
       "      <th>last_name</th>\n",
       "      <th>age</th>\n",
       "      <th>city</th>\n",
       "      <th>reg_date</th>\n",
       "      <th>plan</th>\n",
       "      <th>churn_date</th>\n",
       "      <th>active</th>\n",
       "      <th>duration</th>\n",
       "    </tr>\n",
       "  </thead>\n",
       "  <tbody>\n",
       "    <tr>\n",
       "      <th>473</th>\n",
       "      <td>1473</td>\n",
       "      <td>Kirk</td>\n",
       "      <td>Velez</td>\n",
       "      <td>61</td>\n",
       "      <td>Louisville/Jefferson County, KY-IN MSA</td>\n",
       "      <td>2018-12-31</td>\n",
       "      <td>surf</td>\n",
       "      <td>2018-12-31</td>\n",
       "      <td>1</td>\n",
       "      <td>0</td>\n",
       "    </tr>\n",
       "    <tr>\n",
       "      <th>307</th>\n",
       "      <td>1307</td>\n",
       "      <td>Kristopher</td>\n",
       "      <td>Lang</td>\n",
       "      <td>28</td>\n",
       "      <td>Boston-Cambridge-Newton, MA-NH MSA</td>\n",
       "      <td>2018-12-31</td>\n",
       "      <td>surf</td>\n",
       "      <td>2018-12-31</td>\n",
       "      <td>1</td>\n",
       "      <td>0</td>\n",
       "    </tr>\n",
       "    <tr>\n",
       "      <th>108</th>\n",
       "      <td>1108</td>\n",
       "      <td>Porfirio</td>\n",
       "      <td>Kane</td>\n",
       "      <td>45</td>\n",
       "      <td>Salt Lake City, UT MSA</td>\n",
       "      <td>2018-12-30</td>\n",
       "      <td>ultimate</td>\n",
       "      <td>2018-12-31</td>\n",
       "      <td>1</td>\n",
       "      <td>1</td>\n",
       "    </tr>\n",
       "    <tr>\n",
       "      <th>323</th>\n",
       "      <td>1323</td>\n",
       "      <td>Pamelia</td>\n",
       "      <td>Atkins</td>\n",
       "      <td>42</td>\n",
       "      <td>Baltimore-Columbia-Towson, MD MSA</td>\n",
       "      <td>2018-12-30</td>\n",
       "      <td>surf</td>\n",
       "      <td>2018-12-31</td>\n",
       "      <td>1</td>\n",
       "      <td>1</td>\n",
       "    </tr>\n",
       "    <tr>\n",
       "      <th>452</th>\n",
       "      <td>1452</td>\n",
       "      <td>Miguel</td>\n",
       "      <td>Sparks</td>\n",
       "      <td>32</td>\n",
       "      <td>Tucson, AZ MSA</td>\n",
       "      <td>2018-12-29</td>\n",
       "      <td>surf</td>\n",
       "      <td>2018-12-31</td>\n",
       "      <td>1</td>\n",
       "      <td>2</td>\n",
       "    </tr>\n",
       "    <tr>\n",
       "      <th>481</th>\n",
       "      <td>1481</td>\n",
       "      <td>Roni</td>\n",
       "      <td>Frye</td>\n",
       "      <td>32</td>\n",
       "      <td>Urban Honolulu, HI MSA</td>\n",
       "      <td>2018-12-27</td>\n",
       "      <td>surf</td>\n",
       "      <td>2018-12-31</td>\n",
       "      <td>1</td>\n",
       "      <td>4</td>\n",
       "    </tr>\n",
       "    <tr>\n",
       "      <th>344</th>\n",
       "      <td>1344</td>\n",
       "      <td>Hugo</td>\n",
       "      <td>Daugherty</td>\n",
       "      <td>70</td>\n",
       "      <td>New York-Newark-Jersey City, NY-NJ-PA MSA</td>\n",
       "      <td>2018-12-25</td>\n",
       "      <td>surf</td>\n",
       "      <td>2018-12-31</td>\n",
       "      <td>1</td>\n",
       "      <td>6</td>\n",
       "    </tr>\n",
       "    <tr>\n",
       "      <th>0</th>\n",
       "      <td>1000</td>\n",
       "      <td>Anamaria</td>\n",
       "      <td>Bauer</td>\n",
       "      <td>45</td>\n",
       "      <td>Atlanta-Sandy Springs-Roswell, GA MSA</td>\n",
       "      <td>2018-12-24</td>\n",
       "      <td>ultimate</td>\n",
       "      <td>2018-12-31</td>\n",
       "      <td>1</td>\n",
       "      <td>7</td>\n",
       "    </tr>\n",
       "    <tr>\n",
       "      <th>40</th>\n",
       "      <td>1040</td>\n",
       "      <td>Paris</td>\n",
       "      <td>Santos</td>\n",
       "      <td>72</td>\n",
       "      <td>Philadelphia-Camden-Wilmington, PA-NJ-DE-MD MSA</td>\n",
       "      <td>2018-12-23</td>\n",
       "      <td>surf</td>\n",
       "      <td>2018-12-30</td>\n",
       "      <td>0</td>\n",
       "      <td>7</td>\n",
       "    </tr>\n",
       "    <tr>\n",
       "      <th>135</th>\n",
       "      <td>1135</td>\n",
       "      <td>Scotty</td>\n",
       "      <td>White</td>\n",
       "      <td>51</td>\n",
       "      <td>Miami-Fort Lauderdale-West Palm Beach, FL MSA</td>\n",
       "      <td>2018-12-23</td>\n",
       "      <td>ultimate</td>\n",
       "      <td>2018-12-31</td>\n",
       "      <td>1</td>\n",
       "      <td>8</td>\n",
       "    </tr>\n",
       "  </tbody>\n",
       "</table>\n",
       "</div>"
      ],
      "text/plain": [
       "     user_id  first_name  last_name  age  \\\n",
       "473     1473        Kirk      Velez   61   \n",
       "307     1307  Kristopher       Lang   28   \n",
       "108     1108    Porfirio       Kane   45   \n",
       "323     1323     Pamelia     Atkins   42   \n",
       "452     1452      Miguel     Sparks   32   \n",
       "481     1481        Roni       Frye   32   \n",
       "344     1344        Hugo  Daugherty   70   \n",
       "0       1000    Anamaria      Bauer   45   \n",
       "40      1040       Paris     Santos   72   \n",
       "135     1135      Scotty      White   51   \n",
       "\n",
       "                                                city   reg_date      plan  \\\n",
       "473           Louisville/Jefferson County, KY-IN MSA 2018-12-31      surf   \n",
       "307               Boston-Cambridge-Newton, MA-NH MSA 2018-12-31      surf   \n",
       "108                           Salt Lake City, UT MSA 2018-12-30  ultimate   \n",
       "323                Baltimore-Columbia-Towson, MD MSA 2018-12-30      surf   \n",
       "452                                   Tucson, AZ MSA 2018-12-29      surf   \n",
       "481                           Urban Honolulu, HI MSA 2018-12-27      surf   \n",
       "344        New York-Newark-Jersey City, NY-NJ-PA MSA 2018-12-25      surf   \n",
       "0              Atlanta-Sandy Springs-Roswell, GA MSA 2018-12-24  ultimate   \n",
       "40   Philadelphia-Camden-Wilmington, PA-NJ-DE-MD MSA 2018-12-23      surf   \n",
       "135    Miami-Fort Lauderdale-West Palm Beach, FL MSA 2018-12-23  ultimate   \n",
       "\n",
       "    churn_date  active  duration  \n",
       "473 2018-12-31       1         0  \n",
       "307 2018-12-31       1         0  \n",
       "108 2018-12-31       1         1  \n",
       "323 2018-12-31       1         1  \n",
       "452 2018-12-31       1         2  \n",
       "481 2018-12-31       1         4  \n",
       "344 2018-12-31       1         6  \n",
       "0   2018-12-31       1         7  \n",
       "40  2018-12-30       0         7  \n",
       "135 2018-12-31       1         8  "
      ]
     },
     "execution_count": 180,
     "metadata": {},
     "output_type": "execute_result"
    }
   ],
   "source": [
    "# Creating the new 'duration' column to calculate the duration between registration date and usage end date\n",
    "\n",
    "df_users['duration'] = (df_users['churn_date'] - df_users['reg_date']).dt.days\n",
    "\n",
    "df_users.sort_values(by='duration', ascending=True).head(10)"
   ]
  },
  {
   "cell_type": "markdown",
   "metadata": {},
   "source": [
    "Now we have the data ready to later analyze the retention level by `plan`."
   ]
  },
  {
   "cell_type": "markdown",
   "metadata": {},
   "source": [
    "## Calls"
   ]
  },
  {
   "cell_type": "code",
   "execution_count": 181,
   "metadata": {},
   "outputs": [
    {
     "name": "stdout",
     "output_type": "stream",
     "text": [
      "<class 'pandas.core.frame.DataFrame'>\n",
      "RangeIndex: 137735 entries, 0 to 137734\n",
      "Data columns (total 4 columns):\n",
      " #   Column     Non-Null Count   Dtype  \n",
      "---  ------     --------------   -----  \n",
      " 0   id         137735 non-null  object \n",
      " 1   user_id    137735 non-null  int64  \n",
      " 2   call_date  137735 non-null  object \n",
      " 3   duration   137735 non-null  float64\n",
      "dtypes: float64(1), int64(1), object(2)\n",
      "memory usage: 4.2+ MB\n"
     ]
    },
    {
     "data": {
      "text/plain": [
       "<bound method NDFrame.describe of               id  user_id   call_date  duration\n",
       "0        1000_93     1000  2018-12-27      8.52\n",
       "1       1000_145     1000  2018-12-27     13.66\n",
       "2       1000_247     1000  2018-12-27     14.48\n",
       "3       1000_309     1000  2018-12-28      5.76\n",
       "4       1000_380     1000  2018-12-30      4.22\n",
       "...          ...      ...         ...       ...\n",
       "137730  1499_199     1499  2018-11-21      8.72\n",
       "137731  1499_200     1499  2018-10-20     10.89\n",
       "137732  1499_201     1499  2018-09-21      8.12\n",
       "137733  1499_202     1499  2018-10-10      0.37\n",
       "137734  1499_203     1499  2018-12-29     13.86\n",
       "\n",
       "[137735 rows x 4 columns]>"
      ]
     },
     "execution_count": 181,
     "metadata": {},
     "output_type": "execute_result"
    }
   ],
   "source": [
    "# Printing general/summary information about the calls DataFrame\n",
    "\n",
    "df_calls.info()\n",
    "\n",
    "df_calls.describe"
   ]
  },
  {
   "cell_type": "code",
   "execution_count": 182,
   "metadata": {},
   "outputs": [
    {
     "data": {
      "text/html": [
       "<div>\n",
       "<style scoped>\n",
       "    .dataframe tbody tr th:only-of-type {\n",
       "        vertical-align: middle;\n",
       "    }\n",
       "\n",
       "    .dataframe tbody tr th {\n",
       "        vertical-align: top;\n",
       "    }\n",
       "\n",
       "    .dataframe thead th {\n",
       "        text-align: right;\n",
       "    }\n",
       "</style>\n",
       "<table border=\"1\" class=\"dataframe\">\n",
       "  <thead>\n",
       "    <tr style=\"text-align: right;\">\n",
       "      <th></th>\n",
       "      <th>id</th>\n",
       "      <th>user_id</th>\n",
       "      <th>call_date</th>\n",
       "      <th>duration</th>\n",
       "    </tr>\n",
       "  </thead>\n",
       "  <tbody>\n",
       "    <tr>\n",
       "      <th>0</th>\n",
       "      <td>1000_93</td>\n",
       "      <td>1000</td>\n",
       "      <td>2018-12-27</td>\n",
       "      <td>8.52</td>\n",
       "    </tr>\n",
       "    <tr>\n",
       "      <th>1</th>\n",
       "      <td>1000_145</td>\n",
       "      <td>1000</td>\n",
       "      <td>2018-12-27</td>\n",
       "      <td>13.66</td>\n",
       "    </tr>\n",
       "    <tr>\n",
       "      <th>2</th>\n",
       "      <td>1000_247</td>\n",
       "      <td>1000</td>\n",
       "      <td>2018-12-27</td>\n",
       "      <td>14.48</td>\n",
       "    </tr>\n",
       "    <tr>\n",
       "      <th>3</th>\n",
       "      <td>1000_309</td>\n",
       "      <td>1000</td>\n",
       "      <td>2018-12-28</td>\n",
       "      <td>5.76</td>\n",
       "    </tr>\n",
       "    <tr>\n",
       "      <th>4</th>\n",
       "      <td>1000_380</td>\n",
       "      <td>1000</td>\n",
       "      <td>2018-12-30</td>\n",
       "      <td>4.22</td>\n",
       "    </tr>\n",
       "  </tbody>\n",
       "</table>\n",
       "</div>"
      ],
      "text/plain": [
       "         id  user_id   call_date  duration\n",
       "0   1000_93     1000  2018-12-27      8.52\n",
       "1  1000_145     1000  2018-12-27     13.66\n",
       "2  1000_247     1000  2018-12-27     14.48\n",
       "3  1000_309     1000  2018-12-28      5.76\n",
       "4  1000_380     1000  2018-12-30      4.22"
      ]
     },
     "execution_count": 182,
     "metadata": {},
     "output_type": "execute_result"
    }
   ],
   "source": [
    "# Printing a sample data for calls\n",
    "\n",
    "df_calls.head()"
   ]
  },
  {
   "cell_type": "markdown",
   "metadata": {},
   "source": [
    "✅ no nan values\n",
    "\n",
    "\n",
    "🟩 column names: rename `id` by `call_id`\n",
    "\n",
    "\n",
    "🟩 data types: `call_date` from object to datetime\n",
    "\n",
    "In addition to changing the order of the columns in this set without NaN data, we are going to make some more changes for organization and easier visualization, such as renaming the `id` column as `call_id` (an identifier for each column, not the user), in addition to change the data type to **datetime**"
   ]
  },
  {
   "cell_type": "code",
   "execution_count": 183,
   "metadata": {},
   "outputs": [
    {
     "data": {
      "text/html": [
       "<div>\n",
       "<style scoped>\n",
       "    .dataframe tbody tr th:only-of-type {\n",
       "        vertical-align: middle;\n",
       "    }\n",
       "\n",
       "    .dataframe tbody tr th {\n",
       "        vertical-align: top;\n",
       "    }\n",
       "\n",
       "    .dataframe thead th {\n",
       "        text-align: right;\n",
       "    }\n",
       "</style>\n",
       "<table border=\"1\" class=\"dataframe\">\n",
       "  <thead>\n",
       "    <tr style=\"text-align: right;\">\n",
       "      <th></th>\n",
       "      <th>id</th>\n",
       "      <th>user_id</th>\n",
       "      <th>call_date</th>\n",
       "      <th>duration</th>\n",
       "    </tr>\n",
       "  </thead>\n",
       "  <tbody>\n",
       "    <tr>\n",
       "      <th>19</th>\n",
       "      <td>1001_4</td>\n",
       "      <td>1001</td>\n",
       "      <td>2018-12-05</td>\n",
       "      <td>0.0</td>\n",
       "    </tr>\n",
       "    <tr>\n",
       "      <th>25</th>\n",
       "      <td>1001_13</td>\n",
       "      <td>1001</td>\n",
       "      <td>2018-12-24</td>\n",
       "      <td>0.0</td>\n",
       "    </tr>\n",
       "    <tr>\n",
       "      <th>31</th>\n",
       "      <td>1001_30</td>\n",
       "      <td>1001</td>\n",
       "      <td>2018-10-17</td>\n",
       "      <td>0.0</td>\n",
       "    </tr>\n",
       "    <tr>\n",
       "      <th>32</th>\n",
       "      <td>1001_31</td>\n",
       "      <td>1001</td>\n",
       "      <td>2018-11-03</td>\n",
       "      <td>0.0</td>\n",
       "    </tr>\n",
       "    <tr>\n",
       "      <th>34</th>\n",
       "      <td>1001_35</td>\n",
       "      <td>1001</td>\n",
       "      <td>2018-12-21</td>\n",
       "      <td>0.0</td>\n",
       "    </tr>\n",
       "    <tr>\n",
       "      <th>...</th>\n",
       "      <td>...</td>\n",
       "      <td>...</td>\n",
       "      <td>...</td>\n",
       "      <td>...</td>\n",
       "    </tr>\n",
       "    <tr>\n",
       "      <th>137714</th>\n",
       "      <td>1499_183</td>\n",
       "      <td>1499</td>\n",
       "      <td>2018-11-10</td>\n",
       "      <td>0.0</td>\n",
       "    </tr>\n",
       "    <tr>\n",
       "      <th>137715</th>\n",
       "      <td>1499_184</td>\n",
       "      <td>1499</td>\n",
       "      <td>2018-09-15</td>\n",
       "      <td>0.0</td>\n",
       "    </tr>\n",
       "    <tr>\n",
       "      <th>137720</th>\n",
       "      <td>1499_189</td>\n",
       "      <td>1499</td>\n",
       "      <td>2018-12-27</td>\n",
       "      <td>0.0</td>\n",
       "    </tr>\n",
       "    <tr>\n",
       "      <th>137722</th>\n",
       "      <td>1499_191</td>\n",
       "      <td>1499</td>\n",
       "      <td>2018-12-24</td>\n",
       "      <td>0.0</td>\n",
       "    </tr>\n",
       "    <tr>\n",
       "      <th>137725</th>\n",
       "      <td>1499_194</td>\n",
       "      <td>1499</td>\n",
       "      <td>2018-10-31</td>\n",
       "      <td>0.0</td>\n",
       "    </tr>\n",
       "  </tbody>\n",
       "</table>\n",
       "<p>26834 rows × 4 columns</p>\n",
       "</div>"
      ],
      "text/plain": [
       "              id  user_id   call_date  duration\n",
       "19        1001_4     1001  2018-12-05       0.0\n",
       "25       1001_13     1001  2018-12-24       0.0\n",
       "31       1001_30     1001  2018-10-17       0.0\n",
       "32       1001_31     1001  2018-11-03       0.0\n",
       "34       1001_35     1001  2018-12-21       0.0\n",
       "...          ...      ...         ...       ...\n",
       "137714  1499_183     1499  2018-11-10       0.0\n",
       "137715  1499_184     1499  2018-09-15       0.0\n",
       "137720  1499_189     1499  2018-12-27       0.0\n",
       "137722  1499_191     1499  2018-12-24       0.0\n",
       "137725  1499_194     1499  2018-10-31       0.0\n",
       "\n",
       "[26834 rows x 4 columns]"
      ]
     },
     "execution_count": 183,
     "metadata": {},
     "output_type": "execute_result"
    }
   ],
   "source": [
    "# Printing the calls with duration equal to zero seconds and their quantity\n",
    "\n",
    "df_calls.query('duration == 0')"
   ]
  },
  {
   "cell_type": "code",
   "execution_count": 184,
   "metadata": {},
   "outputs": [
    {
     "data": {
      "text/plain": [
       "19.482339274694162"
      ]
     },
     "execution_count": 184,
     "metadata": {},
     "output_type": "execute_result"
    }
   ],
   "source": [
    "# Identifying the percentage of 'missed calls' in relation to the total number of calls\n",
    "\n",
    "len(df_calls.query('duration == 0')) / len(df_calls) * 100"
   ]
  },
  {
   "cell_type": "markdown",
   "metadata": {},
   "source": [
    "Assuming that the time of calls always has its seconds rounded to the next minute and those with zero minutes are calls that were never answered, let's look closely at this data.\n",
    "\n",
    "Despite the number of missed calls being considerably high, we know that it does not interfere with the monthly revenue (cost) in the client's package, since both plans consider the **minutes** of calls and **not the number** of calls .\n",
    "\n",
    "As our main objective in this study is to pay attention to revenue, we will **remove** these rows to consider calls that actually generated costs."
   ]
  },
  {
   "cell_type": "markdown",
   "metadata": {},
   "source": [
    "### Correcting the data"
   ]
  },
  {
   "cell_type": "markdown",
   "metadata": {},
   "source": [
    "Let's rename `id` and change the data type of `call_date`:"
   ]
  },
  {
   "cell_type": "code",
   "execution_count": 185,
   "metadata": {},
   "outputs": [],
   "source": [
    "# Renaming 'id' to 'call_id'\n",
    "\n",
    "df_calls = df_calls.rename(columns={'id': 'call_id'})"
   ]
  },
  {
   "cell_type": "code",
   "execution_count": 186,
   "metadata": {},
   "outputs": [],
   "source": [
    "# Changing 'call_date' to type datetime\n",
    "\n",
    "df_calls['call_date'] = pd.to_datetime(df_calls['call_date'], format='%Y-%m-%d')"
   ]
  },
  {
   "cell_type": "markdown",
   "metadata": {},
   "source": [
    "Let's remove the lines that indicate *missed calls*, zero minutes in `duration`:"
   ]
  },
  {
   "cell_type": "code",
   "execution_count": 187,
   "metadata": {},
   "outputs": [
    {
     "data": {
      "text/plain": [
       "110901"
      ]
     },
     "execution_count": 187,
     "metadata": {},
     "output_type": "execute_result"
    }
   ],
   "source": [
    "# Removing the lines with 0 in the 'duration' column and checking the result\n",
    "\n",
    "df_calls = df_calls[df_calls['duration'] != 0].reset_index(drop=True)\n",
    "\n",
    "len(df_calls)"
   ]
  },
  {
   "cell_type": "markdown",
   "metadata": {},
   "source": [
    "Whereas before there were 137735 connection records and now we have 110901, 26834 records were actually removed.\n",
    "\n",
    "But now we will consider calls that really interfered with the customer's spending."
   ]
  },
  {
   "cell_type": "markdown",
   "metadata": {},
   "source": [
    "### Enriching the data"
   ]
  },
  {
   "cell_type": "code",
   "execution_count": 188,
   "metadata": {},
   "outputs": [],
   "source": [
    "# Let's add the `month` and `day_week` columns for possible further analysis with grouping\n",
    "\n",
    "df_calls['month'] = df_calls['call_date'].dt.month\n",
    "\n",
    "df_calls['day_week'] = df_calls['call_date'].dt.dayofweek\n",
    "\n",
    "# in 'day_week' the integers represent the day of the week, where Monday is 0 and Sunday is 6."
   ]
  },
  {
   "cell_type": "code",
   "execution_count": 189,
   "metadata": {},
   "outputs": [
    {
     "data": {
      "text/html": [
       "<div>\n",
       "<style scoped>\n",
       "    .dataframe tbody tr th:only-of-type {\n",
       "        vertical-align: middle;\n",
       "    }\n",
       "\n",
       "    .dataframe tbody tr th {\n",
       "        vertical-align: top;\n",
       "    }\n",
       "\n",
       "    .dataframe thead th {\n",
       "        text-align: right;\n",
       "    }\n",
       "</style>\n",
       "<table border=\"1\" class=\"dataframe\">\n",
       "  <thead>\n",
       "    <tr style=\"text-align: right;\">\n",
       "      <th></th>\n",
       "      <th>user_id</th>\n",
       "      <th>call_id</th>\n",
       "      <th>call_date</th>\n",
       "      <th>duration</th>\n",
       "      <th>month</th>\n",
       "      <th>day_week</th>\n",
       "    </tr>\n",
       "  </thead>\n",
       "  <tbody>\n",
       "    <tr>\n",
       "      <th>0</th>\n",
       "      <td>1000</td>\n",
       "      <td>1000_93</td>\n",
       "      <td>2018-12-27</td>\n",
       "      <td>8.52</td>\n",
       "      <td>12</td>\n",
       "      <td>3</td>\n",
       "    </tr>\n",
       "    <tr>\n",
       "      <th>1</th>\n",
       "      <td>1000</td>\n",
       "      <td>1000_145</td>\n",
       "      <td>2018-12-27</td>\n",
       "      <td>13.66</td>\n",
       "      <td>12</td>\n",
       "      <td>3</td>\n",
       "    </tr>\n",
       "    <tr>\n",
       "      <th>2</th>\n",
       "      <td>1000</td>\n",
       "      <td>1000_247</td>\n",
       "      <td>2018-12-27</td>\n",
       "      <td>14.48</td>\n",
       "      <td>12</td>\n",
       "      <td>3</td>\n",
       "    </tr>\n",
       "    <tr>\n",
       "      <th>3</th>\n",
       "      <td>1000</td>\n",
       "      <td>1000_309</td>\n",
       "      <td>2018-12-28</td>\n",
       "      <td>5.76</td>\n",
       "      <td>12</td>\n",
       "      <td>4</td>\n",
       "    </tr>\n",
       "    <tr>\n",
       "      <th>4</th>\n",
       "      <td>1000</td>\n",
       "      <td>1000_380</td>\n",
       "      <td>2018-12-30</td>\n",
       "      <td>4.22</td>\n",
       "      <td>12</td>\n",
       "      <td>6</td>\n",
       "    </tr>\n",
       "  </tbody>\n",
       "</table>\n",
       "</div>"
      ],
      "text/plain": [
       "   user_id   call_id  call_date  duration  month  day_week\n",
       "0     1000   1000_93 2018-12-27      8.52     12         3\n",
       "1     1000  1000_145 2018-12-27     13.66     12         3\n",
       "2     1000  1000_247 2018-12-27     14.48     12         3\n",
       "3     1000  1000_309 2018-12-28      5.76     12         4\n",
       "4     1000  1000_380 2018-12-30      4.22     12         6"
      ]
     },
     "execution_count": 189,
     "metadata": {},
     "output_type": "execute_result"
    }
   ],
   "source": [
    "# Rearranging the columns\n",
    "\n",
    "df_calls = df_calls.reindex(columns=['user_id', 'call_id', 'call_date', 'duration', 'month', 'day_week'])\n",
    "\n",
    "df_calls.head()"
   ]
  },
  {
   "cell_type": "code",
   "execution_count": 190,
   "metadata": {},
   "outputs": [
    {
     "name": "stdout",
     "output_type": "stream",
     "text": [
      "<class 'pandas.core.frame.DataFrame'>\n",
      "RangeIndex: 110901 entries, 0 to 110900\n",
      "Data columns (total 6 columns):\n",
      " #   Column     Non-Null Count   Dtype         \n",
      "---  ------     --------------   -----         \n",
      " 0   user_id    110901 non-null  int64         \n",
      " 1   call_id    110901 non-null  object        \n",
      " 2   call_date  110901 non-null  datetime64[ns]\n",
      " 3   duration   110901 non-null  float64       \n",
      " 4   month      110901 non-null  int64         \n",
      " 5   day_week   110901 non-null  int64         \n",
      "dtypes: datetime64[ns](1), float64(1), int64(3), object(1)\n",
      "memory usage: 5.1+ MB\n"
     ]
    }
   ],
   "source": [
    "df_calls.info()"
   ]
  },
  {
   "cell_type": "markdown",
   "metadata": {},
   "source": [
    "## Messages"
   ]
  },
  {
   "cell_type": "code",
   "execution_count": 191,
   "metadata": {},
   "outputs": [
    {
     "name": "stdout",
     "output_type": "stream",
     "text": [
      "<class 'pandas.core.frame.DataFrame'>\n",
      "RangeIndex: 76051 entries, 0 to 76050\n",
      "Data columns (total 3 columns):\n",
      " #   Column        Non-Null Count  Dtype \n",
      "---  ------        --------------  ----- \n",
      " 0   id            76051 non-null  object\n",
      " 1   user_id       76051 non-null  int64 \n",
      " 2   message_date  76051 non-null  object\n",
      "dtypes: int64(1), object(2)\n",
      "memory usage: 1.7+ MB\n"
     ]
    },
    {
     "data": {
      "text/html": [
       "<div>\n",
       "<style scoped>\n",
       "    .dataframe tbody tr th:only-of-type {\n",
       "        vertical-align: middle;\n",
       "    }\n",
       "\n",
       "    .dataframe tbody tr th {\n",
       "        vertical-align: top;\n",
       "    }\n",
       "\n",
       "    .dataframe thead th {\n",
       "        text-align: right;\n",
       "    }\n",
       "</style>\n",
       "<table border=\"1\" class=\"dataframe\">\n",
       "  <thead>\n",
       "    <tr style=\"text-align: right;\">\n",
       "      <th></th>\n",
       "      <th>user_id</th>\n",
       "    </tr>\n",
       "  </thead>\n",
       "  <tbody>\n",
       "    <tr>\n",
       "      <th>count</th>\n",
       "      <td>76051.000000</td>\n",
       "    </tr>\n",
       "    <tr>\n",
       "      <th>mean</th>\n",
       "      <td>1245.972768</td>\n",
       "    </tr>\n",
       "    <tr>\n",
       "      <th>std</th>\n",
       "      <td>139.843635</td>\n",
       "    </tr>\n",
       "    <tr>\n",
       "      <th>min</th>\n",
       "      <td>1000.000000</td>\n",
       "    </tr>\n",
       "    <tr>\n",
       "      <th>25%</th>\n",
       "      <td>1123.000000</td>\n",
       "    </tr>\n",
       "    <tr>\n",
       "      <th>50%</th>\n",
       "      <td>1251.000000</td>\n",
       "    </tr>\n",
       "    <tr>\n",
       "      <th>75%</th>\n",
       "      <td>1362.000000</td>\n",
       "    </tr>\n",
       "    <tr>\n",
       "      <th>max</th>\n",
       "      <td>1497.000000</td>\n",
       "    </tr>\n",
       "  </tbody>\n",
       "</table>\n",
       "</div>"
      ],
      "text/plain": [
       "            user_id\n",
       "count  76051.000000\n",
       "mean    1245.972768\n",
       "std      139.843635\n",
       "min     1000.000000\n",
       "25%     1123.000000\n",
       "50%     1251.000000\n",
       "75%     1362.000000\n",
       "max     1497.000000"
      ]
     },
     "execution_count": 191,
     "metadata": {},
     "output_type": "execute_result"
    }
   ],
   "source": [
    "# Printing general/summary information about the messages' DataFrame\n",
    "\n",
    "df_messages.info()\n",
    "\n",
    "df_messages.describe()"
   ]
  },
  {
   "cell_type": "code",
   "execution_count": 192,
   "metadata": {},
   "outputs": [
    {
     "data": {
      "text/html": [
       "<div>\n",
       "<style scoped>\n",
       "    .dataframe tbody tr th:only-of-type {\n",
       "        vertical-align: middle;\n",
       "    }\n",
       "\n",
       "    .dataframe tbody tr th {\n",
       "        vertical-align: top;\n",
       "    }\n",
       "\n",
       "    .dataframe thead th {\n",
       "        text-align: right;\n",
       "    }\n",
       "</style>\n",
       "<table border=\"1\" class=\"dataframe\">\n",
       "  <thead>\n",
       "    <tr style=\"text-align: right;\">\n",
       "      <th></th>\n",
       "      <th>id</th>\n",
       "      <th>user_id</th>\n",
       "      <th>message_date</th>\n",
       "    </tr>\n",
       "  </thead>\n",
       "  <tbody>\n",
       "    <tr>\n",
       "      <th>0</th>\n",
       "      <td>1000_125</td>\n",
       "      <td>1000</td>\n",
       "      <td>2018-12-27</td>\n",
       "    </tr>\n",
       "    <tr>\n",
       "      <th>1</th>\n",
       "      <td>1000_160</td>\n",
       "      <td>1000</td>\n",
       "      <td>2018-12-31</td>\n",
       "    </tr>\n",
       "    <tr>\n",
       "      <th>2</th>\n",
       "      <td>1000_223</td>\n",
       "      <td>1000</td>\n",
       "      <td>2018-12-31</td>\n",
       "    </tr>\n",
       "    <tr>\n",
       "      <th>3</th>\n",
       "      <td>1000_251</td>\n",
       "      <td>1000</td>\n",
       "      <td>2018-12-27</td>\n",
       "    </tr>\n",
       "    <tr>\n",
       "      <th>4</th>\n",
       "      <td>1000_255</td>\n",
       "      <td>1000</td>\n",
       "      <td>2018-12-26</td>\n",
       "    </tr>\n",
       "  </tbody>\n",
       "</table>\n",
       "</div>"
      ],
      "text/plain": [
       "         id  user_id message_date\n",
       "0  1000_125     1000   2018-12-27\n",
       "1  1000_160     1000   2018-12-31\n",
       "2  1000_223     1000   2018-12-31\n",
       "3  1000_251     1000   2018-12-27\n",
       "4  1000_255     1000   2018-12-26"
      ]
     },
     "execution_count": 192,
     "metadata": {},
     "output_type": "execute_result"
    }
   ],
   "source": [
    "# Printing a sample of the data for the messages\n",
    "\n",
    "df_messages.head()"
   ]
  },
  {
   "cell_type": "markdown",
   "metadata": {},
   "source": [
    "✅ no nan values\n",
    "\n",
    "\n",
    "🟩 column names: replace `id` by `msg_id`\n",
    "\n",
    "\n",
    "🟩 data types: `message_date` from object to datetime"
   ]
  },
  {
   "cell_type": "markdown",
   "metadata": {},
   "source": [
    " "
   ]
  },
  {
   "cell_type": "markdown",
   "metadata": {},
   "source": [
    "### Correcting the data"
   ]
  },
  {
   "cell_type": "markdown",
   "metadata": {},
   "source": [
    "Let's rename `id` to `msg_id` and change the data type of `message_date`:"
   ]
  },
  {
   "cell_type": "code",
   "execution_count": 193,
   "metadata": {},
   "outputs": [],
   "source": [
    "# Renaming 'id' to 'msg_id'\n",
    "\n",
    "df_messages = df_messages.rename(columns={'id': 'msg_id'})"
   ]
  },
  {
   "cell_type": "code",
   "execution_count": 194,
   "metadata": {},
   "outputs": [
    {
     "name": "stdout",
     "output_type": "stream",
     "text": [
      "<class 'pandas.core.frame.DataFrame'>\n",
      "RangeIndex: 76051 entries, 0 to 76050\n",
      "Data columns (total 3 columns):\n",
      " #   Column        Non-Null Count  Dtype         \n",
      "---  ------        --------------  -----         \n",
      " 0   msg_id        76051 non-null  object        \n",
      " 1   user_id       76051 non-null  int64         \n",
      " 2   message_date  76051 non-null  datetime64[ns]\n",
      "dtypes: datetime64[ns](1), int64(1), object(1)\n",
      "memory usage: 1.7+ MB\n"
     ]
    }
   ],
   "source": [
    "# Changing 'message_date' to type datetime\n",
    "\n",
    "df_messages['message_date'] = pd.to_datetime(df_messages['message_date'], format='%Y-%m-%d')\n",
    "\n",
    "df_messages.info()"
   ]
  },
  {
   "cell_type": "markdown",
   "metadata": {},
   "source": [
    "### Enriching the data"
   ]
  },
  {
   "cell_type": "code",
   "execution_count": 195,
   "metadata": {},
   "outputs": [],
   "source": [
    "# Let's add the `month` and `day_week` columns for possible further analysis with grouping\n",
    "\n",
    "df_messages['month'] = df_messages['message_date'].dt.month\n",
    "\n",
    "df_messages['day_week'] = df_messages['message_date'].dt.dayofweek\n",
    "\n",
    "# in 'day_week' the integers represent the day of the week, where Monday is 0 and Sunday is 6."
   ]
  },
  {
   "cell_type": "markdown",
   "metadata": {},
   "source": [
    "In 'day_week' the integers represent the day of the week, where Monday is 0 and Sunday is 6."
   ]
  },
  {
   "cell_type": "code",
   "execution_count": 196,
   "metadata": {},
   "outputs": [
    {
     "data": {
      "text/html": [
       "<div>\n",
       "<style scoped>\n",
       "    .dataframe tbody tr th:only-of-type {\n",
       "        vertical-align: middle;\n",
       "    }\n",
       "\n",
       "    .dataframe tbody tr th {\n",
       "        vertical-align: top;\n",
       "    }\n",
       "\n",
       "    .dataframe thead th {\n",
       "        text-align: right;\n",
       "    }\n",
       "</style>\n",
       "<table border=\"1\" class=\"dataframe\">\n",
       "  <thead>\n",
       "    <tr style=\"text-align: right;\">\n",
       "      <th></th>\n",
       "      <th>user_id</th>\n",
       "      <th>msg_id</th>\n",
       "      <th>message_date</th>\n",
       "      <th>month</th>\n",
       "      <th>day_week</th>\n",
       "    </tr>\n",
       "  </thead>\n",
       "  <tbody>\n",
       "    <tr>\n",
       "      <th>0</th>\n",
       "      <td>1000</td>\n",
       "      <td>1000_125</td>\n",
       "      <td>2018-12-27</td>\n",
       "      <td>12</td>\n",
       "      <td>3</td>\n",
       "    </tr>\n",
       "    <tr>\n",
       "      <th>1</th>\n",
       "      <td>1000</td>\n",
       "      <td>1000_160</td>\n",
       "      <td>2018-12-31</td>\n",
       "      <td>12</td>\n",
       "      <td>0</td>\n",
       "    </tr>\n",
       "    <tr>\n",
       "      <th>2</th>\n",
       "      <td>1000</td>\n",
       "      <td>1000_223</td>\n",
       "      <td>2018-12-31</td>\n",
       "      <td>12</td>\n",
       "      <td>0</td>\n",
       "    </tr>\n",
       "    <tr>\n",
       "      <th>3</th>\n",
       "      <td>1000</td>\n",
       "      <td>1000_251</td>\n",
       "      <td>2018-12-27</td>\n",
       "      <td>12</td>\n",
       "      <td>3</td>\n",
       "    </tr>\n",
       "    <tr>\n",
       "      <th>4</th>\n",
       "      <td>1000</td>\n",
       "      <td>1000_255</td>\n",
       "      <td>2018-12-26</td>\n",
       "      <td>12</td>\n",
       "      <td>2</td>\n",
       "    </tr>\n",
       "  </tbody>\n",
       "</table>\n",
       "</div>"
      ],
      "text/plain": [
       "   user_id    msg_id message_date  month  day_week\n",
       "0     1000  1000_125   2018-12-27     12         3\n",
       "1     1000  1000_160   2018-12-31     12         0\n",
       "2     1000  1000_223   2018-12-31     12         0\n",
       "3     1000  1000_251   2018-12-27     12         3\n",
       "4     1000  1000_255   2018-12-26     12         2"
      ]
     },
     "execution_count": 196,
     "metadata": {},
     "output_type": "execute_result"
    }
   ],
   "source": [
    "# Rearranging the columns\n",
    "\n",
    "df_messages = df_messages.reindex(columns=['user_id', 'msg_id', 'message_date', 'month', 'day_week'])\n",
    "\n",
    "df_messages.head()"
   ]
  },
  {
   "cell_type": "markdown",
   "metadata": {},
   "source": [
    "## Internet"
   ]
  },
  {
   "cell_type": "code",
   "execution_count": 197,
   "metadata": {},
   "outputs": [
    {
     "name": "stdout",
     "output_type": "stream",
     "text": [
      "<class 'pandas.core.frame.DataFrame'>\n",
      "RangeIndex: 104825 entries, 0 to 104824\n",
      "Data columns (total 4 columns):\n",
      " #   Column        Non-Null Count   Dtype  \n",
      "---  ------        --------------   -----  \n",
      " 0   id            104825 non-null  object \n",
      " 1   user_id       104825 non-null  int64  \n",
      " 2   session_date  104825 non-null  object \n",
      " 3   mb_used       104825 non-null  float64\n",
      "dtypes: float64(1), int64(1), object(2)\n",
      "memory usage: 3.2+ MB\n"
     ]
    },
    {
     "data": {
      "text/html": [
       "<div>\n",
       "<style scoped>\n",
       "    .dataframe tbody tr th:only-of-type {\n",
       "        vertical-align: middle;\n",
       "    }\n",
       "\n",
       "    .dataframe tbody tr th {\n",
       "        vertical-align: top;\n",
       "    }\n",
       "\n",
       "    .dataframe thead th {\n",
       "        text-align: right;\n",
       "    }\n",
       "</style>\n",
       "<table border=\"1\" class=\"dataframe\">\n",
       "  <thead>\n",
       "    <tr style=\"text-align: right;\">\n",
       "      <th></th>\n",
       "      <th>user_id</th>\n",
       "      <th>mb_used</th>\n",
       "    </tr>\n",
       "  </thead>\n",
       "  <tbody>\n",
       "    <tr>\n",
       "      <th>count</th>\n",
       "      <td>104825.000000</td>\n",
       "      <td>104825.000000</td>\n",
       "    </tr>\n",
       "    <tr>\n",
       "      <th>mean</th>\n",
       "      <td>1242.496361</td>\n",
       "      <td>366.713701</td>\n",
       "    </tr>\n",
       "    <tr>\n",
       "      <th>std</th>\n",
       "      <td>142.053913</td>\n",
       "      <td>277.170542</td>\n",
       "    </tr>\n",
       "    <tr>\n",
       "      <th>min</th>\n",
       "      <td>1000.000000</td>\n",
       "      <td>0.000000</td>\n",
       "    </tr>\n",
       "    <tr>\n",
       "      <th>25%</th>\n",
       "      <td>1122.000000</td>\n",
       "      <td>136.080000</td>\n",
       "    </tr>\n",
       "    <tr>\n",
       "      <th>50%</th>\n",
       "      <td>1236.000000</td>\n",
       "      <td>343.980000</td>\n",
       "    </tr>\n",
       "    <tr>\n",
       "      <th>75%</th>\n",
       "      <td>1367.000000</td>\n",
       "      <td>554.610000</td>\n",
       "    </tr>\n",
       "    <tr>\n",
       "      <th>max</th>\n",
       "      <td>1499.000000</td>\n",
       "      <td>1693.470000</td>\n",
       "    </tr>\n",
       "  </tbody>\n",
       "</table>\n",
       "</div>"
      ],
      "text/plain": [
       "             user_id        mb_used\n",
       "count  104825.000000  104825.000000\n",
       "mean     1242.496361     366.713701\n",
       "std       142.053913     277.170542\n",
       "min      1000.000000       0.000000\n",
       "25%      1122.000000     136.080000\n",
       "50%      1236.000000     343.980000\n",
       "75%      1367.000000     554.610000\n",
       "max      1499.000000    1693.470000"
      ]
     },
     "execution_count": 197,
     "metadata": {},
     "output_type": "execute_result"
    }
   ],
   "source": [
    "# Printing the general/summary information about the Internet DataFrame\n",
    "\n",
    "df_internet.info()\n",
    "\n",
    "df_internet.describe()"
   ]
  },
  {
   "cell_type": "code",
   "execution_count": 198,
   "metadata": {},
   "outputs": [
    {
     "data": {
      "text/html": [
       "<div>\n",
       "<style scoped>\n",
       "    .dataframe tbody tr th:only-of-type {\n",
       "        vertical-align: middle;\n",
       "    }\n",
       "\n",
       "    .dataframe tbody tr th {\n",
       "        vertical-align: top;\n",
       "    }\n",
       "\n",
       "    .dataframe thead th {\n",
       "        text-align: right;\n",
       "    }\n",
       "</style>\n",
       "<table border=\"1\" class=\"dataframe\">\n",
       "  <thead>\n",
       "    <tr style=\"text-align: right;\">\n",
       "      <th></th>\n",
       "      <th>id</th>\n",
       "      <th>user_id</th>\n",
       "      <th>session_date</th>\n",
       "      <th>mb_used</th>\n",
       "    </tr>\n",
       "  </thead>\n",
       "  <tbody>\n",
       "    <tr>\n",
       "      <th>0</th>\n",
       "      <td>1000_13</td>\n",
       "      <td>1000</td>\n",
       "      <td>2018-12-29</td>\n",
       "      <td>89.86</td>\n",
       "    </tr>\n",
       "    <tr>\n",
       "      <th>1</th>\n",
       "      <td>1000_204</td>\n",
       "      <td>1000</td>\n",
       "      <td>2018-12-31</td>\n",
       "      <td>0.00</td>\n",
       "    </tr>\n",
       "    <tr>\n",
       "      <th>2</th>\n",
       "      <td>1000_379</td>\n",
       "      <td>1000</td>\n",
       "      <td>2018-12-28</td>\n",
       "      <td>660.40</td>\n",
       "    </tr>\n",
       "    <tr>\n",
       "      <th>3</th>\n",
       "      <td>1000_413</td>\n",
       "      <td>1000</td>\n",
       "      <td>2018-12-26</td>\n",
       "      <td>270.99</td>\n",
       "    </tr>\n",
       "    <tr>\n",
       "      <th>4</th>\n",
       "      <td>1000_442</td>\n",
       "      <td>1000</td>\n",
       "      <td>2018-12-27</td>\n",
       "      <td>880.22</td>\n",
       "    </tr>\n",
       "  </tbody>\n",
       "</table>\n",
       "</div>"
      ],
      "text/plain": [
       "         id  user_id session_date  mb_used\n",
       "0   1000_13     1000   2018-12-29    89.86\n",
       "1  1000_204     1000   2018-12-31     0.00\n",
       "2  1000_379     1000   2018-12-28   660.40\n",
       "3  1000_413     1000   2018-12-26   270.99\n",
       "4  1000_442     1000   2018-12-27   880.22"
      ]
     },
     "execution_count": 198,
     "metadata": {},
     "output_type": "execute_result"
    }
   ],
   "source": [
    "# Printing sample data for Internet traffic\n",
    "\n",
    "df_internet.head()"
   ]
  },
  {
   "cell_type": "markdown",
   "metadata": {},
   "source": [
    "\n",
    "✅ no nan values\n",
    "\n",
    "\n",
    "🟩 column names: replace `id` by `call_id`\n",
    "\n",
    "\n",
    "🟩 data types: `session_date` from object to datetime\n"
   ]
  },
  {
   "cell_type": "markdown",
   "metadata": {},
   "source": [
    " "
   ]
  },
  {
   "cell_type": "markdown",
   "metadata": {},
   "source": [
    "### Correcting the data"
   ]
  },
  {
   "cell_type": "markdown",
   "metadata": {},
   "source": [
    "Let's rename `id` to `session_id` and change the data type of `session_date`:"
   ]
  },
  {
   "cell_type": "code",
   "execution_count": 199,
   "metadata": {},
   "outputs": [],
   "source": [
    "# Renaming 'id' to 'session_id'\n",
    "\n",
    "df_internet = df_internet.rename(columns={'id': 'session_id'})"
   ]
  },
  {
   "cell_type": "code",
   "execution_count": 200,
   "metadata": {},
   "outputs": [
    {
     "name": "stdout",
     "output_type": "stream",
     "text": [
      "<class 'pandas.core.frame.DataFrame'>\n",
      "RangeIndex: 104825 entries, 0 to 104824\n",
      "Data columns (total 4 columns):\n",
      " #   Column        Non-Null Count   Dtype         \n",
      "---  ------        --------------   -----         \n",
      " 0   session_id    104825 non-null  object        \n",
      " 1   user_id       104825 non-null  int64         \n",
      " 2   session_date  104825 non-null  datetime64[ns]\n",
      " 3   mb_used       104825 non-null  float64       \n",
      "dtypes: datetime64[ns](1), float64(1), int64(1), object(1)\n",
      "memory usage: 3.2+ MB\n"
     ]
    }
   ],
   "source": [
    "# Changing 'session_date' type to datetime\n",
    "\n",
    "df_internet['session_date'] = pd.to_datetime(df_internet['session_date'], format='%Y-%m-%d')\n",
    "\n",
    "df_internet.info()"
   ]
  },
  {
   "cell_type": "markdown",
   "metadata": {},
   "source": [
    "### Enriching the data"
   ]
  },
  {
   "cell_type": "code",
   "execution_count": 201,
   "metadata": {},
   "outputs": [],
   "source": [
    "# Let's add the `month` and `day_week` columns for possible further analysis with grouping\n",
    "\n",
    "df_internet['month'] = df_internet['session_date'].dt.month\n",
    "\n",
    "df_internet['day_week'] = df_internet['session_date'].dt.dayofweek\n",
    "\n",
    "# in 'day_week' the integers represent the day of the week, where Monday is 0 and Sunday is 6."
   ]
  },
  {
   "cell_type": "code",
   "execution_count": 202,
   "metadata": {},
   "outputs": [
    {
     "data": {
      "text/html": [
       "<div>\n",
       "<style scoped>\n",
       "    .dataframe tbody tr th:only-of-type {\n",
       "        vertical-align: middle;\n",
       "    }\n",
       "\n",
       "    .dataframe tbody tr th {\n",
       "        vertical-align: top;\n",
       "    }\n",
       "\n",
       "    .dataframe thead th {\n",
       "        text-align: right;\n",
       "    }\n",
       "</style>\n",
       "<table border=\"1\" class=\"dataframe\">\n",
       "  <thead>\n",
       "    <tr style=\"text-align: right;\">\n",
       "      <th></th>\n",
       "      <th>user_id</th>\n",
       "      <th>session_id</th>\n",
       "      <th>mb_used</th>\n",
       "      <th>session_date</th>\n",
       "      <th>month</th>\n",
       "      <th>day_week</th>\n",
       "    </tr>\n",
       "  </thead>\n",
       "  <tbody>\n",
       "    <tr>\n",
       "      <th>0</th>\n",
       "      <td>1000</td>\n",
       "      <td>1000_13</td>\n",
       "      <td>89.86</td>\n",
       "      <td>2018-12-29</td>\n",
       "      <td>12</td>\n",
       "      <td>5</td>\n",
       "    </tr>\n",
       "    <tr>\n",
       "      <th>1</th>\n",
       "      <td>1000</td>\n",
       "      <td>1000_204</td>\n",
       "      <td>0.00</td>\n",
       "      <td>2018-12-31</td>\n",
       "      <td>12</td>\n",
       "      <td>0</td>\n",
       "    </tr>\n",
       "    <tr>\n",
       "      <th>2</th>\n",
       "      <td>1000</td>\n",
       "      <td>1000_379</td>\n",
       "      <td>660.40</td>\n",
       "      <td>2018-12-28</td>\n",
       "      <td>12</td>\n",
       "      <td>4</td>\n",
       "    </tr>\n",
       "    <tr>\n",
       "      <th>3</th>\n",
       "      <td>1000</td>\n",
       "      <td>1000_413</td>\n",
       "      <td>270.99</td>\n",
       "      <td>2018-12-26</td>\n",
       "      <td>12</td>\n",
       "      <td>2</td>\n",
       "    </tr>\n",
       "    <tr>\n",
       "      <th>4</th>\n",
       "      <td>1000</td>\n",
       "      <td>1000_442</td>\n",
       "      <td>880.22</td>\n",
       "      <td>2018-12-27</td>\n",
       "      <td>12</td>\n",
       "      <td>3</td>\n",
       "    </tr>\n",
       "  </tbody>\n",
       "</table>\n",
       "</div>"
      ],
      "text/plain": [
       "   user_id session_id  mb_used session_date  month  day_week\n",
       "0     1000    1000_13    89.86   2018-12-29     12         5\n",
       "1     1000   1000_204     0.00   2018-12-31     12         0\n",
       "2     1000   1000_379   660.40   2018-12-28     12         4\n",
       "3     1000   1000_413   270.99   2018-12-26     12         2\n",
       "4     1000   1000_442   880.22   2018-12-27     12         3"
      ]
     },
     "execution_count": 202,
     "metadata": {},
     "output_type": "execute_result"
    }
   ],
   "source": [
    "# Rearranging the columns\n",
    "\n",
    "df_internet = df_internet.reindex(columns=['user_id', 'session_id', 'mb_used', 'session_date', 'month', 'day_week'])\n",
    "\n",
    "df_internet.head()"
   ]
  },
  {
   "cell_type": "markdown",
   "metadata": {},
   "source": [
    "# Conditions of the study plan"
   ]
  },
  {
   "cell_type": "markdown",
   "metadata": {},
   "source": [
    "It is critical to understand how the plans work, how users are billed based on the plan subscription.\n",
    "\n",
    "Megaline rounds seconds to minutes, and megabytes to gigabytes.\n",
    "\n",
    "For calls, each individual call is rounded up: even if a call lasted only one second, it will be counted as one minute.\n",
    "\n",
    "For web traffic, individual web sessions are not rounded up, but the month total is rounded up. If someone uses 1025 megabytes that month, they will be charged for 2 gigabytes.\n",
    "\n",
    "**Surf Plan**\n",
    "\n",
    "Monthly price: $20\n",
    "\n",
    "500 minutes monthly\n",
    "\n",
    "50 text messages\n",
    "\n",
    "15 GB of data\n",
    "\n",
    "\n",
    "After exceeding package limits:\n",
    "\n",
    "1 minute: 3 cents\n",
    "\n",
    "1 text message: 3 cents\n",
    "\n",
    "1 GB of data: $10\n",
    "\n",
    "**Ultimate Plan**\n",
    "\n",
    "Monthly price: $70\n",
    "\n",
    "3000 minutes monthly\n",
    "\n",
    "1000 text messages\n",
    "\n",
    "30 GB of data\n",
    "\n",
    "\n",
    "After exceeding package limits:\n",
    "\n",
    "1 minute: 1 cent\n",
    "\n",
    "1 text message: 1 cent\n",
    "\n",
    "1 GB of data: $7\n",
    "\n",
    "\n",
    "Let's print the plan information to view its conditions again:"
   ]
  },
  {
   "cell_type": "code",
   "execution_count": 203,
   "metadata": {},
   "outputs": [
    {
     "data": {
      "text/html": [
       "<div>\n",
       "<style scoped>\n",
       "    .dataframe tbody tr th:only-of-type {\n",
       "        vertical-align: middle;\n",
       "    }\n",
       "\n",
       "    .dataframe tbody tr th {\n",
       "        vertical-align: top;\n",
       "    }\n",
       "\n",
       "    .dataframe thead th {\n",
       "        text-align: right;\n",
       "    }\n",
       "</style>\n",
       "<table border=\"1\" class=\"dataframe\">\n",
       "  <thead>\n",
       "    <tr style=\"text-align: right;\">\n",
       "      <th></th>\n",
       "      <th>0</th>\n",
       "      <th>1</th>\n",
       "    </tr>\n",
       "  </thead>\n",
       "  <tbody>\n",
       "    <tr>\n",
       "      <th>plan_name</th>\n",
       "      <td>surf</td>\n",
       "      <td>ultimate</td>\n",
       "    </tr>\n",
       "    <tr>\n",
       "      <th>usd_monthly_pay</th>\n",
       "      <td>20</td>\n",
       "      <td>70</td>\n",
       "    </tr>\n",
       "    <tr>\n",
       "      <th>msg_per_usd_included</th>\n",
       "      <td>2.5</td>\n",
       "      <td>14.29</td>\n",
       "    </tr>\n",
       "    <tr>\n",
       "      <th>mb_per_usd_included</th>\n",
       "      <td>768.0</td>\n",
       "      <td>438.86</td>\n",
       "    </tr>\n",
       "    <tr>\n",
       "      <th>min_per_usd_included</th>\n",
       "      <td>25.0</td>\n",
       "      <td>42.86</td>\n",
       "    </tr>\n",
       "    <tr>\n",
       "      <th>msg_per_usd_extra</th>\n",
       "      <td>33.33</td>\n",
       "      <td>100.0</td>\n",
       "    </tr>\n",
       "    <tr>\n",
       "      <th>mb_per_usd_extra</th>\n",
       "      <td>100.0</td>\n",
       "      <td>142.86</td>\n",
       "    </tr>\n",
       "    <tr>\n",
       "      <th>min_per_usd_extra</th>\n",
       "      <td>33.33</td>\n",
       "      <td>100.0</td>\n",
       "    </tr>\n",
       "    <tr>\n",
       "      <th>messages_ included</th>\n",
       "      <td>NaN</td>\n",
       "      <td>NaN</td>\n",
       "    </tr>\n",
       "    <tr>\n",
       "      <th>mb_per_month_included</th>\n",
       "      <td>15360</td>\n",
       "      <td>30720</td>\n",
       "    </tr>\n",
       "    <tr>\n",
       "      <th>minutes_included</th>\n",
       "      <td>NaN</td>\n",
       "      <td>NaN</td>\n",
       "    </tr>\n",
       "    <tr>\n",
       "      <th>usd_per_message</th>\n",
       "      <td>0.03</td>\n",
       "      <td>0.01</td>\n",
       "    </tr>\n",
       "    <tr>\n",
       "      <th>usd_per_gb</th>\n",
       "      <td>10</td>\n",
       "      <td>7</td>\n",
       "    </tr>\n",
       "    <tr>\n",
       "      <th>usd_per_minute</th>\n",
       "      <td>0.03</td>\n",
       "      <td>0.01</td>\n",
       "    </tr>\n",
       "  </tbody>\n",
       "</table>\n",
       "</div>"
      ],
      "text/plain": [
       "                           0         1\n",
       "plan_name               surf  ultimate\n",
       "usd_monthly_pay           20        70\n",
       "msg_per_usd_included     2.5     14.29\n",
       "mb_per_usd_included    768.0    438.86\n",
       "min_per_usd_included    25.0     42.86\n",
       "msg_per_usd_extra      33.33     100.0\n",
       "mb_per_usd_extra       100.0    142.86\n",
       "min_per_usd_extra      33.33     100.0\n",
       "messages_ included       NaN       NaN\n",
       "mb_per_month_included  15360     30720\n",
       " minutes_included        NaN       NaN\n",
       "usd_per_message         0.03      0.01\n",
       "usd_per_gb                10         7\n",
       "usd_per_minute          0.03      0.01"
      ]
     },
     "execution_count": 203,
     "metadata": {},
     "output_type": "execute_result"
    }
   ],
   "source": [
    "# Printing the conditions of the plans\n",
    "\n",
    "df_plans"
   ]
  },
  {
   "cell_type": "markdown",
   "metadata": {},
   "source": [
    "# Data aggregated by user\n",
    "\n",
    "Since the data is clean, now let's aggregate the data per user per period to have only one record per user per period. This will make further analysis much easier."
   ]
  },
  {
   "cell_type": "code",
   "execution_count": 204,
   "metadata": {},
   "outputs": [
    {
     "data": {
      "text/html": [
       "<div>\n",
       "<style scoped>\n",
       "    .dataframe tbody tr th:only-of-type {\n",
       "        vertical-align: middle;\n",
       "    }\n",
       "\n",
       "    .dataframe tbody tr th {\n",
       "        vertical-align: top;\n",
       "    }\n",
       "\n",
       "    .dataframe thead th {\n",
       "        text-align: right;\n",
       "    }\n",
       "</style>\n",
       "<table border=\"1\" class=\"dataframe\">\n",
       "  <thead>\n",
       "    <tr style=\"text-align: right;\">\n",
       "      <th>month</th>\n",
       "      <th>1</th>\n",
       "      <th>2</th>\n",
       "      <th>3</th>\n",
       "      <th>4</th>\n",
       "      <th>5</th>\n",
       "      <th>6</th>\n",
       "      <th>7</th>\n",
       "      <th>8</th>\n",
       "      <th>9</th>\n",
       "      <th>10</th>\n",
       "      <th>11</th>\n",
       "      <th>12</th>\n",
       "    </tr>\n",
       "    <tr>\n",
       "      <th>user_id</th>\n",
       "      <th></th>\n",
       "      <th></th>\n",
       "      <th></th>\n",
       "      <th></th>\n",
       "      <th></th>\n",
       "      <th></th>\n",
       "      <th></th>\n",
       "      <th></th>\n",
       "      <th></th>\n",
       "      <th></th>\n",
       "      <th></th>\n",
       "      <th></th>\n",
       "    </tr>\n",
       "  </thead>\n",
       "  <tbody>\n",
       "    <tr>\n",
       "      <th>1000</th>\n",
       "      <td>0</td>\n",
       "      <td>0</td>\n",
       "      <td>0</td>\n",
       "      <td>0</td>\n",
       "      <td>0</td>\n",
       "      <td>0</td>\n",
       "      <td>0</td>\n",
       "      <td>0</td>\n",
       "      <td>0</td>\n",
       "      <td>0</td>\n",
       "      <td>0</td>\n",
       "      <td>16</td>\n",
       "    </tr>\n",
       "    <tr>\n",
       "      <th>1001</th>\n",
       "      <td>0</td>\n",
       "      <td>0</td>\n",
       "      <td>0</td>\n",
       "      <td>0</td>\n",
       "      <td>0</td>\n",
       "      <td>0</td>\n",
       "      <td>0</td>\n",
       "      <td>22</td>\n",
       "      <td>38</td>\n",
       "      <td>47</td>\n",
       "      <td>49</td>\n",
       "      <td>46</td>\n",
       "    </tr>\n",
       "    <tr>\n",
       "      <th>1002</th>\n",
       "      <td>0</td>\n",
       "      <td>0</td>\n",
       "      <td>0</td>\n",
       "      <td>0</td>\n",
       "      <td>0</td>\n",
       "      <td>0</td>\n",
       "      <td>0</td>\n",
       "      <td>0</td>\n",
       "      <td>0</td>\n",
       "      <td>8</td>\n",
       "      <td>48</td>\n",
       "      <td>38</td>\n",
       "    </tr>\n",
       "    <tr>\n",
       "      <th>1003</th>\n",
       "      <td>0</td>\n",
       "      <td>0</td>\n",
       "      <td>0</td>\n",
       "      <td>0</td>\n",
       "      <td>0</td>\n",
       "      <td>0</td>\n",
       "      <td>0</td>\n",
       "      <td>0</td>\n",
       "      <td>0</td>\n",
       "      <td>0</td>\n",
       "      <td>0</td>\n",
       "      <td>118</td>\n",
       "    </tr>\n",
       "    <tr>\n",
       "      <th>1004</th>\n",
       "      <td>0</td>\n",
       "      <td>0</td>\n",
       "      <td>0</td>\n",
       "      <td>0</td>\n",
       "      <td>19</td>\n",
       "      <td>33</td>\n",
       "      <td>45</td>\n",
       "      <td>42</td>\n",
       "      <td>32</td>\n",
       "      <td>47</td>\n",
       "      <td>45</td>\n",
       "      <td>43</td>\n",
       "    </tr>\n",
       "    <tr>\n",
       "      <th>...</th>\n",
       "      <td>...</td>\n",
       "      <td>...</td>\n",
       "      <td>...</td>\n",
       "      <td>...</td>\n",
       "      <td>...</td>\n",
       "      <td>...</td>\n",
       "      <td>...</td>\n",
       "      <td>...</td>\n",
       "      <td>...</td>\n",
       "      <td>...</td>\n",
       "      <td>...</td>\n",
       "      <td>...</td>\n",
       "    </tr>\n",
       "    <tr>\n",
       "      <th>1495</th>\n",
       "      <td>0</td>\n",
       "      <td>0</td>\n",
       "      <td>0</td>\n",
       "      <td>0</td>\n",
       "      <td>0</td>\n",
       "      <td>0</td>\n",
       "      <td>0</td>\n",
       "      <td>0</td>\n",
       "      <td>37</td>\n",
       "      <td>65</td>\n",
       "      <td>50</td>\n",
       "      <td>56</td>\n",
       "    </tr>\n",
       "    <tr>\n",
       "      <th>1496</th>\n",
       "      <td>0</td>\n",
       "      <td>0</td>\n",
       "      <td>0</td>\n",
       "      <td>0</td>\n",
       "      <td>0</td>\n",
       "      <td>0</td>\n",
       "      <td>0</td>\n",
       "      <td>14</td>\n",
       "      <td>45</td>\n",
       "      <td>35</td>\n",
       "      <td>32</td>\n",
       "      <td>32</td>\n",
       "    </tr>\n",
       "    <tr>\n",
       "      <th>1497</th>\n",
       "      <td>0</td>\n",
       "      <td>0</td>\n",
       "      <td>0</td>\n",
       "      <td>0</td>\n",
       "      <td>0</td>\n",
       "      <td>0</td>\n",
       "      <td>0</td>\n",
       "      <td>0</td>\n",
       "      <td>0</td>\n",
       "      <td>0</td>\n",
       "      <td>0</td>\n",
       "      <td>42</td>\n",
       "    </tr>\n",
       "    <tr>\n",
       "      <th>1498</th>\n",
       "      <td>0</td>\n",
       "      <td>28</td>\n",
       "      <td>29</td>\n",
       "      <td>42</td>\n",
       "      <td>29</td>\n",
       "      <td>29</td>\n",
       "      <td>40</td>\n",
       "      <td>37</td>\n",
       "      <td>39</td>\n",
       "      <td>37</td>\n",
       "      <td>29</td>\n",
       "      <td>32</td>\n",
       "    </tr>\n",
       "    <tr>\n",
       "      <th>1499</th>\n",
       "      <td>0</td>\n",
       "      <td>0</td>\n",
       "      <td>0</td>\n",
       "      <td>0</td>\n",
       "      <td>0</td>\n",
       "      <td>0</td>\n",
       "      <td>0</td>\n",
       "      <td>0</td>\n",
       "      <td>35</td>\n",
       "      <td>41</td>\n",
       "      <td>39</td>\n",
       "      <td>56</td>\n",
       "    </tr>\n",
       "  </tbody>\n",
       "</table>\n",
       "<p>481 rows × 12 columns</p>\n",
       "</div>"
      ],
      "text/plain": [
       "month    1   2   3   4   5   6   7   8   9   10  11   12\n",
       "user_id                                                 \n",
       "1000      0   0   0   0   0   0   0   0   0   0   0   16\n",
       "1001      0   0   0   0   0   0   0  22  38  47  49   46\n",
       "1002      0   0   0   0   0   0   0   0   0   8  48   38\n",
       "1003      0   0   0   0   0   0   0   0   0   0   0  118\n",
       "1004      0   0   0   0  19  33  45  42  32  47  45   43\n",
       "...      ..  ..  ..  ..  ..  ..  ..  ..  ..  ..  ..  ...\n",
       "1495      0   0   0   0   0   0   0   0  37  65  50   56\n",
       "1496      0   0   0   0   0   0   0  14  45  35  32   32\n",
       "1497      0   0   0   0   0   0   0   0   0   0   0   42\n",
       "1498      0  28  29  42  29  29  40  37  39  37  29   32\n",
       "1499      0   0   0   0   0   0   0   0  35  41  39   56\n",
       "\n",
       "[481 rows x 12 columns]"
      ]
     },
     "execution_count": 204,
     "metadata": {},
     "output_type": "execute_result"
    }
   ],
   "source": [
    "# Calculating the number of calls made by each user per month and saving the result.\n",
    "\n",
    "df_calls_number = df_calls.pivot_table(index='user_id', columns='month', values='call_id', aggfunc='count', fill_value=0)\n",
    "\n",
    "df_calls_number"
   ]
  },
  {
   "cell_type": "code",
   "execution_count": 205,
   "metadata": {
    "scrolled": true
   },
   "outputs": [
    {
     "data": {
      "text/html": [
       "<div>\n",
       "<style scoped>\n",
       "    .dataframe tbody tr th:only-of-type {\n",
       "        vertical-align: middle;\n",
       "    }\n",
       "\n",
       "    .dataframe tbody tr th {\n",
       "        vertical-align: top;\n",
       "    }\n",
       "\n",
       "    .dataframe thead th {\n",
       "        text-align: right;\n",
       "    }\n",
       "</style>\n",
       "<table border=\"1\" class=\"dataframe\">\n",
       "  <thead>\n",
       "    <tr style=\"text-align: right;\">\n",
       "      <th>month</th>\n",
       "      <th>1</th>\n",
       "      <th>2</th>\n",
       "      <th>3</th>\n",
       "      <th>4</th>\n",
       "      <th>5</th>\n",
       "      <th>6</th>\n",
       "      <th>7</th>\n",
       "      <th>8</th>\n",
       "      <th>9</th>\n",
       "      <th>10</th>\n",
       "      <th>11</th>\n",
       "      <th>12</th>\n",
       "    </tr>\n",
       "    <tr>\n",
       "      <th>user_id</th>\n",
       "      <th></th>\n",
       "      <th></th>\n",
       "      <th></th>\n",
       "      <th></th>\n",
       "      <th></th>\n",
       "      <th></th>\n",
       "      <th></th>\n",
       "      <th></th>\n",
       "      <th></th>\n",
       "      <th></th>\n",
       "      <th></th>\n",
       "      <th></th>\n",
       "    </tr>\n",
       "  </thead>\n",
       "  <tbody>\n",
       "    <tr>\n",
       "      <th>1000</th>\n",
       "      <td>0.0</td>\n",
       "      <td>0.00</td>\n",
       "      <td>0.00</td>\n",
       "      <td>0.00</td>\n",
       "      <td>0.00</td>\n",
       "      <td>0.00</td>\n",
       "      <td>0.00</td>\n",
       "      <td>0.00</td>\n",
       "      <td>0.00</td>\n",
       "      <td>0.00</td>\n",
       "      <td>0.00</td>\n",
       "      <td>116.83</td>\n",
       "    </tr>\n",
       "    <tr>\n",
       "      <th>1001</th>\n",
       "      <td>0.0</td>\n",
       "      <td>0.00</td>\n",
       "      <td>0.00</td>\n",
       "      <td>0.00</td>\n",
       "      <td>0.00</td>\n",
       "      <td>0.00</td>\n",
       "      <td>0.00</td>\n",
       "      <td>171.14</td>\n",
       "      <td>297.69</td>\n",
       "      <td>374.11</td>\n",
       "      <td>404.59</td>\n",
       "      <td>392.93</td>\n",
       "    </tr>\n",
       "    <tr>\n",
       "      <th>1002</th>\n",
       "      <td>0.0</td>\n",
       "      <td>0.00</td>\n",
       "      <td>0.00</td>\n",
       "      <td>0.00</td>\n",
       "      <td>0.00</td>\n",
       "      <td>0.00</td>\n",
       "      <td>0.00</td>\n",
       "      <td>0.00</td>\n",
       "      <td>0.00</td>\n",
       "      <td>54.13</td>\n",
       "      <td>359.76</td>\n",
       "      <td>363.24</td>\n",
       "    </tr>\n",
       "    <tr>\n",
       "      <th>1003</th>\n",
       "      <td>0.0</td>\n",
       "      <td>0.00</td>\n",
       "      <td>0.00</td>\n",
       "      <td>0.00</td>\n",
       "      <td>0.00</td>\n",
       "      <td>0.00</td>\n",
       "      <td>0.00</td>\n",
       "      <td>0.00</td>\n",
       "      <td>0.00</td>\n",
       "      <td>0.00</td>\n",
       "      <td>0.00</td>\n",
       "      <td>1041.00</td>\n",
       "    </tr>\n",
       "    <tr>\n",
       "      <th>1004</th>\n",
       "      <td>0.0</td>\n",
       "      <td>0.00</td>\n",
       "      <td>0.00</td>\n",
       "      <td>0.00</td>\n",
       "      <td>181.58</td>\n",
       "      <td>261.32</td>\n",
       "      <td>358.45</td>\n",
       "      <td>334.86</td>\n",
       "      <td>284.60</td>\n",
       "      <td>341.63</td>\n",
       "      <td>452.98</td>\n",
       "      <td>403.53</td>\n",
       "    </tr>\n",
       "    <tr>\n",
       "      <th>...</th>\n",
       "      <td>...</td>\n",
       "      <td>...</td>\n",
       "      <td>...</td>\n",
       "      <td>...</td>\n",
       "      <td>...</td>\n",
       "      <td>...</td>\n",
       "      <td>...</td>\n",
       "      <td>...</td>\n",
       "      <td>...</td>\n",
       "      <td>...</td>\n",
       "      <td>...</td>\n",
       "      <td>...</td>\n",
       "    </tr>\n",
       "    <tr>\n",
       "      <th>1495</th>\n",
       "      <td>0.0</td>\n",
       "      <td>0.00</td>\n",
       "      <td>0.00</td>\n",
       "      <td>0.00</td>\n",
       "      <td>0.00</td>\n",
       "      <td>0.00</td>\n",
       "      <td>0.00</td>\n",
       "      <td>0.00</td>\n",
       "      <td>283.46</td>\n",
       "      <td>578.03</td>\n",
       "      <td>337.45</td>\n",
       "      <td>467.47</td>\n",
       "    </tr>\n",
       "    <tr>\n",
       "      <th>1496</th>\n",
       "      <td>0.0</td>\n",
       "      <td>0.00</td>\n",
       "      <td>0.00</td>\n",
       "      <td>0.00</td>\n",
       "      <td>0.00</td>\n",
       "      <td>0.00</td>\n",
       "      <td>0.00</td>\n",
       "      <td>114.62</td>\n",
       "      <td>389.94</td>\n",
       "      <td>301.16</td>\n",
       "      <td>291.88</td>\n",
       "      <td>278.61</td>\n",
       "    </tr>\n",
       "    <tr>\n",
       "      <th>1497</th>\n",
       "      <td>0.0</td>\n",
       "      <td>0.00</td>\n",
       "      <td>0.00</td>\n",
       "      <td>0.00</td>\n",
       "      <td>0.00</td>\n",
       "      <td>0.00</td>\n",
       "      <td>0.00</td>\n",
       "      <td>0.00</td>\n",
       "      <td>0.00</td>\n",
       "      <td>0.00</td>\n",
       "      <td>0.00</td>\n",
       "      <td>276.53</td>\n",
       "    </tr>\n",
       "    <tr>\n",
       "      <th>1498</th>\n",
       "      <td>0.0</td>\n",
       "      <td>231.87</td>\n",
       "      <td>247.72</td>\n",
       "      <td>344.18</td>\n",
       "      <td>275.13</td>\n",
       "      <td>225.57</td>\n",
       "      <td>304.49</td>\n",
       "      <td>244.57</td>\n",
       "      <td>344.62</td>\n",
       "      <td>278.06</td>\n",
       "      <td>208.99</td>\n",
       "      <td>324.77</td>\n",
       "    </tr>\n",
       "    <tr>\n",
       "      <th>1499</th>\n",
       "      <td>0.0</td>\n",
       "      <td>0.00</td>\n",
       "      <td>0.00</td>\n",
       "      <td>0.00</td>\n",
       "      <td>0.00</td>\n",
       "      <td>0.00</td>\n",
       "      <td>0.00</td>\n",
       "      <td>0.00</td>\n",
       "      <td>330.37</td>\n",
       "      <td>363.28</td>\n",
       "      <td>288.56</td>\n",
       "      <td>468.10</td>\n",
       "    </tr>\n",
       "  </tbody>\n",
       "</table>\n",
       "<p>481 rows × 12 columns</p>\n",
       "</div>"
      ],
      "text/plain": [
       "month     1       2       3       4       5       6       7       8       9   \\\n",
       "user_id                                                                        \n",
       "1000     0.0    0.00    0.00    0.00    0.00    0.00    0.00    0.00    0.00   \n",
       "1001     0.0    0.00    0.00    0.00    0.00    0.00    0.00  171.14  297.69   \n",
       "1002     0.0    0.00    0.00    0.00    0.00    0.00    0.00    0.00    0.00   \n",
       "1003     0.0    0.00    0.00    0.00    0.00    0.00    0.00    0.00    0.00   \n",
       "1004     0.0    0.00    0.00    0.00  181.58  261.32  358.45  334.86  284.60   \n",
       "...      ...     ...     ...     ...     ...     ...     ...     ...     ...   \n",
       "1495     0.0    0.00    0.00    0.00    0.00    0.00    0.00    0.00  283.46   \n",
       "1496     0.0    0.00    0.00    0.00    0.00    0.00    0.00  114.62  389.94   \n",
       "1497     0.0    0.00    0.00    0.00    0.00    0.00    0.00    0.00    0.00   \n",
       "1498     0.0  231.87  247.72  344.18  275.13  225.57  304.49  244.57  344.62   \n",
       "1499     0.0    0.00    0.00    0.00    0.00    0.00    0.00    0.00  330.37   \n",
       "\n",
       "month        10      11       12  \n",
       "user_id                           \n",
       "1000       0.00    0.00   116.83  \n",
       "1001     374.11  404.59   392.93  \n",
       "1002      54.13  359.76   363.24  \n",
       "1003       0.00    0.00  1041.00  \n",
       "1004     341.63  452.98   403.53  \n",
       "...         ...     ...      ...  \n",
       "1495     578.03  337.45   467.47  \n",
       "1496     301.16  291.88   278.61  \n",
       "1497       0.00    0.00   276.53  \n",
       "1498     278.06  208.99   324.77  \n",
       "1499     363.28  288.56   468.10  \n",
       "\n",
       "[481 rows x 12 columns]"
      ]
     },
     "execution_count": 205,
     "metadata": {},
     "output_type": "execute_result"
    }
   ],
   "source": [
    "# Calculating the amount of minutes spent by each user per month and saving the result.\n",
    "\n",
    "df_calls_duration = df_calls.pivot_table(index='user_id', columns='month', values='duration', aggfunc='sum', fill_value=0)\n",
    "\n",
    "df_calls_duration"
   ]
  },
  {
   "cell_type": "markdown",
   "metadata": {},
   "source": [
    "Of the **500** users analyzed in this study, according to `df_users`, only **481 made calls**.\n",
    "\n",
    "Perhaps the other 19 prefer only to communicate via the internet or by message.\n",
    "\n",
    "Let's now look at those who sent messages:"
   ]
  },
  {
   "cell_type": "code",
   "execution_count": 206,
   "metadata": {},
   "outputs": [
    {
     "data": {
      "text/html": [
       "<div>\n",
       "<style scoped>\n",
       "    .dataframe tbody tr th:only-of-type {\n",
       "        vertical-align: middle;\n",
       "    }\n",
       "\n",
       "    .dataframe tbody tr th {\n",
       "        vertical-align: top;\n",
       "    }\n",
       "\n",
       "    .dataframe thead th {\n",
       "        text-align: right;\n",
       "    }\n",
       "</style>\n",
       "<table border=\"1\" class=\"dataframe\">\n",
       "  <thead>\n",
       "    <tr style=\"text-align: right;\">\n",
       "      <th>month</th>\n",
       "      <th>1</th>\n",
       "      <th>2</th>\n",
       "      <th>3</th>\n",
       "      <th>4</th>\n",
       "      <th>5</th>\n",
       "      <th>6</th>\n",
       "      <th>7</th>\n",
       "      <th>8</th>\n",
       "      <th>9</th>\n",
       "      <th>10</th>\n",
       "      <th>11</th>\n",
       "      <th>12</th>\n",
       "    </tr>\n",
       "    <tr>\n",
       "      <th>user_id</th>\n",
       "      <th></th>\n",
       "      <th></th>\n",
       "      <th></th>\n",
       "      <th></th>\n",
       "      <th></th>\n",
       "      <th></th>\n",
       "      <th></th>\n",
       "      <th></th>\n",
       "      <th></th>\n",
       "      <th></th>\n",
       "      <th></th>\n",
       "      <th></th>\n",
       "    </tr>\n",
       "  </thead>\n",
       "  <tbody>\n",
       "    <tr>\n",
       "      <th>1000</th>\n",
       "      <td>0</td>\n",
       "      <td>0</td>\n",
       "      <td>0</td>\n",
       "      <td>0</td>\n",
       "      <td>0</td>\n",
       "      <td>0</td>\n",
       "      <td>0</td>\n",
       "      <td>0</td>\n",
       "      <td>0</td>\n",
       "      <td>0</td>\n",
       "      <td>0</td>\n",
       "      <td>11</td>\n",
       "    </tr>\n",
       "    <tr>\n",
       "      <th>1001</th>\n",
       "      <td>0</td>\n",
       "      <td>0</td>\n",
       "      <td>0</td>\n",
       "      <td>0</td>\n",
       "      <td>0</td>\n",
       "      <td>0</td>\n",
       "      <td>0</td>\n",
       "      <td>30</td>\n",
       "      <td>44</td>\n",
       "      <td>53</td>\n",
       "      <td>36</td>\n",
       "      <td>44</td>\n",
       "    </tr>\n",
       "    <tr>\n",
       "      <th>1002</th>\n",
       "      <td>0</td>\n",
       "      <td>0</td>\n",
       "      <td>0</td>\n",
       "      <td>0</td>\n",
       "      <td>0</td>\n",
       "      <td>0</td>\n",
       "      <td>0</td>\n",
       "      <td>0</td>\n",
       "      <td>0</td>\n",
       "      <td>15</td>\n",
       "      <td>32</td>\n",
       "      <td>41</td>\n",
       "    </tr>\n",
       "    <tr>\n",
       "      <th>1003</th>\n",
       "      <td>0</td>\n",
       "      <td>0</td>\n",
       "      <td>0</td>\n",
       "      <td>0</td>\n",
       "      <td>0</td>\n",
       "      <td>0</td>\n",
       "      <td>0</td>\n",
       "      <td>0</td>\n",
       "      <td>0</td>\n",
       "      <td>0</td>\n",
       "      <td>0</td>\n",
       "      <td>50</td>\n",
       "    </tr>\n",
       "    <tr>\n",
       "      <th>1004</th>\n",
       "      <td>0</td>\n",
       "      <td>0</td>\n",
       "      <td>0</td>\n",
       "      <td>0</td>\n",
       "      <td>7</td>\n",
       "      <td>18</td>\n",
       "      <td>26</td>\n",
       "      <td>25</td>\n",
       "      <td>21</td>\n",
       "      <td>24</td>\n",
       "      <td>25</td>\n",
       "      <td>31</td>\n",
       "    </tr>\n",
       "    <tr>\n",
       "      <th>...</th>\n",
       "      <td>...</td>\n",
       "      <td>...</td>\n",
       "      <td>...</td>\n",
       "      <td>...</td>\n",
       "      <td>...</td>\n",
       "      <td>...</td>\n",
       "      <td>...</td>\n",
       "      <td>...</td>\n",
       "      <td>...</td>\n",
       "      <td>...</td>\n",
       "      <td>...</td>\n",
       "      <td>...</td>\n",
       "    </tr>\n",
       "    <tr>\n",
       "      <th>1491</th>\n",
       "      <td>0</td>\n",
       "      <td>0</td>\n",
       "      <td>0</td>\n",
       "      <td>6</td>\n",
       "      <td>45</td>\n",
       "      <td>54</td>\n",
       "      <td>64</td>\n",
       "      <td>50</td>\n",
       "      <td>50</td>\n",
       "      <td>51</td>\n",
       "      <td>46</td>\n",
       "      <td>43</td>\n",
       "    </tr>\n",
       "    <tr>\n",
       "      <th>1492</th>\n",
       "      <td>0</td>\n",
       "      <td>0</td>\n",
       "      <td>0</td>\n",
       "      <td>0</td>\n",
       "      <td>0</td>\n",
       "      <td>0</td>\n",
       "      <td>0</td>\n",
       "      <td>0</td>\n",
       "      <td>11</td>\n",
       "      <td>29</td>\n",
       "      <td>31</td>\n",
       "      <td>37</td>\n",
       "    </tr>\n",
       "    <tr>\n",
       "      <th>1494</th>\n",
       "      <td>0</td>\n",
       "      <td>0</td>\n",
       "      <td>0</td>\n",
       "      <td>0</td>\n",
       "      <td>0</td>\n",
       "      <td>0</td>\n",
       "      <td>20</td>\n",
       "      <td>27</td>\n",
       "      <td>21</td>\n",
       "      <td>38</td>\n",
       "      <td>35</td>\n",
       "      <td>33</td>\n",
       "    </tr>\n",
       "    <tr>\n",
       "      <th>1496</th>\n",
       "      <td>0</td>\n",
       "      <td>0</td>\n",
       "      <td>0</td>\n",
       "      <td>0</td>\n",
       "      <td>0</td>\n",
       "      <td>0</td>\n",
       "      <td>0</td>\n",
       "      <td>2</td>\n",
       "      <td>21</td>\n",
       "      <td>18</td>\n",
       "      <td>13</td>\n",
       "      <td>11</td>\n",
       "    </tr>\n",
       "    <tr>\n",
       "      <th>1497</th>\n",
       "      <td>0</td>\n",
       "      <td>0</td>\n",
       "      <td>0</td>\n",
       "      <td>0</td>\n",
       "      <td>0</td>\n",
       "      <td>0</td>\n",
       "      <td>0</td>\n",
       "      <td>0</td>\n",
       "      <td>0</td>\n",
       "      <td>0</td>\n",
       "      <td>0</td>\n",
       "      <td>50</td>\n",
       "    </tr>\n",
       "  </tbody>\n",
       "</table>\n",
       "<p>402 rows × 12 columns</p>\n",
       "</div>"
      ],
      "text/plain": [
       "month    1   2   3   4   5   6   7   8   9   10  11  12\n",
       "user_id                                                \n",
       "1000      0   0   0   0   0   0   0   0   0   0   0  11\n",
       "1001      0   0   0   0   0   0   0  30  44  53  36  44\n",
       "1002      0   0   0   0   0   0   0   0   0  15  32  41\n",
       "1003      0   0   0   0   0   0   0   0   0   0   0  50\n",
       "1004      0   0   0   0   7  18  26  25  21  24  25  31\n",
       "...      ..  ..  ..  ..  ..  ..  ..  ..  ..  ..  ..  ..\n",
       "1491      0   0   0   6  45  54  64  50  50  51  46  43\n",
       "1492      0   0   0   0   0   0   0   0  11  29  31  37\n",
       "1494      0   0   0   0   0   0  20  27  21  38  35  33\n",
       "1496      0   0   0   0   0   0   0   2  21  18  13  11\n",
       "1497      0   0   0   0   0   0   0   0   0   0   0  50\n",
       "\n",
       "[402 rows x 12 columns]"
      ]
     },
     "execution_count": 206,
     "metadata": {},
     "output_type": "execute_result"
    }
   ],
   "source": [
    "# Calculating the number of messages sent by each user per month and saving the result.\n",
    "\n",
    "df_msg_number = df_messages.pivot_table(index='user_id', columns='month', values='msg_id', aggfunc='count', fill_value=0)\n",
    "\n",
    "df_msg_number"
   ]
  },
  {
   "cell_type": "markdown",
   "metadata": {},
   "source": [
    "Of the **500** users analyzed in this study, according to `df_users`, only **402 sent messages**.\n",
    "\n",
    "Perhaps the other 98 prefer only to communicate over the internet or over the phone.\n",
    "\n",
    "For now we have more customers making calls than sending SMS.\n",
    "\n",
    "Let's now look at mobile data usage:"
   ]
  },
  {
   "cell_type": "code",
   "execution_count": 207,
   "metadata": {
    "scrolled": true
   },
   "outputs": [
    {
     "data": {
      "text/html": [
       "<div>\n",
       "<style scoped>\n",
       "    .dataframe tbody tr th:only-of-type {\n",
       "        vertical-align: middle;\n",
       "    }\n",
       "\n",
       "    .dataframe tbody tr th {\n",
       "        vertical-align: top;\n",
       "    }\n",
       "\n",
       "    .dataframe thead th {\n",
       "        text-align: right;\n",
       "    }\n",
       "</style>\n",
       "<table border=\"1\" class=\"dataframe\">\n",
       "  <thead>\n",
       "    <tr style=\"text-align: right;\">\n",
       "      <th>month</th>\n",
       "      <th>1</th>\n",
       "      <th>2</th>\n",
       "      <th>3</th>\n",
       "      <th>4</th>\n",
       "      <th>5</th>\n",
       "      <th>6</th>\n",
       "      <th>7</th>\n",
       "      <th>8</th>\n",
       "      <th>9</th>\n",
       "      <th>10</th>\n",
       "      <th>11</th>\n",
       "      <th>12</th>\n",
       "    </tr>\n",
       "    <tr>\n",
       "      <th>user_id</th>\n",
       "      <th></th>\n",
       "      <th></th>\n",
       "      <th></th>\n",
       "      <th></th>\n",
       "      <th></th>\n",
       "      <th></th>\n",
       "      <th></th>\n",
       "      <th></th>\n",
       "      <th></th>\n",
       "      <th></th>\n",
       "      <th></th>\n",
       "      <th></th>\n",
       "    </tr>\n",
       "  </thead>\n",
       "  <tbody>\n",
       "    <tr>\n",
       "      <th>1000</th>\n",
       "      <td>0.0</td>\n",
       "      <td>0.00</td>\n",
       "      <td>0.00</td>\n",
       "      <td>0.00</td>\n",
       "      <td>0.00</td>\n",
       "      <td>0.00</td>\n",
       "      <td>0.00</td>\n",
       "      <td>0.00</td>\n",
       "      <td>0.00</td>\n",
       "      <td>0.00</td>\n",
       "      <td>0.00</td>\n",
       "      <td>1901.47</td>\n",
       "    </tr>\n",
       "    <tr>\n",
       "      <th>1001</th>\n",
       "      <td>0.0</td>\n",
       "      <td>0.00</td>\n",
       "      <td>0.00</td>\n",
       "      <td>0.00</td>\n",
       "      <td>0.00</td>\n",
       "      <td>0.00</td>\n",
       "      <td>0.00</td>\n",
       "      <td>6919.15</td>\n",
       "      <td>13314.82</td>\n",
       "      <td>22330.49</td>\n",
       "      <td>18504.30</td>\n",
       "      <td>19369.18</td>\n",
       "    </tr>\n",
       "    <tr>\n",
       "      <th>1002</th>\n",
       "      <td>0.0</td>\n",
       "      <td>0.00</td>\n",
       "      <td>0.00</td>\n",
       "      <td>0.00</td>\n",
       "      <td>0.00</td>\n",
       "      <td>0.00</td>\n",
       "      <td>0.00</td>\n",
       "      <td>0.00</td>\n",
       "      <td>0.00</td>\n",
       "      <td>6552.01</td>\n",
       "      <td>19345.08</td>\n",
       "      <td>14396.24</td>\n",
       "    </tr>\n",
       "    <tr>\n",
       "      <th>1003</th>\n",
       "      <td>0.0</td>\n",
       "      <td>0.00</td>\n",
       "      <td>0.00</td>\n",
       "      <td>0.00</td>\n",
       "      <td>0.00</td>\n",
       "      <td>0.00</td>\n",
       "      <td>0.00</td>\n",
       "      <td>0.00</td>\n",
       "      <td>0.00</td>\n",
       "      <td>0.00</td>\n",
       "      <td>0.00</td>\n",
       "      <td>27044.14</td>\n",
       "    </tr>\n",
       "    <tr>\n",
       "      <th>1004</th>\n",
       "      <td>0.0</td>\n",
       "      <td>0.00</td>\n",
       "      <td>0.00</td>\n",
       "      <td>0.00</td>\n",
       "      <td>6547.21</td>\n",
       "      <td>20672.82</td>\n",
       "      <td>24516.62</td>\n",
       "      <td>27981.74</td>\n",
       "      <td>18852.72</td>\n",
       "      <td>14541.63</td>\n",
       "      <td>21850.78</td>\n",
       "      <td>21389.29</td>\n",
       "    </tr>\n",
       "    <tr>\n",
       "      <th>...</th>\n",
       "      <td>...</td>\n",
       "      <td>...</td>\n",
       "      <td>...</td>\n",
       "      <td>...</td>\n",
       "      <td>...</td>\n",
       "      <td>...</td>\n",
       "      <td>...</td>\n",
       "      <td>...</td>\n",
       "      <td>...</td>\n",
       "      <td>...</td>\n",
       "      <td>...</td>\n",
       "      <td>...</td>\n",
       "    </tr>\n",
       "    <tr>\n",
       "      <th>1495</th>\n",
       "      <td>0.0</td>\n",
       "      <td>0.00</td>\n",
       "      <td>0.00</td>\n",
       "      <td>0.00</td>\n",
       "      <td>0.00</td>\n",
       "      <td>0.00</td>\n",
       "      <td>0.00</td>\n",
       "      <td>0.00</td>\n",
       "      <td>22981.37</td>\n",
       "      <td>26899.41</td>\n",
       "      <td>24912.78</td>\n",
       "      <td>24097.40</td>\n",
       "    </tr>\n",
       "    <tr>\n",
       "      <th>1496</th>\n",
       "      <td>0.0</td>\n",
       "      <td>0.00</td>\n",
       "      <td>0.00</td>\n",
       "      <td>0.00</td>\n",
       "      <td>0.00</td>\n",
       "      <td>0.00</td>\n",
       "      <td>0.00</td>\n",
       "      <td>8605.66</td>\n",
       "      <td>16389.27</td>\n",
       "      <td>14287.36</td>\n",
       "      <td>8547.36</td>\n",
       "      <td>16438.99</td>\n",
       "    </tr>\n",
       "    <tr>\n",
       "      <th>1497</th>\n",
       "      <td>0.0</td>\n",
       "      <td>0.00</td>\n",
       "      <td>0.00</td>\n",
       "      <td>0.00</td>\n",
       "      <td>0.00</td>\n",
       "      <td>0.00</td>\n",
       "      <td>0.00</td>\n",
       "      <td>0.00</td>\n",
       "      <td>0.00</td>\n",
       "      <td>0.00</td>\n",
       "      <td>0.00</td>\n",
       "      <td>11106.55</td>\n",
       "    </tr>\n",
       "    <tr>\n",
       "      <th>1498</th>\n",
       "      <td>0.0</td>\n",
       "      <td>19822.04</td>\n",
       "      <td>19744.34</td>\n",
       "      <td>19878.86</td>\n",
       "      <td>22462.17</td>\n",
       "      <td>14807.18</td>\n",
       "      <td>24834.37</td>\n",
       "      <td>20261.89</td>\n",
       "      <td>22827.28</td>\n",
       "      <td>20580.76</td>\n",
       "      <td>19168.55</td>\n",
       "      <td>23137.69</td>\n",
       "    </tr>\n",
       "    <tr>\n",
       "      <th>1499</th>\n",
       "      <td>0.0</td>\n",
       "      <td>0.00</td>\n",
       "      <td>0.00</td>\n",
       "      <td>0.00</td>\n",
       "      <td>0.00</td>\n",
       "      <td>0.00</td>\n",
       "      <td>0.00</td>\n",
       "      <td>0.00</td>\n",
       "      <td>12984.76</td>\n",
       "      <td>19492.43</td>\n",
       "      <td>16813.83</td>\n",
       "      <td>22059.21</td>\n",
       "    </tr>\n",
       "  </tbody>\n",
       "</table>\n",
       "<p>489 rows × 12 columns</p>\n",
       "</div>"
      ],
      "text/plain": [
       "month     1         2         3         4         5         6         7   \\\n",
       "user_id                                                                    \n",
       "1000     0.0      0.00      0.00      0.00      0.00      0.00      0.00   \n",
       "1001     0.0      0.00      0.00      0.00      0.00      0.00      0.00   \n",
       "1002     0.0      0.00      0.00      0.00      0.00      0.00      0.00   \n",
       "1003     0.0      0.00      0.00      0.00      0.00      0.00      0.00   \n",
       "1004     0.0      0.00      0.00      0.00   6547.21  20672.82  24516.62   \n",
       "...      ...       ...       ...       ...       ...       ...       ...   \n",
       "1495     0.0      0.00      0.00      0.00      0.00      0.00      0.00   \n",
       "1496     0.0      0.00      0.00      0.00      0.00      0.00      0.00   \n",
       "1497     0.0      0.00      0.00      0.00      0.00      0.00      0.00   \n",
       "1498     0.0  19822.04  19744.34  19878.86  22462.17  14807.18  24834.37   \n",
       "1499     0.0      0.00      0.00      0.00      0.00      0.00      0.00   \n",
       "\n",
       "month          8         9         10        11        12  \n",
       "user_id                                                    \n",
       "1000         0.00      0.00      0.00      0.00   1901.47  \n",
       "1001      6919.15  13314.82  22330.49  18504.30  19369.18  \n",
       "1002         0.00      0.00   6552.01  19345.08  14396.24  \n",
       "1003         0.00      0.00      0.00      0.00  27044.14  \n",
       "1004     27981.74  18852.72  14541.63  21850.78  21389.29  \n",
       "...           ...       ...       ...       ...       ...  \n",
       "1495         0.00  22981.37  26899.41  24912.78  24097.40  \n",
       "1496      8605.66  16389.27  14287.36   8547.36  16438.99  \n",
       "1497         0.00      0.00      0.00      0.00  11106.55  \n",
       "1498     20261.89  22827.28  20580.76  19168.55  23137.69  \n",
       "1499         0.00  12984.76  19492.43  16813.83  22059.21  \n",
       "\n",
       "[489 rows x 12 columns]"
      ]
     },
     "execution_count": 207,
     "metadata": {},
     "output_type": "execute_result"
    }
   ],
   "source": [
    "# Calculating the volume of internet traffic in megabytes used by each user per month and saving the result.\n",
    "\n",
    "df_internet_used = df_internet.pivot_table(index='user_id', columns='month', values='mb_used', aggfunc='sum', fill_value=0)\n",
    "\n",
    "df_internet_used"
   ]
  },
  {
   "cell_type": "markdown",
   "metadata": {},
   "source": [
    "Within this sample of **500** users analyzed, according to `df_users`, **489 sent messages**.\n",
    "\n",
    "Only 11 still use the services for calling or SMS.\n",
    "\n",
    "Within our \"small group\" of customers, the sequence of the most used services is: **internet** (489) > **connection** (481) > **messages** (402).\n",
    "\n",
    "Does this proportion replicate for all customers of the telecom company Megaline?\n",
    "\n",
    "For now, let's continue by leaving each of these tables in tabular format, with 12 lines for each `user_id`, one for each month, so that later we can gather all this data in a single dataframe that represents what a single user consumed in a given month:"
   ]
  },
  {
   "cell_type": "code",
   "execution_count": 208,
   "metadata": {},
   "outputs": [
    {
     "data": {
      "text/html": [
       "<div>\n",
       "<style scoped>\n",
       "    .dataframe tbody tr th:only-of-type {\n",
       "        vertical-align: middle;\n",
       "    }\n",
       "\n",
       "    .dataframe tbody tr th {\n",
       "        vertical-align: top;\n",
       "    }\n",
       "\n",
       "    .dataframe thead th {\n",
       "        text-align: right;\n",
       "    }\n",
       "</style>\n",
       "<table border=\"1\" class=\"dataframe\">\n",
       "  <thead>\n",
       "    <tr style=\"text-align: right;\">\n",
       "      <th></th>\n",
       "      <th>user_id</th>\n",
       "      <th>month</th>\n",
       "      <th>call_id</th>\n",
       "    </tr>\n",
       "  </thead>\n",
       "  <tbody>\n",
       "    <tr>\n",
       "      <th>0</th>\n",
       "      <td>1000</td>\n",
       "      <td>1</td>\n",
       "      <td>0</td>\n",
       "    </tr>\n",
       "    <tr>\n",
       "      <th>1</th>\n",
       "      <td>1000</td>\n",
       "      <td>2</td>\n",
       "      <td>0</td>\n",
       "    </tr>\n",
       "    <tr>\n",
       "      <th>2</th>\n",
       "      <td>1000</td>\n",
       "      <td>3</td>\n",
       "      <td>0</td>\n",
       "    </tr>\n",
       "    <tr>\n",
       "      <th>3</th>\n",
       "      <td>1000</td>\n",
       "      <td>4</td>\n",
       "      <td>0</td>\n",
       "    </tr>\n",
       "    <tr>\n",
       "      <th>4</th>\n",
       "      <td>1000</td>\n",
       "      <td>5</td>\n",
       "      <td>0</td>\n",
       "    </tr>\n",
       "    <tr>\n",
       "      <th>...</th>\n",
       "      <td>...</td>\n",
       "      <td>...</td>\n",
       "      <td>...</td>\n",
       "    </tr>\n",
       "    <tr>\n",
       "      <th>5767</th>\n",
       "      <td>1499</td>\n",
       "      <td>8</td>\n",
       "      <td>0</td>\n",
       "    </tr>\n",
       "    <tr>\n",
       "      <th>5768</th>\n",
       "      <td>1499</td>\n",
       "      <td>9</td>\n",
       "      <td>35</td>\n",
       "    </tr>\n",
       "    <tr>\n",
       "      <th>5769</th>\n",
       "      <td>1499</td>\n",
       "      <td>10</td>\n",
       "      <td>41</td>\n",
       "    </tr>\n",
       "    <tr>\n",
       "      <th>5770</th>\n",
       "      <td>1499</td>\n",
       "      <td>11</td>\n",
       "      <td>39</td>\n",
       "    </tr>\n",
       "    <tr>\n",
       "      <th>5771</th>\n",
       "      <td>1499</td>\n",
       "      <td>12</td>\n",
       "      <td>56</td>\n",
       "    </tr>\n",
       "  </tbody>\n",
       "</table>\n",
       "<p>5772 rows × 3 columns</p>\n",
       "</div>"
      ],
      "text/plain": [
       "      user_id  month  call_id\n",
       "0        1000      1        0\n",
       "1        1000      2        0\n",
       "2        1000      3        0\n",
       "3        1000      4        0\n",
       "4        1000      5        0\n",
       "...       ...    ...      ...\n",
       "5767     1499      8        0\n",
       "5768     1499      9       35\n",
       "5769     1499     10       41\n",
       "5770     1499     11       39\n",
       "5771     1499     12       56\n",
       "\n",
       "[5772 rows x 3 columns]"
      ]
     },
     "execution_count": 208,
     "metadata": {},
     "output_type": "execute_result"
    }
   ],
   "source": [
    "# Transforming the 'df_calls_number' table into tabular format\n",
    "\n",
    "df_calls_number_tabular = df_calls_number.stack().reset_index()\n",
    "df_calls_number_tabular.columns = ['user_id', 'month', 'call_id']\n",
    "df_calls_number_tabular"
   ]
  },
  {
   "cell_type": "code",
   "execution_count": 209,
   "metadata": {},
   "outputs": [
    {
     "data": {
      "text/html": [
       "<div>\n",
       "<style scoped>\n",
       "    .dataframe tbody tr th:only-of-type {\n",
       "        vertical-align: middle;\n",
       "    }\n",
       "\n",
       "    .dataframe tbody tr th {\n",
       "        vertical-align: top;\n",
       "    }\n",
       "\n",
       "    .dataframe thead th {\n",
       "        text-align: right;\n",
       "    }\n",
       "</style>\n",
       "<table border=\"1\" class=\"dataframe\">\n",
       "  <thead>\n",
       "    <tr style=\"text-align: right;\">\n",
       "      <th></th>\n",
       "      <th>user_id</th>\n",
       "      <th>month</th>\n",
       "      <th>duration</th>\n",
       "    </tr>\n",
       "  </thead>\n",
       "  <tbody>\n",
       "    <tr>\n",
       "      <th>0</th>\n",
       "      <td>1000</td>\n",
       "      <td>1</td>\n",
       "      <td>0.00</td>\n",
       "    </tr>\n",
       "    <tr>\n",
       "      <th>1</th>\n",
       "      <td>1000</td>\n",
       "      <td>2</td>\n",
       "      <td>0.00</td>\n",
       "    </tr>\n",
       "    <tr>\n",
       "      <th>2</th>\n",
       "      <td>1000</td>\n",
       "      <td>3</td>\n",
       "      <td>0.00</td>\n",
       "    </tr>\n",
       "    <tr>\n",
       "      <th>3</th>\n",
       "      <td>1000</td>\n",
       "      <td>4</td>\n",
       "      <td>0.00</td>\n",
       "    </tr>\n",
       "    <tr>\n",
       "      <th>4</th>\n",
       "      <td>1000</td>\n",
       "      <td>5</td>\n",
       "      <td>0.00</td>\n",
       "    </tr>\n",
       "    <tr>\n",
       "      <th>...</th>\n",
       "      <td>...</td>\n",
       "      <td>...</td>\n",
       "      <td>...</td>\n",
       "    </tr>\n",
       "    <tr>\n",
       "      <th>5767</th>\n",
       "      <td>1499</td>\n",
       "      <td>8</td>\n",
       "      <td>0.00</td>\n",
       "    </tr>\n",
       "    <tr>\n",
       "      <th>5768</th>\n",
       "      <td>1499</td>\n",
       "      <td>9</td>\n",
       "      <td>330.37</td>\n",
       "    </tr>\n",
       "    <tr>\n",
       "      <th>5769</th>\n",
       "      <td>1499</td>\n",
       "      <td>10</td>\n",
       "      <td>363.28</td>\n",
       "    </tr>\n",
       "    <tr>\n",
       "      <th>5770</th>\n",
       "      <td>1499</td>\n",
       "      <td>11</td>\n",
       "      <td>288.56</td>\n",
       "    </tr>\n",
       "    <tr>\n",
       "      <th>5771</th>\n",
       "      <td>1499</td>\n",
       "      <td>12</td>\n",
       "      <td>468.10</td>\n",
       "    </tr>\n",
       "  </tbody>\n",
       "</table>\n",
       "<p>5772 rows × 3 columns</p>\n",
       "</div>"
      ],
      "text/plain": [
       "      user_id  month  duration\n",
       "0        1000      1      0.00\n",
       "1        1000      2      0.00\n",
       "2        1000      3      0.00\n",
       "3        1000      4      0.00\n",
       "4        1000      5      0.00\n",
       "...       ...    ...       ...\n",
       "5767     1499      8      0.00\n",
       "5768     1499      9    330.37\n",
       "5769     1499     10    363.28\n",
       "5770     1499     11    288.56\n",
       "5771     1499     12    468.10\n",
       "\n",
       "[5772 rows x 3 columns]"
      ]
     },
     "execution_count": 209,
     "metadata": {},
     "output_type": "execute_result"
    }
   ],
   "source": [
    "# Transforming the 'df_calls_duration' table into tabular format\n",
    "\n",
    "df_calls_duration_tabular = df_calls_duration.stack().reset_index()\n",
    "df_calls_duration_tabular.columns = ['user_id', 'month', 'duration']\n",
    "df_calls_duration_tabular"
   ]
  },
  {
   "cell_type": "code",
   "execution_count": 210,
   "metadata": {},
   "outputs": [
    {
     "data": {
      "text/html": [
       "<div>\n",
       "<style scoped>\n",
       "    .dataframe tbody tr th:only-of-type {\n",
       "        vertical-align: middle;\n",
       "    }\n",
       "\n",
       "    .dataframe tbody tr th {\n",
       "        vertical-align: top;\n",
       "    }\n",
       "\n",
       "    .dataframe thead th {\n",
       "        text-align: right;\n",
       "    }\n",
       "</style>\n",
       "<table border=\"1\" class=\"dataframe\">\n",
       "  <thead>\n",
       "    <tr style=\"text-align: right;\">\n",
       "      <th></th>\n",
       "      <th>user_id</th>\n",
       "      <th>month</th>\n",
       "      <th>msg_id</th>\n",
       "    </tr>\n",
       "  </thead>\n",
       "  <tbody>\n",
       "    <tr>\n",
       "      <th>0</th>\n",
       "      <td>1000</td>\n",
       "      <td>1</td>\n",
       "      <td>0</td>\n",
       "    </tr>\n",
       "    <tr>\n",
       "      <th>1</th>\n",
       "      <td>1000</td>\n",
       "      <td>2</td>\n",
       "      <td>0</td>\n",
       "    </tr>\n",
       "    <tr>\n",
       "      <th>2</th>\n",
       "      <td>1000</td>\n",
       "      <td>3</td>\n",
       "      <td>0</td>\n",
       "    </tr>\n",
       "    <tr>\n",
       "      <th>3</th>\n",
       "      <td>1000</td>\n",
       "      <td>4</td>\n",
       "      <td>0</td>\n",
       "    </tr>\n",
       "    <tr>\n",
       "      <th>4</th>\n",
       "      <td>1000</td>\n",
       "      <td>5</td>\n",
       "      <td>0</td>\n",
       "    </tr>\n",
       "    <tr>\n",
       "      <th>...</th>\n",
       "      <td>...</td>\n",
       "      <td>...</td>\n",
       "      <td>...</td>\n",
       "    </tr>\n",
       "    <tr>\n",
       "      <th>4819</th>\n",
       "      <td>1497</td>\n",
       "      <td>8</td>\n",
       "      <td>0</td>\n",
       "    </tr>\n",
       "    <tr>\n",
       "      <th>4820</th>\n",
       "      <td>1497</td>\n",
       "      <td>9</td>\n",
       "      <td>0</td>\n",
       "    </tr>\n",
       "    <tr>\n",
       "      <th>4821</th>\n",
       "      <td>1497</td>\n",
       "      <td>10</td>\n",
       "      <td>0</td>\n",
       "    </tr>\n",
       "    <tr>\n",
       "      <th>4822</th>\n",
       "      <td>1497</td>\n",
       "      <td>11</td>\n",
       "      <td>0</td>\n",
       "    </tr>\n",
       "    <tr>\n",
       "      <th>4823</th>\n",
       "      <td>1497</td>\n",
       "      <td>12</td>\n",
       "      <td>50</td>\n",
       "    </tr>\n",
       "  </tbody>\n",
       "</table>\n",
       "<p>4824 rows × 3 columns</p>\n",
       "</div>"
      ],
      "text/plain": [
       "      user_id  month  msg_id\n",
       "0        1000      1       0\n",
       "1        1000      2       0\n",
       "2        1000      3       0\n",
       "3        1000      4       0\n",
       "4        1000      5       0\n",
       "...       ...    ...     ...\n",
       "4819     1497      8       0\n",
       "4820     1497      9       0\n",
       "4821     1497     10       0\n",
       "4822     1497     11       0\n",
       "4823     1497     12      50\n",
       "\n",
       "[4824 rows x 3 columns]"
      ]
     },
     "execution_count": 210,
     "metadata": {},
     "output_type": "execute_result"
    }
   ],
   "source": [
    "# Transforming the 'df_msg_number' table into tabular format\n",
    "\n",
    "df_msg_number_tabular = df_msg_number.stack().reset_index()\n",
    "df_msg_number_tabular.columns = ['user_id', 'month', 'msg_id']\n",
    "df_msg_number_tabular"
   ]
  },
  {
   "cell_type": "code",
   "execution_count": 211,
   "metadata": {},
   "outputs": [
    {
     "data": {
      "text/html": [
       "<div>\n",
       "<style scoped>\n",
       "    .dataframe tbody tr th:only-of-type {\n",
       "        vertical-align: middle;\n",
       "    }\n",
       "\n",
       "    .dataframe tbody tr th {\n",
       "        vertical-align: top;\n",
       "    }\n",
       "\n",
       "    .dataframe thead th {\n",
       "        text-align: right;\n",
       "    }\n",
       "</style>\n",
       "<table border=\"1\" class=\"dataframe\">\n",
       "  <thead>\n",
       "    <tr style=\"text-align: right;\">\n",
       "      <th></th>\n",
       "      <th>user_id</th>\n",
       "      <th>month</th>\n",
       "      <th>mb_used</th>\n",
       "    </tr>\n",
       "  </thead>\n",
       "  <tbody>\n",
       "    <tr>\n",
       "      <th>0</th>\n",
       "      <td>1000</td>\n",
       "      <td>1</td>\n",
       "      <td>0.00</td>\n",
       "    </tr>\n",
       "    <tr>\n",
       "      <th>1</th>\n",
       "      <td>1000</td>\n",
       "      <td>2</td>\n",
       "      <td>0.00</td>\n",
       "    </tr>\n",
       "    <tr>\n",
       "      <th>2</th>\n",
       "      <td>1000</td>\n",
       "      <td>3</td>\n",
       "      <td>0.00</td>\n",
       "    </tr>\n",
       "    <tr>\n",
       "      <th>3</th>\n",
       "      <td>1000</td>\n",
       "      <td>4</td>\n",
       "      <td>0.00</td>\n",
       "    </tr>\n",
       "    <tr>\n",
       "      <th>4</th>\n",
       "      <td>1000</td>\n",
       "      <td>5</td>\n",
       "      <td>0.00</td>\n",
       "    </tr>\n",
       "    <tr>\n",
       "      <th>...</th>\n",
       "      <td>...</td>\n",
       "      <td>...</td>\n",
       "      <td>...</td>\n",
       "    </tr>\n",
       "    <tr>\n",
       "      <th>5863</th>\n",
       "      <td>1499</td>\n",
       "      <td>8</td>\n",
       "      <td>0.00</td>\n",
       "    </tr>\n",
       "    <tr>\n",
       "      <th>5864</th>\n",
       "      <td>1499</td>\n",
       "      <td>9</td>\n",
       "      <td>12984.76</td>\n",
       "    </tr>\n",
       "    <tr>\n",
       "      <th>5865</th>\n",
       "      <td>1499</td>\n",
       "      <td>10</td>\n",
       "      <td>19492.43</td>\n",
       "    </tr>\n",
       "    <tr>\n",
       "      <th>5866</th>\n",
       "      <td>1499</td>\n",
       "      <td>11</td>\n",
       "      <td>16813.83</td>\n",
       "    </tr>\n",
       "    <tr>\n",
       "      <th>5867</th>\n",
       "      <td>1499</td>\n",
       "      <td>12</td>\n",
       "      <td>22059.21</td>\n",
       "    </tr>\n",
       "  </tbody>\n",
       "</table>\n",
       "<p>5868 rows × 3 columns</p>\n",
       "</div>"
      ],
      "text/plain": [
       "      user_id  month   mb_used\n",
       "0        1000      1      0.00\n",
       "1        1000      2      0.00\n",
       "2        1000      3      0.00\n",
       "3        1000      4      0.00\n",
       "4        1000      5      0.00\n",
       "...       ...    ...       ...\n",
       "5863     1499      8      0.00\n",
       "5864     1499      9  12984.76\n",
       "5865     1499     10  19492.43\n",
       "5866     1499     11  16813.83\n",
       "5867     1499     12  22059.21\n",
       "\n",
       "[5868 rows x 3 columns]"
      ]
     },
     "execution_count": 211,
     "metadata": {},
     "output_type": "execute_result"
    }
   ],
   "source": [
    "# Transforming the 'df_internet_used' table into tabular format\n",
    "\n",
    "df_internet_tabular = df_internet_used.stack().reset_index()\n",
    "df_internet_tabular.columns = ['user_id', 'month', 'mb_used']\n",
    "df_internet_tabular"
   ]
  },
  {
   "cell_type": "code",
   "execution_count": 212,
   "metadata": {},
   "outputs": [
    {
     "data": {
      "text/html": [
       "<div>\n",
       "<style scoped>\n",
       "    .dataframe tbody tr th:only-of-type {\n",
       "        vertical-align: middle;\n",
       "    }\n",
       "\n",
       "    .dataframe tbody tr th {\n",
       "        vertical-align: top;\n",
       "    }\n",
       "\n",
       "    .dataframe thead th {\n",
       "        text-align: right;\n",
       "    }\n",
       "</style>\n",
       "<table border=\"1\" class=\"dataframe\">\n",
       "  <thead>\n",
       "    <tr style=\"text-align: right;\">\n",
       "      <th></th>\n",
       "      <th>user_id</th>\n",
       "      <th>month</th>\n",
       "      <th>call_id</th>\n",
       "      <th>duration</th>\n",
       "      <th>msg_id</th>\n",
       "      <th>mb_used</th>\n",
       "    </tr>\n",
       "  </thead>\n",
       "  <tbody>\n",
       "    <tr>\n",
       "      <th>0</th>\n",
       "      <td>1000</td>\n",
       "      <td>1</td>\n",
       "      <td>0</td>\n",
       "      <td>0.00</td>\n",
       "      <td>0.0</td>\n",
       "      <td>0.00</td>\n",
       "    </tr>\n",
       "    <tr>\n",
       "      <th>1</th>\n",
       "      <td>1000</td>\n",
       "      <td>2</td>\n",
       "      <td>0</td>\n",
       "      <td>0.00</td>\n",
       "      <td>0.0</td>\n",
       "      <td>0.00</td>\n",
       "    </tr>\n",
       "    <tr>\n",
       "      <th>2</th>\n",
       "      <td>1000</td>\n",
       "      <td>3</td>\n",
       "      <td>0</td>\n",
       "      <td>0.00</td>\n",
       "      <td>0.0</td>\n",
       "      <td>0.00</td>\n",
       "    </tr>\n",
       "    <tr>\n",
       "      <th>3</th>\n",
       "      <td>1000</td>\n",
       "      <td>4</td>\n",
       "      <td>0</td>\n",
       "      <td>0.00</td>\n",
       "      <td>0.0</td>\n",
       "      <td>0.00</td>\n",
       "    </tr>\n",
       "    <tr>\n",
       "      <th>4</th>\n",
       "      <td>1000</td>\n",
       "      <td>5</td>\n",
       "      <td>0</td>\n",
       "      <td>0.00</td>\n",
       "      <td>0.0</td>\n",
       "      <td>0.00</td>\n",
       "    </tr>\n",
       "    <tr>\n",
       "      <th>...</th>\n",
       "      <td>...</td>\n",
       "      <td>...</td>\n",
       "      <td>...</td>\n",
       "      <td>...</td>\n",
       "      <td>...</td>\n",
       "      <td>...</td>\n",
       "    </tr>\n",
       "    <tr>\n",
       "      <th>5767</th>\n",
       "      <td>1499</td>\n",
       "      <td>8</td>\n",
       "      <td>0</td>\n",
       "      <td>0.00</td>\n",
       "      <td>NaN</td>\n",
       "      <td>0.00</td>\n",
       "    </tr>\n",
       "    <tr>\n",
       "      <th>5768</th>\n",
       "      <td>1499</td>\n",
       "      <td>9</td>\n",
       "      <td>35</td>\n",
       "      <td>330.37</td>\n",
       "      <td>NaN</td>\n",
       "      <td>12984.76</td>\n",
       "    </tr>\n",
       "    <tr>\n",
       "      <th>5769</th>\n",
       "      <td>1499</td>\n",
       "      <td>10</td>\n",
       "      <td>41</td>\n",
       "      <td>363.28</td>\n",
       "      <td>NaN</td>\n",
       "      <td>19492.43</td>\n",
       "    </tr>\n",
       "    <tr>\n",
       "      <th>5770</th>\n",
       "      <td>1499</td>\n",
       "      <td>11</td>\n",
       "      <td>39</td>\n",
       "      <td>288.56</td>\n",
       "      <td>NaN</td>\n",
       "      <td>16813.83</td>\n",
       "    </tr>\n",
       "    <tr>\n",
       "      <th>5771</th>\n",
       "      <td>1499</td>\n",
       "      <td>12</td>\n",
       "      <td>56</td>\n",
       "      <td>468.10</td>\n",
       "      <td>NaN</td>\n",
       "      <td>22059.21</td>\n",
       "    </tr>\n",
       "  </tbody>\n",
       "</table>\n",
       "<p>5772 rows × 6 columns</p>\n",
       "</div>"
      ],
      "text/plain": [
       "      user_id  month  call_id  duration  msg_id   mb_used\n",
       "0        1000      1        0      0.00     0.0      0.00\n",
       "1        1000      2        0      0.00     0.0      0.00\n",
       "2        1000      3        0      0.00     0.0      0.00\n",
       "3        1000      4        0      0.00     0.0      0.00\n",
       "4        1000      5        0      0.00     0.0      0.00\n",
       "...       ...    ...      ...       ...     ...       ...\n",
       "5767     1499      8        0      0.00     NaN      0.00\n",
       "5768     1499      9       35    330.37     NaN  12984.76\n",
       "5769     1499     10       41    363.28     NaN  19492.43\n",
       "5770     1499     11       39    288.56     NaN  16813.83\n",
       "5771     1499     12       56    468.10     NaN  22059.21\n",
       "\n",
       "[5772 rows x 6 columns]"
      ]
     },
     "execution_count": 212,
     "metadata": {},
     "output_type": "execute_result"
    }
   ],
   "source": [
    "# Merging call, minutes, messages, internet data based on user_id and month\n",
    "\n",
    "df = df_calls_number_tabular.merge(df_calls_duration_tabular, on=['user_id', 'month'], how='left')\n",
    "df = df.merge(df_msg_number_tabular, on=['user_id', 'month'], how='left')\n",
    "df = df.merge(df_internet_tabular, on=['user_id', 'month'], how='left')\n",
    "df"
   ]
  },
  {
   "cell_type": "code",
   "execution_count": 213,
   "metadata": {},
   "outputs": [],
   "source": [
    "# Creating the formula to find out the gigabytes of each user\n",
    "\n",
    "import math\n",
    "\n",
    "def gb_u(row):\n",
    "     mb = row['mb_used']\n",
    "    \n",
    "     if mb > 0:\n",
    "         gb = math.ceil(mb / 1000)\n",
    "            \n",
    "     else:\n",
    "         gb = 0\n",
    "               \n",
    "     return gb"
   ]
  },
  {
   "cell_type": "code",
   "execution_count": 214,
   "metadata": {},
   "outputs": [
    {
     "data": {
      "text/html": [
       "<div>\n",
       "<style scoped>\n",
       "    .dataframe tbody tr th:only-of-type {\n",
       "        vertical-align: middle;\n",
       "    }\n",
       "\n",
       "    .dataframe tbody tr th {\n",
       "        vertical-align: top;\n",
       "    }\n",
       "\n",
       "    .dataframe thead th {\n",
       "        text-align: right;\n",
       "    }\n",
       "</style>\n",
       "<table border=\"1\" class=\"dataframe\">\n",
       "  <thead>\n",
       "    <tr style=\"text-align: right;\">\n",
       "      <th></th>\n",
       "      <th>user_id</th>\n",
       "      <th>month</th>\n",
       "      <th>call_id</th>\n",
       "      <th>duration</th>\n",
       "      <th>msg_id</th>\n",
       "      <th>mb_used</th>\n",
       "      <th>gb_used</th>\n",
       "    </tr>\n",
       "  </thead>\n",
       "  <tbody>\n",
       "    <tr>\n",
       "      <th>5767</th>\n",
       "      <td>1499</td>\n",
       "      <td>8</td>\n",
       "      <td>0</td>\n",
       "      <td>0.00</td>\n",
       "      <td>NaN</td>\n",
       "      <td>0.00</td>\n",
       "      <td>0</td>\n",
       "    </tr>\n",
       "    <tr>\n",
       "      <th>5768</th>\n",
       "      <td>1499</td>\n",
       "      <td>9</td>\n",
       "      <td>35</td>\n",
       "      <td>330.37</td>\n",
       "      <td>NaN</td>\n",
       "      <td>12984.76</td>\n",
       "      <td>13</td>\n",
       "    </tr>\n",
       "    <tr>\n",
       "      <th>5769</th>\n",
       "      <td>1499</td>\n",
       "      <td>10</td>\n",
       "      <td>41</td>\n",
       "      <td>363.28</td>\n",
       "      <td>NaN</td>\n",
       "      <td>19492.43</td>\n",
       "      <td>20</td>\n",
       "    </tr>\n",
       "    <tr>\n",
       "      <th>5770</th>\n",
       "      <td>1499</td>\n",
       "      <td>11</td>\n",
       "      <td>39</td>\n",
       "      <td>288.56</td>\n",
       "      <td>NaN</td>\n",
       "      <td>16813.83</td>\n",
       "      <td>17</td>\n",
       "    </tr>\n",
       "    <tr>\n",
       "      <th>5771</th>\n",
       "      <td>1499</td>\n",
       "      <td>12</td>\n",
       "      <td>56</td>\n",
       "      <td>468.10</td>\n",
       "      <td>NaN</td>\n",
       "      <td>22059.21</td>\n",
       "      <td>23</td>\n",
       "    </tr>\n",
       "  </tbody>\n",
       "</table>\n",
       "</div>"
      ],
      "text/plain": [
       "      user_id  month  call_id  duration  msg_id   mb_used  gb_used\n",
       "5767     1499      8        0      0.00     NaN      0.00        0\n",
       "5768     1499      9       35    330.37     NaN  12984.76       13\n",
       "5769     1499     10       41    363.28     NaN  19492.43       20\n",
       "5770     1499     11       39    288.56     NaN  16813.83       17\n",
       "5771     1499     12       56    468.10     NaN  22059.21       23"
      ]
     },
     "execution_count": 214,
     "metadata": {},
     "output_type": "execute_result"
    }
   ],
   "source": [
    "# Creating a column with the used gigabytes\n",
    "\n",
    "df['gb_used'] = df.apply(gb_u, axis=1)\n",
    "\n",
    "df.tail()"
   ]
  },
  {
   "cell_type": "code",
   "execution_count": 215,
   "metadata": {},
   "outputs": [],
   "source": [
    "df_merged = pd.merge(df, df_users[['user_id', 'city']], on='user_id', how='left')"
   ]
  },
  {
   "cell_type": "code",
   "execution_count": 216,
   "metadata": {},
   "outputs": [
    {
     "data": {
      "text/html": [
       "<div>\n",
       "<style scoped>\n",
       "    .dataframe tbody tr th:only-of-type {\n",
       "        vertical-align: middle;\n",
       "    }\n",
       "\n",
       "    .dataframe tbody tr th {\n",
       "        vertical-align: top;\n",
       "    }\n",
       "\n",
       "    .dataframe thead th {\n",
       "        text-align: right;\n",
       "    }\n",
       "</style>\n",
       "<table border=\"1\" class=\"dataframe\">\n",
       "  <thead>\n",
       "    <tr style=\"text-align: right;\">\n",
       "      <th></th>\n",
       "      <th>user_id</th>\n",
       "      <th>month</th>\n",
       "      <th>call_id</th>\n",
       "      <th>duration</th>\n",
       "      <th>msg_id</th>\n",
       "      <th>mb_used</th>\n",
       "      <th>gb_used</th>\n",
       "      <th>city</th>\n",
       "    </tr>\n",
       "  </thead>\n",
       "  <tbody>\n",
       "    <tr>\n",
       "      <th>0</th>\n",
       "      <td>1000</td>\n",
       "      <td>1</td>\n",
       "      <td>0</td>\n",
       "      <td>0.00</td>\n",
       "      <td>0.0</td>\n",
       "      <td>0.00</td>\n",
       "      <td>0</td>\n",
       "      <td>Atlanta-Sandy Springs-Roswell, GA MSA</td>\n",
       "    </tr>\n",
       "    <tr>\n",
       "      <th>1</th>\n",
       "      <td>1000</td>\n",
       "      <td>2</td>\n",
       "      <td>0</td>\n",
       "      <td>0.00</td>\n",
       "      <td>0.0</td>\n",
       "      <td>0.00</td>\n",
       "      <td>0</td>\n",
       "      <td>Atlanta-Sandy Springs-Roswell, GA MSA</td>\n",
       "    </tr>\n",
       "    <tr>\n",
       "      <th>2</th>\n",
       "      <td>1000</td>\n",
       "      <td>3</td>\n",
       "      <td>0</td>\n",
       "      <td>0.00</td>\n",
       "      <td>0.0</td>\n",
       "      <td>0.00</td>\n",
       "      <td>0</td>\n",
       "      <td>Atlanta-Sandy Springs-Roswell, GA MSA</td>\n",
       "    </tr>\n",
       "    <tr>\n",
       "      <th>3</th>\n",
       "      <td>1000</td>\n",
       "      <td>4</td>\n",
       "      <td>0</td>\n",
       "      <td>0.00</td>\n",
       "      <td>0.0</td>\n",
       "      <td>0.00</td>\n",
       "      <td>0</td>\n",
       "      <td>Atlanta-Sandy Springs-Roswell, GA MSA</td>\n",
       "    </tr>\n",
       "    <tr>\n",
       "      <th>4</th>\n",
       "      <td>1000</td>\n",
       "      <td>5</td>\n",
       "      <td>0</td>\n",
       "      <td>0.00</td>\n",
       "      <td>0.0</td>\n",
       "      <td>0.00</td>\n",
       "      <td>0</td>\n",
       "      <td>Atlanta-Sandy Springs-Roswell, GA MSA</td>\n",
       "    </tr>\n",
       "    <tr>\n",
       "      <th>...</th>\n",
       "      <td>...</td>\n",
       "      <td>...</td>\n",
       "      <td>...</td>\n",
       "      <td>...</td>\n",
       "      <td>...</td>\n",
       "      <td>...</td>\n",
       "      <td>...</td>\n",
       "      <td>...</td>\n",
       "    </tr>\n",
       "    <tr>\n",
       "      <th>5767</th>\n",
       "      <td>1499</td>\n",
       "      <td>8</td>\n",
       "      <td>0</td>\n",
       "      <td>0.00</td>\n",
       "      <td>NaN</td>\n",
       "      <td>0.00</td>\n",
       "      <td>0</td>\n",
       "      <td>Orlando-Kissimmee-Sanford, FL MSA</td>\n",
       "    </tr>\n",
       "    <tr>\n",
       "      <th>5768</th>\n",
       "      <td>1499</td>\n",
       "      <td>9</td>\n",
       "      <td>35</td>\n",
       "      <td>330.37</td>\n",
       "      <td>NaN</td>\n",
       "      <td>12984.76</td>\n",
       "      <td>13</td>\n",
       "      <td>Orlando-Kissimmee-Sanford, FL MSA</td>\n",
       "    </tr>\n",
       "    <tr>\n",
       "      <th>5769</th>\n",
       "      <td>1499</td>\n",
       "      <td>10</td>\n",
       "      <td>41</td>\n",
       "      <td>363.28</td>\n",
       "      <td>NaN</td>\n",
       "      <td>19492.43</td>\n",
       "      <td>20</td>\n",
       "      <td>Orlando-Kissimmee-Sanford, FL MSA</td>\n",
       "    </tr>\n",
       "    <tr>\n",
       "      <th>5770</th>\n",
       "      <td>1499</td>\n",
       "      <td>11</td>\n",
       "      <td>39</td>\n",
       "      <td>288.56</td>\n",
       "      <td>NaN</td>\n",
       "      <td>16813.83</td>\n",
       "      <td>17</td>\n",
       "      <td>Orlando-Kissimmee-Sanford, FL MSA</td>\n",
       "    </tr>\n",
       "    <tr>\n",
       "      <th>5771</th>\n",
       "      <td>1499</td>\n",
       "      <td>12</td>\n",
       "      <td>56</td>\n",
       "      <td>468.10</td>\n",
       "      <td>NaN</td>\n",
       "      <td>22059.21</td>\n",
       "      <td>23</td>\n",
       "      <td>Orlando-Kissimmee-Sanford, FL MSA</td>\n",
       "    </tr>\n",
       "  </tbody>\n",
       "</table>\n",
       "<p>5772 rows × 8 columns</p>\n",
       "</div>"
      ],
      "text/plain": [
       "      user_id  month  call_id  duration  msg_id   mb_used  gb_used  \\\n",
       "0        1000      1        0      0.00     0.0      0.00        0   \n",
       "1        1000      2        0      0.00     0.0      0.00        0   \n",
       "2        1000      3        0      0.00     0.0      0.00        0   \n",
       "3        1000      4        0      0.00     0.0      0.00        0   \n",
       "4        1000      5        0      0.00     0.0      0.00        0   \n",
       "...       ...    ...      ...       ...     ...       ...      ...   \n",
       "5767     1499      8        0      0.00     NaN      0.00        0   \n",
       "5768     1499      9       35    330.37     NaN  12984.76       13   \n",
       "5769     1499     10       41    363.28     NaN  19492.43       20   \n",
       "5770     1499     11       39    288.56     NaN  16813.83       17   \n",
       "5771     1499     12       56    468.10     NaN  22059.21       23   \n",
       "\n",
       "                                       city  \n",
       "0     Atlanta-Sandy Springs-Roswell, GA MSA  \n",
       "1     Atlanta-Sandy Springs-Roswell, GA MSA  \n",
       "2     Atlanta-Sandy Springs-Roswell, GA MSA  \n",
       "3     Atlanta-Sandy Springs-Roswell, GA MSA  \n",
       "4     Atlanta-Sandy Springs-Roswell, GA MSA  \n",
       "...                                     ...  \n",
       "5767      Orlando-Kissimmee-Sanford, FL MSA  \n",
       "5768      Orlando-Kissimmee-Sanford, FL MSA  \n",
       "5769      Orlando-Kissimmee-Sanford, FL MSA  \n",
       "5770      Orlando-Kissimmee-Sanford, FL MSA  \n",
       "5771      Orlando-Kissimmee-Sanford, FL MSA  \n",
       "\n",
       "[5772 rows x 8 columns]"
      ]
     },
     "execution_count": 216,
     "metadata": {},
     "output_type": "execute_result"
    }
   ],
   "source": [
    "df['city'] = df_merged['city']\n",
    "df"
   ]
  },
  {
   "cell_type": "code",
   "execution_count": 217,
   "metadata": {},
   "outputs": [
    {
     "data": {
      "text/html": [
       "<div>\n",
       "<style scoped>\n",
       "    .dataframe tbody tr th:only-of-type {\n",
       "        vertical-align: middle;\n",
       "    }\n",
       "\n",
       "    .dataframe tbody tr th {\n",
       "        vertical-align: top;\n",
       "    }\n",
       "\n",
       "    .dataframe thead th {\n",
       "        text-align: right;\n",
       "    }\n",
       "</style>\n",
       "<table border=\"1\" class=\"dataframe\">\n",
       "  <thead>\n",
       "    <tr style=\"text-align: right;\">\n",
       "      <th></th>\n",
       "      <th>user_id</th>\n",
       "      <th>month</th>\n",
       "      <th>call_id</th>\n",
       "      <th>duration</th>\n",
       "      <th>msg_id</th>\n",
       "      <th>mb_used</th>\n",
       "      <th>gb_used</th>\n",
       "      <th>city</th>\n",
       "    </tr>\n",
       "  </thead>\n",
       "  <tbody>\n",
       "    <tr>\n",
       "      <th>11</th>\n",
       "      <td>1000</td>\n",
       "      <td>12</td>\n",
       "      <td>16</td>\n",
       "      <td>116.83</td>\n",
       "      <td>11.0</td>\n",
       "      <td>1901.47</td>\n",
       "      <td>2</td>\n",
       "      <td>Atlanta-Sandy Springs-Roswell, GA MSA</td>\n",
       "    </tr>\n",
       "    <tr>\n",
       "      <th>19</th>\n",
       "      <td>1001</td>\n",
       "      <td>8</td>\n",
       "      <td>22</td>\n",
       "      <td>171.14</td>\n",
       "      <td>30.0</td>\n",
       "      <td>6919.15</td>\n",
       "      <td>7</td>\n",
       "      <td>Seattle-Tacoma-Bellevue, WA MSA</td>\n",
       "    </tr>\n",
       "    <tr>\n",
       "      <th>20</th>\n",
       "      <td>1001</td>\n",
       "      <td>9</td>\n",
       "      <td>38</td>\n",
       "      <td>297.69</td>\n",
       "      <td>44.0</td>\n",
       "      <td>13314.82</td>\n",
       "      <td>14</td>\n",
       "      <td>Seattle-Tacoma-Bellevue, WA MSA</td>\n",
       "    </tr>\n",
       "    <tr>\n",
       "      <th>21</th>\n",
       "      <td>1001</td>\n",
       "      <td>10</td>\n",
       "      <td>47</td>\n",
       "      <td>374.11</td>\n",
       "      <td>53.0</td>\n",
       "      <td>22330.49</td>\n",
       "      <td>23</td>\n",
       "      <td>Seattle-Tacoma-Bellevue, WA MSA</td>\n",
       "    </tr>\n",
       "    <tr>\n",
       "      <th>22</th>\n",
       "      <td>1001</td>\n",
       "      <td>11</td>\n",
       "      <td>49</td>\n",
       "      <td>404.59</td>\n",
       "      <td>36.0</td>\n",
       "      <td>18504.30</td>\n",
       "      <td>19</td>\n",
       "      <td>Seattle-Tacoma-Bellevue, WA MSA</td>\n",
       "    </tr>\n",
       "    <tr>\n",
       "      <th>...</th>\n",
       "      <td>...</td>\n",
       "      <td>...</td>\n",
       "      <td>...</td>\n",
       "      <td>...</td>\n",
       "      <td>...</td>\n",
       "      <td>...</td>\n",
       "      <td>...</td>\n",
       "      <td>...</td>\n",
       "    </tr>\n",
       "    <tr>\n",
       "      <th>5767</th>\n",
       "      <td>1499</td>\n",
       "      <td>8</td>\n",
       "      <td>0</td>\n",
       "      <td>0.00</td>\n",
       "      <td>NaN</td>\n",
       "      <td>0.00</td>\n",
       "      <td>0</td>\n",
       "      <td>Orlando-Kissimmee-Sanford, FL MSA</td>\n",
       "    </tr>\n",
       "    <tr>\n",
       "      <th>5768</th>\n",
       "      <td>1499</td>\n",
       "      <td>9</td>\n",
       "      <td>35</td>\n",
       "      <td>330.37</td>\n",
       "      <td>NaN</td>\n",
       "      <td>12984.76</td>\n",
       "      <td>13</td>\n",
       "      <td>Orlando-Kissimmee-Sanford, FL MSA</td>\n",
       "    </tr>\n",
       "    <tr>\n",
       "      <th>5769</th>\n",
       "      <td>1499</td>\n",
       "      <td>10</td>\n",
       "      <td>41</td>\n",
       "      <td>363.28</td>\n",
       "      <td>NaN</td>\n",
       "      <td>19492.43</td>\n",
       "      <td>20</td>\n",
       "      <td>Orlando-Kissimmee-Sanford, FL MSA</td>\n",
       "    </tr>\n",
       "    <tr>\n",
       "      <th>5770</th>\n",
       "      <td>1499</td>\n",
       "      <td>11</td>\n",
       "      <td>39</td>\n",
       "      <td>288.56</td>\n",
       "      <td>NaN</td>\n",
       "      <td>16813.83</td>\n",
       "      <td>17</td>\n",
       "      <td>Orlando-Kissimmee-Sanford, FL MSA</td>\n",
       "    </tr>\n",
       "    <tr>\n",
       "      <th>5771</th>\n",
       "      <td>1499</td>\n",
       "      <td>12</td>\n",
       "      <td>56</td>\n",
       "      <td>468.10</td>\n",
       "      <td>NaN</td>\n",
       "      <td>22059.21</td>\n",
       "      <td>23</td>\n",
       "      <td>Orlando-Kissimmee-Sanford, FL MSA</td>\n",
       "    </tr>\n",
       "  </tbody>\n",
       "</table>\n",
       "<p>2846 rows × 8 columns</p>\n",
       "</div>"
      ],
      "text/plain": [
       "      user_id  month  call_id  duration  msg_id   mb_used  gb_used  \\\n",
       "11       1000     12       16    116.83    11.0   1901.47        2   \n",
       "19       1001      8       22    171.14    30.0   6919.15        7   \n",
       "20       1001      9       38    297.69    44.0  13314.82       14   \n",
       "21       1001     10       47    374.11    53.0  22330.49       23   \n",
       "22       1001     11       49    404.59    36.0  18504.30       19   \n",
       "...       ...    ...      ...       ...     ...       ...      ...   \n",
       "5767     1499      8        0      0.00     NaN      0.00        0   \n",
       "5768     1499      9       35    330.37     NaN  12984.76       13   \n",
       "5769     1499     10       41    363.28     NaN  19492.43       20   \n",
       "5770     1499     11       39    288.56     NaN  16813.83       17   \n",
       "5771     1499     12       56    468.10     NaN  22059.21       23   \n",
       "\n",
       "                                       city  \n",
       "11    Atlanta-Sandy Springs-Roswell, GA MSA  \n",
       "19          Seattle-Tacoma-Bellevue, WA MSA  \n",
       "20          Seattle-Tacoma-Bellevue, WA MSA  \n",
       "21          Seattle-Tacoma-Bellevue, WA MSA  \n",
       "22          Seattle-Tacoma-Bellevue, WA MSA  \n",
       "...                                     ...  \n",
       "5767      Orlando-Kissimmee-Sanford, FL MSA  \n",
       "5768      Orlando-Kissimmee-Sanford, FL MSA  \n",
       "5769      Orlando-Kissimmee-Sanford, FL MSA  \n",
       "5770      Orlando-Kissimmee-Sanford, FL MSA  \n",
       "5771      Orlando-Kissimmee-Sanford, FL MSA  \n",
       "\n",
       "[2846 rows x 8 columns]"
      ]
     },
     "execution_count": 217,
     "metadata": {},
     "output_type": "execute_result"
    }
   ],
   "source": [
    "# Filtering only the months in which the customers had contracted the service\n",
    "\n",
    "df = df.loc[~((df['call_id'] == 0) & (df['duration'] == 0) & (df['msg_id'] == 0) & (df['mb_used' ] == 0))]\n",
    "\n",
    "df"
   ]
  },
  {
   "cell_type": "code",
   "execution_count": 218,
   "metadata": {},
   "outputs": [
    {
     "data": {
      "text/html": [
       "<div>\n",
       "<style scoped>\n",
       "    .dataframe tbody tr th:only-of-type {\n",
       "        vertical-align: middle;\n",
       "    }\n",
       "\n",
       "    .dataframe tbody tr th {\n",
       "        vertical-align: top;\n",
       "    }\n",
       "\n",
       "    .dataframe thead th {\n",
       "        text-align: right;\n",
       "    }\n",
       "</style>\n",
       "<table border=\"1\" class=\"dataframe\">\n",
       "  <thead>\n",
       "    <tr style=\"text-align: right;\">\n",
       "      <th></th>\n",
       "      <th>user_id</th>\n",
       "      <th>month</th>\n",
       "      <th>call_id</th>\n",
       "      <th>duration</th>\n",
       "      <th>msg_id</th>\n",
       "      <th>mb_used</th>\n",
       "      <th>gb_used</th>\n",
       "      <th>city</th>\n",
       "      <th>plan</th>\n",
       "      <th>active</th>\n",
       "    </tr>\n",
       "  </thead>\n",
       "  <tbody>\n",
       "    <tr>\n",
       "      <th>0</th>\n",
       "      <td>1000</td>\n",
       "      <td>12</td>\n",
       "      <td>16</td>\n",
       "      <td>116.83</td>\n",
       "      <td>11.0</td>\n",
       "      <td>1901.47</td>\n",
       "      <td>2</td>\n",
       "      <td>Atlanta-Sandy Springs-Roswell, GA MSA</td>\n",
       "      <td>ultimate</td>\n",
       "      <td>1</td>\n",
       "    </tr>\n",
       "    <tr>\n",
       "      <th>1</th>\n",
       "      <td>1001</td>\n",
       "      <td>8</td>\n",
       "      <td>22</td>\n",
       "      <td>171.14</td>\n",
       "      <td>30.0</td>\n",
       "      <td>6919.15</td>\n",
       "      <td>7</td>\n",
       "      <td>Seattle-Tacoma-Bellevue, WA MSA</td>\n",
       "      <td>surf</td>\n",
       "      <td>1</td>\n",
       "    </tr>\n",
       "    <tr>\n",
       "      <th>2</th>\n",
       "      <td>1001</td>\n",
       "      <td>9</td>\n",
       "      <td>38</td>\n",
       "      <td>297.69</td>\n",
       "      <td>44.0</td>\n",
       "      <td>13314.82</td>\n",
       "      <td>14</td>\n",
       "      <td>Seattle-Tacoma-Bellevue, WA MSA</td>\n",
       "      <td>surf</td>\n",
       "      <td>1</td>\n",
       "    </tr>\n",
       "    <tr>\n",
       "      <th>3</th>\n",
       "      <td>1001</td>\n",
       "      <td>10</td>\n",
       "      <td>47</td>\n",
       "      <td>374.11</td>\n",
       "      <td>53.0</td>\n",
       "      <td>22330.49</td>\n",
       "      <td>23</td>\n",
       "      <td>Seattle-Tacoma-Bellevue, WA MSA</td>\n",
       "      <td>surf</td>\n",
       "      <td>1</td>\n",
       "    </tr>\n",
       "    <tr>\n",
       "      <th>4</th>\n",
       "      <td>1001</td>\n",
       "      <td>11</td>\n",
       "      <td>49</td>\n",
       "      <td>404.59</td>\n",
       "      <td>36.0</td>\n",
       "      <td>18504.30</td>\n",
       "      <td>19</td>\n",
       "      <td>Seattle-Tacoma-Bellevue, WA MSA</td>\n",
       "      <td>surf</td>\n",
       "      <td>1</td>\n",
       "    </tr>\n",
       "    <tr>\n",
       "      <th>...</th>\n",
       "      <td>...</td>\n",
       "      <td>...</td>\n",
       "      <td>...</td>\n",
       "      <td>...</td>\n",
       "      <td>...</td>\n",
       "      <td>...</td>\n",
       "      <td>...</td>\n",
       "      <td>...</td>\n",
       "      <td>...</td>\n",
       "      <td>...</td>\n",
       "    </tr>\n",
       "    <tr>\n",
       "      <th>2841</th>\n",
       "      <td>1499</td>\n",
       "      <td>8</td>\n",
       "      <td>0</td>\n",
       "      <td>0.00</td>\n",
       "      <td>NaN</td>\n",
       "      <td>0.00</td>\n",
       "      <td>0</td>\n",
       "      <td>Orlando-Kissimmee-Sanford, FL MSA</td>\n",
       "      <td>surf</td>\n",
       "      <td>1</td>\n",
       "    </tr>\n",
       "    <tr>\n",
       "      <th>2842</th>\n",
       "      <td>1499</td>\n",
       "      <td>9</td>\n",
       "      <td>35</td>\n",
       "      <td>330.37</td>\n",
       "      <td>NaN</td>\n",
       "      <td>12984.76</td>\n",
       "      <td>13</td>\n",
       "      <td>Orlando-Kissimmee-Sanford, FL MSA</td>\n",
       "      <td>surf</td>\n",
       "      <td>1</td>\n",
       "    </tr>\n",
       "    <tr>\n",
       "      <th>2843</th>\n",
       "      <td>1499</td>\n",
       "      <td>10</td>\n",
       "      <td>41</td>\n",
       "      <td>363.28</td>\n",
       "      <td>NaN</td>\n",
       "      <td>19492.43</td>\n",
       "      <td>20</td>\n",
       "      <td>Orlando-Kissimmee-Sanford, FL MSA</td>\n",
       "      <td>surf</td>\n",
       "      <td>1</td>\n",
       "    </tr>\n",
       "    <tr>\n",
       "      <th>2844</th>\n",
       "      <td>1499</td>\n",
       "      <td>11</td>\n",
       "      <td>39</td>\n",
       "      <td>288.56</td>\n",
       "      <td>NaN</td>\n",
       "      <td>16813.83</td>\n",
       "      <td>17</td>\n",
       "      <td>Orlando-Kissimmee-Sanford, FL MSA</td>\n",
       "      <td>surf</td>\n",
       "      <td>1</td>\n",
       "    </tr>\n",
       "    <tr>\n",
       "      <th>2845</th>\n",
       "      <td>1499</td>\n",
       "      <td>12</td>\n",
       "      <td>56</td>\n",
       "      <td>468.10</td>\n",
       "      <td>NaN</td>\n",
       "      <td>22059.21</td>\n",
       "      <td>23</td>\n",
       "      <td>Orlando-Kissimmee-Sanford, FL MSA</td>\n",
       "      <td>surf</td>\n",
       "      <td>1</td>\n",
       "    </tr>\n",
       "  </tbody>\n",
       "</table>\n",
       "<p>2846 rows × 10 columns</p>\n",
       "</div>"
      ],
      "text/plain": [
       "      user_id  month  call_id  duration  msg_id   mb_used  gb_used  \\\n",
       "0        1000     12       16    116.83    11.0   1901.47        2   \n",
       "1        1001      8       22    171.14    30.0   6919.15        7   \n",
       "2        1001      9       38    297.69    44.0  13314.82       14   \n",
       "3        1001     10       47    374.11    53.0  22330.49       23   \n",
       "4        1001     11       49    404.59    36.0  18504.30       19   \n",
       "...       ...    ...      ...       ...     ...       ...      ...   \n",
       "2841     1499      8        0      0.00     NaN      0.00        0   \n",
       "2842     1499      9       35    330.37     NaN  12984.76       13   \n",
       "2843     1499     10       41    363.28     NaN  19492.43       20   \n",
       "2844     1499     11       39    288.56     NaN  16813.83       17   \n",
       "2845     1499     12       56    468.10     NaN  22059.21       23   \n",
       "\n",
       "                                       city      plan  active  \n",
       "0     Atlanta-Sandy Springs-Roswell, GA MSA  ultimate       1  \n",
       "1           Seattle-Tacoma-Bellevue, WA MSA      surf       1  \n",
       "2           Seattle-Tacoma-Bellevue, WA MSA      surf       1  \n",
       "3           Seattle-Tacoma-Bellevue, WA MSA      surf       1  \n",
       "4           Seattle-Tacoma-Bellevue, WA MSA      surf       1  \n",
       "...                                     ...       ...     ...  \n",
       "2841      Orlando-Kissimmee-Sanford, FL MSA      surf       1  \n",
       "2842      Orlando-Kissimmee-Sanford, FL MSA      surf       1  \n",
       "2843      Orlando-Kissimmee-Sanford, FL MSA      surf       1  \n",
       "2844      Orlando-Kissimmee-Sanford, FL MSA      surf       1  \n",
       "2845      Orlando-Kissimmee-Sanford, FL MSA      surf       1  \n",
       "\n",
       "[2846 rows x 10 columns]"
      ]
     },
     "execution_count": 218,
     "metadata": {},
     "output_type": "execute_result"
    }
   ],
   "source": [
    "# Add plan information\n",
    "\n",
    "df = df.merge(df_users[['user_id', 'plan', 'active']], on='user_id', how='left')\n",
    "\n",
    "df"
   ]
  },
  {
   "cell_type": "code",
   "execution_count": 219,
   "metadata": {},
   "outputs": [
    {
     "data": {
      "text/plain": [
       "user_id        0\n",
       "month          0\n",
       "call_id        0\n",
       "duration       0\n",
       "msg_id      1044\n",
       "mb_used       12\n",
       "gb_used        0\n",
       "city           0\n",
       "plan           0\n",
       "active         0\n",
       "dtype: int64"
      ]
     },
     "execution_count": 219,
     "metadata": {},
     "output_type": "execute_result"
    }
   ],
   "source": [
    "df.isna().sum()"
   ]
  },
  {
   "cell_type": "code",
   "execution_count": 220,
   "metadata": {},
   "outputs": [
    {
     "data": {
      "text/html": [
       "<div>\n",
       "<style scoped>\n",
       "    .dataframe tbody tr th:only-of-type {\n",
       "        vertical-align: middle;\n",
       "    }\n",
       "\n",
       "    .dataframe tbody tr th {\n",
       "        vertical-align: top;\n",
       "    }\n",
       "\n",
       "    .dataframe thead th {\n",
       "        text-align: right;\n",
       "    }\n",
       "</style>\n",
       "<table border=\"1\" class=\"dataframe\">\n",
       "  <thead>\n",
       "    <tr style=\"text-align: right;\">\n",
       "      <th></th>\n",
       "      <th>user_id</th>\n",
       "      <th>month</th>\n",
       "      <th>call_id</th>\n",
       "      <th>duration</th>\n",
       "      <th>msg_id</th>\n",
       "      <th>mb_used</th>\n",
       "      <th>gb_used</th>\n",
       "      <th>city</th>\n",
       "      <th>plan</th>\n",
       "      <th>active</th>\n",
       "    </tr>\n",
       "  </thead>\n",
       "  <tbody>\n",
       "    <tr>\n",
       "      <th>0</th>\n",
       "      <td>1000</td>\n",
       "      <td>12</td>\n",
       "      <td>16</td>\n",
       "      <td>116.83</td>\n",
       "      <td>11.0</td>\n",
       "      <td>1901.47</td>\n",
       "      <td>2</td>\n",
       "      <td>Atlanta-Sandy Springs-Roswell, GA MSA</td>\n",
       "      <td>ultimate</td>\n",
       "      <td>1</td>\n",
       "    </tr>\n",
       "    <tr>\n",
       "      <th>1</th>\n",
       "      <td>1001</td>\n",
       "      <td>8</td>\n",
       "      <td>22</td>\n",
       "      <td>171.14</td>\n",
       "      <td>30.0</td>\n",
       "      <td>6919.15</td>\n",
       "      <td>7</td>\n",
       "      <td>Seattle-Tacoma-Bellevue, WA MSA</td>\n",
       "      <td>surf</td>\n",
       "      <td>1</td>\n",
       "    </tr>\n",
       "    <tr>\n",
       "      <th>2</th>\n",
       "      <td>1001</td>\n",
       "      <td>9</td>\n",
       "      <td>38</td>\n",
       "      <td>297.69</td>\n",
       "      <td>44.0</td>\n",
       "      <td>13314.82</td>\n",
       "      <td>14</td>\n",
       "      <td>Seattle-Tacoma-Bellevue, WA MSA</td>\n",
       "      <td>surf</td>\n",
       "      <td>1</td>\n",
       "    </tr>\n",
       "    <tr>\n",
       "      <th>3</th>\n",
       "      <td>1001</td>\n",
       "      <td>10</td>\n",
       "      <td>47</td>\n",
       "      <td>374.11</td>\n",
       "      <td>53.0</td>\n",
       "      <td>22330.49</td>\n",
       "      <td>23</td>\n",
       "      <td>Seattle-Tacoma-Bellevue, WA MSA</td>\n",
       "      <td>surf</td>\n",
       "      <td>1</td>\n",
       "    </tr>\n",
       "    <tr>\n",
       "      <th>4</th>\n",
       "      <td>1001</td>\n",
       "      <td>11</td>\n",
       "      <td>49</td>\n",
       "      <td>404.59</td>\n",
       "      <td>36.0</td>\n",
       "      <td>18504.30</td>\n",
       "      <td>19</td>\n",
       "      <td>Seattle-Tacoma-Bellevue, WA MSA</td>\n",
       "      <td>surf</td>\n",
       "      <td>1</td>\n",
       "    </tr>\n",
       "    <tr>\n",
       "      <th>...</th>\n",
       "      <td>...</td>\n",
       "      <td>...</td>\n",
       "      <td>...</td>\n",
       "      <td>...</td>\n",
       "      <td>...</td>\n",
       "      <td>...</td>\n",
       "      <td>...</td>\n",
       "      <td>...</td>\n",
       "      <td>...</td>\n",
       "      <td>...</td>\n",
       "    </tr>\n",
       "    <tr>\n",
       "      <th>2841</th>\n",
       "      <td>1499</td>\n",
       "      <td>8</td>\n",
       "      <td>0</td>\n",
       "      <td>0.00</td>\n",
       "      <td>0.0</td>\n",
       "      <td>0.00</td>\n",
       "      <td>0</td>\n",
       "      <td>Orlando-Kissimmee-Sanford, FL MSA</td>\n",
       "      <td>surf</td>\n",
       "      <td>1</td>\n",
       "    </tr>\n",
       "    <tr>\n",
       "      <th>2842</th>\n",
       "      <td>1499</td>\n",
       "      <td>9</td>\n",
       "      <td>35</td>\n",
       "      <td>330.37</td>\n",
       "      <td>0.0</td>\n",
       "      <td>12984.76</td>\n",
       "      <td>13</td>\n",
       "      <td>Orlando-Kissimmee-Sanford, FL MSA</td>\n",
       "      <td>surf</td>\n",
       "      <td>1</td>\n",
       "    </tr>\n",
       "    <tr>\n",
       "      <th>2843</th>\n",
       "      <td>1499</td>\n",
       "      <td>10</td>\n",
       "      <td>41</td>\n",
       "      <td>363.28</td>\n",
       "      <td>0.0</td>\n",
       "      <td>19492.43</td>\n",
       "      <td>20</td>\n",
       "      <td>Orlando-Kissimmee-Sanford, FL MSA</td>\n",
       "      <td>surf</td>\n",
       "      <td>1</td>\n",
       "    </tr>\n",
       "    <tr>\n",
       "      <th>2844</th>\n",
       "      <td>1499</td>\n",
       "      <td>11</td>\n",
       "      <td>39</td>\n",
       "      <td>288.56</td>\n",
       "      <td>0.0</td>\n",
       "      <td>16813.83</td>\n",
       "      <td>17</td>\n",
       "      <td>Orlando-Kissimmee-Sanford, FL MSA</td>\n",
       "      <td>surf</td>\n",
       "      <td>1</td>\n",
       "    </tr>\n",
       "    <tr>\n",
       "      <th>2845</th>\n",
       "      <td>1499</td>\n",
       "      <td>12</td>\n",
       "      <td>56</td>\n",
       "      <td>468.10</td>\n",
       "      <td>0.0</td>\n",
       "      <td>22059.21</td>\n",
       "      <td>23</td>\n",
       "      <td>Orlando-Kissimmee-Sanford, FL MSA</td>\n",
       "      <td>surf</td>\n",
       "      <td>1</td>\n",
       "    </tr>\n",
       "  </tbody>\n",
       "</table>\n",
       "<p>2846 rows × 10 columns</p>\n",
       "</div>"
      ],
      "text/plain": [
       "      user_id  month  call_id  duration  msg_id   mb_used  gb_used  \\\n",
       "0        1000     12       16    116.83    11.0   1901.47        2   \n",
       "1        1001      8       22    171.14    30.0   6919.15        7   \n",
       "2        1001      9       38    297.69    44.0  13314.82       14   \n",
       "3        1001     10       47    374.11    53.0  22330.49       23   \n",
       "4        1001     11       49    404.59    36.0  18504.30       19   \n",
       "...       ...    ...      ...       ...     ...       ...      ...   \n",
       "2841     1499      8        0      0.00     0.0      0.00        0   \n",
       "2842     1499      9       35    330.37     0.0  12984.76       13   \n",
       "2843     1499     10       41    363.28     0.0  19492.43       20   \n",
       "2844     1499     11       39    288.56     0.0  16813.83       17   \n",
       "2845     1499     12       56    468.10     0.0  22059.21       23   \n",
       "\n",
       "                                       city      plan  active  \n",
       "0     Atlanta-Sandy Springs-Roswell, GA MSA  ultimate       1  \n",
       "1           Seattle-Tacoma-Bellevue, WA MSA      surf       1  \n",
       "2           Seattle-Tacoma-Bellevue, WA MSA      surf       1  \n",
       "3           Seattle-Tacoma-Bellevue, WA MSA      surf       1  \n",
       "4           Seattle-Tacoma-Bellevue, WA MSA      surf       1  \n",
       "...                                     ...       ...     ...  \n",
       "2841      Orlando-Kissimmee-Sanford, FL MSA      surf       1  \n",
       "2842      Orlando-Kissimmee-Sanford, FL MSA      surf       1  \n",
       "2843      Orlando-Kissimmee-Sanford, FL MSA      surf       1  \n",
       "2844      Orlando-Kissimmee-Sanford, FL MSA      surf       1  \n",
       "2845      Orlando-Kissimmee-Sanford, FL MSA      surf       1  \n",
       "\n",
       "[2846 rows x 10 columns]"
      ]
     },
     "execution_count": 220,
     "metadata": {},
     "output_type": "execute_result"
    }
   ],
   "source": [
    "df.fillna(0, inplace=True)\n",
    "\n",
    "df"
   ]
  },
  {
   "cell_type": "markdown",
   "metadata": {},
   "source": [
    "Then we will find the monthly revenue for each user with the following steps:\n",
    "- Subtracting the free package limit from the total number of calls, texts, and data;\n",
    "- Multiplying the result by the values of each plan;\n",
    "- Adding the monthly price depending on the calling plan."
   ]
  },
  {
   "cell_type": "code",
   "execution_count": 221,
   "metadata": {},
   "outputs": [],
   "source": [
    "# Creating the formula to find out the extra minutes of connection for each user\n",
    "\n",
    "def extra_calls(row):\n",
    "    plan = row['plan']\n",
    "    minutes = row['duration']\n",
    "    \n",
    "    if plan == 'surf':\n",
    "        if minutes > 500:\n",
    "            extra_min = minutes - 500\n",
    "            \n",
    "        else:\n",
    "            extra_min = 0\n",
    "            \n",
    "    elif plan == 'ultimate':\n",
    "        if minutes > 3000:\n",
    "            extra_min = minutes - 3000\n",
    "            \n",
    "        else:\n",
    "            extra_min = 0\n",
    "            \n",
    "    return extra_min\n"
   ]
  },
  {
   "cell_type": "code",
   "execution_count": 222,
   "metadata": {},
   "outputs": [],
   "source": [
    "# Creating a column with the extra call minutes\n",
    "\n",
    "df['extra_min'] = df.apply(extra_calls, axis=1)"
   ]
  },
  {
   "cell_type": "code",
   "execution_count": 223,
   "metadata": {},
   "outputs": [],
   "source": [
    "# Creating the formula to check the extra messages of each user\n",
    "\n",
    "def extra_msgs(row):\n",
    "     plan = row['plan']\n",
    "     messages = row['msg_id']\n",
    "    \n",
    "     if plan == 'surf':\n",
    "         if messages > 50:\n",
    "             extra_msg = messages - 50\n",
    "            \n",
    "         else:\n",
    "             extra_msg = 0\n",
    "            \n",
    "     elif plan == 'ultimate':\n",
    "         if messages > 1000:\n",
    "             extra_msg = messages - 1000\n",
    "            \n",
    "         else:\n",
    "             extra_msg = 0\n",
    "            \n",
    "     return extra_msg"
   ]
  },
  {
   "cell_type": "code",
   "execution_count": 224,
   "metadata": {},
   "outputs": [],
   "source": [
    "# Creating a column with the extra messages\n",
    "\n",
    "df['extra_msgs'] = df.apply(extra_msgs, axis=1)"
   ]
  },
  {
   "cell_type": "code",
   "execution_count": 225,
   "metadata": {},
   "outputs": [],
   "source": [
    "# Creating the formula to find out the extra gigabytes of each user\n",
    "\n",
    "import math\n",
    "\n",
    "def extra_gb(row):\n",
    "     plan = row['plan']\n",
    "     mb = row['mb_used']\n",
    "    \n",
    "     if plan == 'surf':\n",
    "         if mb > 15360:\n",
    "             extra_gb = math.ceil((mb - 15360) / 1000)\n",
    "            \n",
    "         else:\n",
    "             extra_gb = 0\n",
    "            \n",
    "     elif plan == 'ultimate':\n",
    "         if mb > 30720:\n",
    "             extra_gb = math.ceil((mb - 30720) / 1000)\n",
    "            \n",
    "         else:\n",
    "             extra_gb = 0\n",
    "            \n",
    "     return extra_gb"
   ]
  },
  {
   "cell_type": "code",
   "execution_count": 226,
   "metadata": {},
   "outputs": [],
   "source": [
    "# Creating a column with the extra megabytes\n",
    "\n",
    "df['extra_gb'] = df.apply(extra_gb, axis=1)"
   ]
  },
  {
   "cell_type": "code",
   "execution_count": 227,
   "metadata": {},
   "outputs": [
    {
     "data": {
      "text/html": [
       "<div>\n",
       "<style scoped>\n",
       "    .dataframe tbody tr th:only-of-type {\n",
       "        vertical-align: middle;\n",
       "    }\n",
       "\n",
       "    .dataframe tbody tr th {\n",
       "        vertical-align: top;\n",
       "    }\n",
       "\n",
       "    .dataframe thead th {\n",
       "        text-align: right;\n",
       "    }\n",
       "</style>\n",
       "<table border=\"1\" class=\"dataframe\">\n",
       "  <thead>\n",
       "    <tr style=\"text-align: right;\">\n",
       "      <th></th>\n",
       "      <th>user_id</th>\n",
       "      <th>month</th>\n",
       "      <th>call_id</th>\n",
       "      <th>duration</th>\n",
       "      <th>msg_id</th>\n",
       "      <th>mb_used</th>\n",
       "      <th>gb_used</th>\n",
       "      <th>city</th>\n",
       "      <th>plan</th>\n",
       "      <th>active</th>\n",
       "      <th>extra_min</th>\n",
       "      <th>extra_msgs</th>\n",
       "      <th>extra_gb</th>\n",
       "    </tr>\n",
       "  </thead>\n",
       "  <tbody>\n",
       "    <tr>\n",
       "      <th>0</th>\n",
       "      <td>1000</td>\n",
       "      <td>12</td>\n",
       "      <td>16</td>\n",
       "      <td>116.83</td>\n",
       "      <td>11.0</td>\n",
       "      <td>1901.47</td>\n",
       "      <td>2</td>\n",
       "      <td>Atlanta-Sandy Springs-Roswell, GA MSA</td>\n",
       "      <td>ultimate</td>\n",
       "      <td>1</td>\n",
       "      <td>0.0</td>\n",
       "      <td>0.0</td>\n",
       "      <td>0</td>\n",
       "    </tr>\n",
       "    <tr>\n",
       "      <th>1</th>\n",
       "      <td>1001</td>\n",
       "      <td>8</td>\n",
       "      <td>22</td>\n",
       "      <td>171.14</td>\n",
       "      <td>30.0</td>\n",
       "      <td>6919.15</td>\n",
       "      <td>7</td>\n",
       "      <td>Seattle-Tacoma-Bellevue, WA MSA</td>\n",
       "      <td>surf</td>\n",
       "      <td>1</td>\n",
       "      <td>0.0</td>\n",
       "      <td>0.0</td>\n",
       "      <td>0</td>\n",
       "    </tr>\n",
       "    <tr>\n",
       "      <th>2</th>\n",
       "      <td>1001</td>\n",
       "      <td>9</td>\n",
       "      <td>38</td>\n",
       "      <td>297.69</td>\n",
       "      <td>44.0</td>\n",
       "      <td>13314.82</td>\n",
       "      <td>14</td>\n",
       "      <td>Seattle-Tacoma-Bellevue, WA MSA</td>\n",
       "      <td>surf</td>\n",
       "      <td>1</td>\n",
       "      <td>0.0</td>\n",
       "      <td>0.0</td>\n",
       "      <td>0</td>\n",
       "    </tr>\n",
       "    <tr>\n",
       "      <th>3</th>\n",
       "      <td>1001</td>\n",
       "      <td>10</td>\n",
       "      <td>47</td>\n",
       "      <td>374.11</td>\n",
       "      <td>53.0</td>\n",
       "      <td>22330.49</td>\n",
       "      <td>23</td>\n",
       "      <td>Seattle-Tacoma-Bellevue, WA MSA</td>\n",
       "      <td>surf</td>\n",
       "      <td>1</td>\n",
       "      <td>0.0</td>\n",
       "      <td>3.0</td>\n",
       "      <td>7</td>\n",
       "    </tr>\n",
       "    <tr>\n",
       "      <th>4</th>\n",
       "      <td>1001</td>\n",
       "      <td>11</td>\n",
       "      <td>49</td>\n",
       "      <td>404.59</td>\n",
       "      <td>36.0</td>\n",
       "      <td>18504.30</td>\n",
       "      <td>19</td>\n",
       "      <td>Seattle-Tacoma-Bellevue, WA MSA</td>\n",
       "      <td>surf</td>\n",
       "      <td>1</td>\n",
       "      <td>0.0</td>\n",
       "      <td>0.0</td>\n",
       "      <td>4</td>\n",
       "    </tr>\n",
       "  </tbody>\n",
       "</table>\n",
       "</div>"
      ],
      "text/plain": [
       "   user_id  month  call_id  duration  msg_id   mb_used  gb_used  \\\n",
       "0     1000     12       16    116.83    11.0   1901.47        2   \n",
       "1     1001      8       22    171.14    30.0   6919.15        7   \n",
       "2     1001      9       38    297.69    44.0  13314.82       14   \n",
       "3     1001     10       47    374.11    53.0  22330.49       23   \n",
       "4     1001     11       49    404.59    36.0  18504.30       19   \n",
       "\n",
       "                                    city      plan  active  extra_min  \\\n",
       "0  Atlanta-Sandy Springs-Roswell, GA MSA  ultimate       1        0.0   \n",
       "1        Seattle-Tacoma-Bellevue, WA MSA      surf       1        0.0   \n",
       "2        Seattle-Tacoma-Bellevue, WA MSA      surf       1        0.0   \n",
       "3        Seattle-Tacoma-Bellevue, WA MSA      surf       1        0.0   \n",
       "4        Seattle-Tacoma-Bellevue, WA MSA      surf       1        0.0   \n",
       "\n",
       "   extra_msgs  extra_gb  \n",
       "0         0.0         0  \n",
       "1         0.0         0  \n",
       "2         0.0         0  \n",
       "3         3.0         7  \n",
       "4         0.0         4  "
      ]
     },
     "execution_count": 227,
     "metadata": {},
     "output_type": "execute_result"
    }
   ],
   "source": [
    "# Checking the new columns\n",
    "\n",
    "df.head()"
   ]
  },
  {
   "cell_type": "code",
   "execution_count": 228,
   "metadata": {},
   "outputs": [],
   "source": [
    "# Calculating the monthly revenue of each user\n",
    "\n",
    "def revenue(row):\n",
    "     plan = row['plan']\n",
    "     extra_min = row['extra_min']\n",
    "     extra_msgs = row['extra_msgs']\n",
    "     extra_gb = row['extra_gb']\n",
    "    \n",
    "     if extra_min is None:\n",
    "         extra_min = 0\n",
    "        \n",
    "     if extra_msgs is None:\n",
    "         extra_msgs = 0\n",
    "        \n",
    "     if extra_gb is None:\n",
    "         extra_gb = 0\n",
    "        \n",
    "     if plan == 'surf':\n",
    "         total = (extra_min * 0.03) + (extra_msgs * 0.03) + (extra_gb * 10) + 20\n",
    "\n",
    "     if plan == 'ultimate':\n",
    "         total = (extra_min * 0.01) + (extra_msgs * 0.01) + (extra_gb * 7) + 70\n",
    "\n",
    "     return total"
   ]
  },
  {
   "cell_type": "code",
   "execution_count": 229,
   "metadata": {},
   "outputs": [
    {
     "data": {
      "text/html": [
       "<div>\n",
       "<style scoped>\n",
       "    .dataframe tbody tr th:only-of-type {\n",
       "        vertical-align: middle;\n",
       "    }\n",
       "\n",
       "    .dataframe tbody tr th {\n",
       "        vertical-align: top;\n",
       "    }\n",
       "\n",
       "    .dataframe thead th {\n",
       "        text-align: right;\n",
       "    }\n",
       "</style>\n",
       "<table border=\"1\" class=\"dataframe\">\n",
       "  <thead>\n",
       "    <tr style=\"text-align: right;\">\n",
       "      <th></th>\n",
       "      <th>user_id</th>\n",
       "      <th>month</th>\n",
       "      <th>call_id</th>\n",
       "      <th>duration</th>\n",
       "      <th>msg_id</th>\n",
       "      <th>mb_used</th>\n",
       "      <th>gb_used</th>\n",
       "      <th>city</th>\n",
       "      <th>plan</th>\n",
       "      <th>active</th>\n",
       "      <th>extra_min</th>\n",
       "      <th>extra_msgs</th>\n",
       "      <th>extra_gb</th>\n",
       "      <th>revenue</th>\n",
       "    </tr>\n",
       "  </thead>\n",
       "  <tbody>\n",
       "    <tr>\n",
       "      <th>0</th>\n",
       "      <td>1000</td>\n",
       "      <td>12</td>\n",
       "      <td>16</td>\n",
       "      <td>116.83</td>\n",
       "      <td>11.0</td>\n",
       "      <td>1901.47</td>\n",
       "      <td>2</td>\n",
       "      <td>Atlanta-Sandy Springs-Roswell, GA MSA</td>\n",
       "      <td>ultimate</td>\n",
       "      <td>1</td>\n",
       "      <td>0.0</td>\n",
       "      <td>0.0</td>\n",
       "      <td>0</td>\n",
       "      <td>70.00</td>\n",
       "    </tr>\n",
       "    <tr>\n",
       "      <th>1</th>\n",
       "      <td>1001</td>\n",
       "      <td>8</td>\n",
       "      <td>22</td>\n",
       "      <td>171.14</td>\n",
       "      <td>30.0</td>\n",
       "      <td>6919.15</td>\n",
       "      <td>7</td>\n",
       "      <td>Seattle-Tacoma-Bellevue, WA MSA</td>\n",
       "      <td>surf</td>\n",
       "      <td>1</td>\n",
       "      <td>0.0</td>\n",
       "      <td>0.0</td>\n",
       "      <td>0</td>\n",
       "      <td>20.00</td>\n",
       "    </tr>\n",
       "    <tr>\n",
       "      <th>2</th>\n",
       "      <td>1001</td>\n",
       "      <td>9</td>\n",
       "      <td>38</td>\n",
       "      <td>297.69</td>\n",
       "      <td>44.0</td>\n",
       "      <td>13314.82</td>\n",
       "      <td>14</td>\n",
       "      <td>Seattle-Tacoma-Bellevue, WA MSA</td>\n",
       "      <td>surf</td>\n",
       "      <td>1</td>\n",
       "      <td>0.0</td>\n",
       "      <td>0.0</td>\n",
       "      <td>0</td>\n",
       "      <td>20.00</td>\n",
       "    </tr>\n",
       "    <tr>\n",
       "      <th>3</th>\n",
       "      <td>1001</td>\n",
       "      <td>10</td>\n",
       "      <td>47</td>\n",
       "      <td>374.11</td>\n",
       "      <td>53.0</td>\n",
       "      <td>22330.49</td>\n",
       "      <td>23</td>\n",
       "      <td>Seattle-Tacoma-Bellevue, WA MSA</td>\n",
       "      <td>surf</td>\n",
       "      <td>1</td>\n",
       "      <td>0.0</td>\n",
       "      <td>3.0</td>\n",
       "      <td>7</td>\n",
       "      <td>90.09</td>\n",
       "    </tr>\n",
       "    <tr>\n",
       "      <th>4</th>\n",
       "      <td>1001</td>\n",
       "      <td>11</td>\n",
       "      <td>49</td>\n",
       "      <td>404.59</td>\n",
       "      <td>36.0</td>\n",
       "      <td>18504.30</td>\n",
       "      <td>19</td>\n",
       "      <td>Seattle-Tacoma-Bellevue, WA MSA</td>\n",
       "      <td>surf</td>\n",
       "      <td>1</td>\n",
       "      <td>0.0</td>\n",
       "      <td>0.0</td>\n",
       "      <td>4</td>\n",
       "      <td>60.00</td>\n",
       "    </tr>\n",
       "    <tr>\n",
       "      <th>...</th>\n",
       "      <td>...</td>\n",
       "      <td>...</td>\n",
       "      <td>...</td>\n",
       "      <td>...</td>\n",
       "      <td>...</td>\n",
       "      <td>...</td>\n",
       "      <td>...</td>\n",
       "      <td>...</td>\n",
       "      <td>...</td>\n",
       "      <td>...</td>\n",
       "      <td>...</td>\n",
       "      <td>...</td>\n",
       "      <td>...</td>\n",
       "      <td>...</td>\n",
       "    </tr>\n",
       "    <tr>\n",
       "      <th>2841</th>\n",
       "      <td>1499</td>\n",
       "      <td>8</td>\n",
       "      <td>0</td>\n",
       "      <td>0.00</td>\n",
       "      <td>0.0</td>\n",
       "      <td>0.00</td>\n",
       "      <td>0</td>\n",
       "      <td>Orlando-Kissimmee-Sanford, FL MSA</td>\n",
       "      <td>surf</td>\n",
       "      <td>1</td>\n",
       "      <td>0.0</td>\n",
       "      <td>0.0</td>\n",
       "      <td>0</td>\n",
       "      <td>20.00</td>\n",
       "    </tr>\n",
       "    <tr>\n",
       "      <th>2842</th>\n",
       "      <td>1499</td>\n",
       "      <td>9</td>\n",
       "      <td>35</td>\n",
       "      <td>330.37</td>\n",
       "      <td>0.0</td>\n",
       "      <td>12984.76</td>\n",
       "      <td>13</td>\n",
       "      <td>Orlando-Kissimmee-Sanford, FL MSA</td>\n",
       "      <td>surf</td>\n",
       "      <td>1</td>\n",
       "      <td>0.0</td>\n",
       "      <td>0.0</td>\n",
       "      <td>0</td>\n",
       "      <td>20.00</td>\n",
       "    </tr>\n",
       "    <tr>\n",
       "      <th>2843</th>\n",
       "      <td>1499</td>\n",
       "      <td>10</td>\n",
       "      <td>41</td>\n",
       "      <td>363.28</td>\n",
       "      <td>0.0</td>\n",
       "      <td>19492.43</td>\n",
       "      <td>20</td>\n",
       "      <td>Orlando-Kissimmee-Sanford, FL MSA</td>\n",
       "      <td>surf</td>\n",
       "      <td>1</td>\n",
       "      <td>0.0</td>\n",
       "      <td>0.0</td>\n",
       "      <td>5</td>\n",
       "      <td>70.00</td>\n",
       "    </tr>\n",
       "    <tr>\n",
       "      <th>2844</th>\n",
       "      <td>1499</td>\n",
       "      <td>11</td>\n",
       "      <td>39</td>\n",
       "      <td>288.56</td>\n",
       "      <td>0.0</td>\n",
       "      <td>16813.83</td>\n",
       "      <td>17</td>\n",
       "      <td>Orlando-Kissimmee-Sanford, FL MSA</td>\n",
       "      <td>surf</td>\n",
       "      <td>1</td>\n",
       "      <td>0.0</td>\n",
       "      <td>0.0</td>\n",
       "      <td>2</td>\n",
       "      <td>40.00</td>\n",
       "    </tr>\n",
       "    <tr>\n",
       "      <th>2845</th>\n",
       "      <td>1499</td>\n",
       "      <td>12</td>\n",
       "      <td>56</td>\n",
       "      <td>468.10</td>\n",
       "      <td>0.0</td>\n",
       "      <td>22059.21</td>\n",
       "      <td>23</td>\n",
       "      <td>Orlando-Kissimmee-Sanford, FL MSA</td>\n",
       "      <td>surf</td>\n",
       "      <td>1</td>\n",
       "      <td>0.0</td>\n",
       "      <td>0.0</td>\n",
       "      <td>7</td>\n",
       "      <td>90.00</td>\n",
       "    </tr>\n",
       "  </tbody>\n",
       "</table>\n",
       "<p>2846 rows × 14 columns</p>\n",
       "</div>"
      ],
      "text/plain": [
       "      user_id  month  call_id  duration  msg_id   mb_used  gb_used  \\\n",
       "0        1000     12       16    116.83    11.0   1901.47        2   \n",
       "1        1001      8       22    171.14    30.0   6919.15        7   \n",
       "2        1001      9       38    297.69    44.0  13314.82       14   \n",
       "3        1001     10       47    374.11    53.0  22330.49       23   \n",
       "4        1001     11       49    404.59    36.0  18504.30       19   \n",
       "...       ...    ...      ...       ...     ...       ...      ...   \n",
       "2841     1499      8        0      0.00     0.0      0.00        0   \n",
       "2842     1499      9       35    330.37     0.0  12984.76       13   \n",
       "2843     1499     10       41    363.28     0.0  19492.43       20   \n",
       "2844     1499     11       39    288.56     0.0  16813.83       17   \n",
       "2845     1499     12       56    468.10     0.0  22059.21       23   \n",
       "\n",
       "                                       city      plan  active  extra_min  \\\n",
       "0     Atlanta-Sandy Springs-Roswell, GA MSA  ultimate       1        0.0   \n",
       "1           Seattle-Tacoma-Bellevue, WA MSA      surf       1        0.0   \n",
       "2           Seattle-Tacoma-Bellevue, WA MSA      surf       1        0.0   \n",
       "3           Seattle-Tacoma-Bellevue, WA MSA      surf       1        0.0   \n",
       "4           Seattle-Tacoma-Bellevue, WA MSA      surf       1        0.0   \n",
       "...                                     ...       ...     ...        ...   \n",
       "2841      Orlando-Kissimmee-Sanford, FL MSA      surf       1        0.0   \n",
       "2842      Orlando-Kissimmee-Sanford, FL MSA      surf       1        0.0   \n",
       "2843      Orlando-Kissimmee-Sanford, FL MSA      surf       1        0.0   \n",
       "2844      Orlando-Kissimmee-Sanford, FL MSA      surf       1        0.0   \n",
       "2845      Orlando-Kissimmee-Sanford, FL MSA      surf       1        0.0   \n",
       "\n",
       "      extra_msgs  extra_gb  revenue  \n",
       "0            0.0         0    70.00  \n",
       "1            0.0         0    20.00  \n",
       "2            0.0         0    20.00  \n",
       "3            3.0         7    90.09  \n",
       "4            0.0         4    60.00  \n",
       "...          ...       ...      ...  \n",
       "2841         0.0         0    20.00  \n",
       "2842         0.0         0    20.00  \n",
       "2843         0.0         5    70.00  \n",
       "2844         0.0         2    40.00  \n",
       "2845         0.0         7    90.00  \n",
       "\n",
       "[2846 rows x 14 columns]"
      ]
     },
     "execution_count": 229,
     "metadata": {},
     "output_type": "execute_result"
    }
   ],
   "source": [
    "#Adding a column with the monthly cost of the customer (revenue)\n",
    "\n",
    "df['revenue'] = df.apply(revenue, axis=1)\n",
    "\n",
    "df"
   ]
  },
  {
   "cell_type": "markdown",
   "metadata": {},
   "source": [
    "We then arrive at the monthly revenue for each user after subtracting the free package limit from the total number of calls, texts, and data; we multiply the result by the values of each plan and add the monthly price depending on the calling plan."
   ]
  },
  {
   "cell_type": "markdown",
   "metadata": {},
   "source": [
    "# Studying user behavior"
   ]
  },
  {
   "cell_type": "markdown",
   "metadata": {},
   "source": [
    "Now that we have the data organized with revenues by customers, in this section we will carry out some actions to facilitate our general analysis:\n",
    "\n",
    "- We will calculate some useful descriptive statistics for the aggregated and joined data, which usually reveal an overall picture captured by the data;\n",
    "\n",
    "\n",
    "- We will draw useful graphs to help understanding.\n",
    "\n",
    "\n",
    "- Since the main task is to compare plans and decide which one is more profitable, statistics and splits will be calculated per plan."
   ]
  },
  {
   "cell_type": "markdown",
   "metadata": {},
   "source": [
    "### Calls"
   ]
  },
  {
   "cell_type": "code",
   "execution_count": 230,
   "metadata": {},
   "outputs": [
    {
     "data": {
      "text/html": [
       "<div>\n",
       "<style scoped>\n",
       "    .dataframe tbody tr th:only-of-type {\n",
       "        vertical-align: middle;\n",
       "    }\n",
       "\n",
       "    .dataframe tbody tr th {\n",
       "        vertical-align: top;\n",
       "    }\n",
       "\n",
       "    .dataframe thead th {\n",
       "        text-align: right;\n",
       "    }\n",
       "</style>\n",
       "<table border=\"1\" class=\"dataframe\">\n",
       "  <thead>\n",
       "    <tr style=\"text-align: right;\">\n",
       "      <th></th>\n",
       "      <th>plan</th>\n",
       "      <th>month</th>\n",
       "      <th>duration</th>\n",
       "    </tr>\n",
       "  </thead>\n",
       "  <tbody>\n",
       "    <tr>\n",
       "      <th>0</th>\n",
       "      <td>surf</td>\n",
       "      <td>1</td>\n",
       "      <td>5.933538</td>\n",
       "    </tr>\n",
       "    <tr>\n",
       "      <th>1</th>\n",
       "      <td>surf</td>\n",
       "      <td>2</td>\n",
       "      <td>36.632754</td>\n",
       "    </tr>\n",
       "    <tr>\n",
       "      <th>2</th>\n",
       "      <td>surf</td>\n",
       "      <td>3</td>\n",
       "      <td>89.403875</td>\n",
       "    </tr>\n",
       "    <tr>\n",
       "      <th>3</th>\n",
       "      <td>surf</td>\n",
       "      <td>4</td>\n",
       "      <td>162.931373</td>\n",
       "    </tr>\n",
       "    <tr>\n",
       "      <th>4</th>\n",
       "      <td>surf</td>\n",
       "      <td>5</td>\n",
       "      <td>243.975630</td>\n",
       "    </tr>\n",
       "    <tr>\n",
       "      <th>5</th>\n",
       "      <td>surf</td>\n",
       "      <td>6</td>\n",
       "      <td>292.587111</td>\n",
       "    </tr>\n",
       "    <tr>\n",
       "      <th>6</th>\n",
       "      <td>surf</td>\n",
       "      <td>7</td>\n",
       "      <td>331.402000</td>\n",
       "    </tr>\n",
       "    <tr>\n",
       "      <th>7</th>\n",
       "      <td>surf</td>\n",
       "      <td>8</td>\n",
       "      <td>333.624894</td>\n",
       "    </tr>\n",
       "    <tr>\n",
       "      <th>8</th>\n",
       "      <td>surf</td>\n",
       "      <td>9</td>\n",
       "      <td>357.794623</td>\n",
       "    </tr>\n",
       "    <tr>\n",
       "      <th>9</th>\n",
       "      <td>surf</td>\n",
       "      <td>10</td>\n",
       "      <td>387.697944</td>\n",
       "    </tr>\n",
       "    <tr>\n",
       "      <th>10</th>\n",
       "      <td>surf</td>\n",
       "      <td>11</td>\n",
       "      <td>398.192782</td>\n",
       "    </tr>\n",
       "    <tr>\n",
       "      <th>11</th>\n",
       "      <td>surf</td>\n",
       "      <td>12</td>\n",
       "      <td>453.175605</td>\n",
       "    </tr>\n",
       "    <tr>\n",
       "      <th>12</th>\n",
       "      <td>ultimate</td>\n",
       "      <td>1</td>\n",
       "      <td>27.135185</td>\n",
       "    </tr>\n",
       "    <tr>\n",
       "      <th>13</th>\n",
       "      <td>ultimate</td>\n",
       "      <td>2</td>\n",
       "      <td>88.634333</td>\n",
       "    </tr>\n",
       "    <tr>\n",
       "      <th>14</th>\n",
       "      <td>ultimate</td>\n",
       "      <td>3</td>\n",
       "      <td>107.138125</td>\n",
       "    </tr>\n",
       "    <tr>\n",
       "      <th>15</th>\n",
       "      <td>ultimate</td>\n",
       "      <td>4</td>\n",
       "      <td>166.166750</td>\n",
       "    </tr>\n",
       "    <tr>\n",
       "      <th>16</th>\n",
       "      <td>ultimate</td>\n",
       "      <td>5</td>\n",
       "      <td>247.250667</td>\n",
       "    </tr>\n",
       "    <tr>\n",
       "      <th>17</th>\n",
       "      <td>ultimate</td>\n",
       "      <td>6</td>\n",
       "      <td>265.179355</td>\n",
       "    </tr>\n",
       "    <tr>\n",
       "      <th>18</th>\n",
       "      <td>ultimate</td>\n",
       "      <td>7</td>\n",
       "      <td>330.864861</td>\n",
       "    </tr>\n",
       "    <tr>\n",
       "      <th>19</th>\n",
       "      <td>ultimate</td>\n",
       "      <td>8</td>\n",
       "      <td>348.228519</td>\n",
       "    </tr>\n",
       "    <tr>\n",
       "      <th>20</th>\n",
       "      <td>ultimate</td>\n",
       "      <td>9</td>\n",
       "      <td>374.133789</td>\n",
       "    </tr>\n",
       "    <tr>\n",
       "      <th>21</th>\n",
       "      <td>ultimate</td>\n",
       "      <td>10</td>\n",
       "      <td>395.331667</td>\n",
       "    </tr>\n",
       "    <tr>\n",
       "      <th>22</th>\n",
       "      <td>ultimate</td>\n",
       "      <td>11</td>\n",
       "      <td>417.192578</td>\n",
       "    </tr>\n",
       "    <tr>\n",
       "      <th>23</th>\n",
       "      <td>ultimate</td>\n",
       "      <td>12</td>\n",
       "      <td>438.824832</td>\n",
       "    </tr>\n",
       "  </tbody>\n",
       "</table>\n",
       "</div>"
      ],
      "text/plain": [
       "        plan  month    duration\n",
       "0       surf      1    5.933538\n",
       "1       surf      2   36.632754\n",
       "2       surf      3   89.403875\n",
       "3       surf      4  162.931373\n",
       "4       surf      5  243.975630\n",
       "5       surf      6  292.587111\n",
       "6       surf      7  331.402000\n",
       "7       surf      8  333.624894\n",
       "8       surf      9  357.794623\n",
       "9       surf     10  387.697944\n",
       "10      surf     11  398.192782\n",
       "11      surf     12  453.175605\n",
       "12  ultimate      1   27.135185\n",
       "13  ultimate      2   88.634333\n",
       "14  ultimate      3  107.138125\n",
       "15  ultimate      4  166.166750\n",
       "16  ultimate      5  247.250667\n",
       "17  ultimate      6  265.179355\n",
       "18  ultimate      7  330.864861\n",
       "19  ultimate      8  348.228519\n",
       "20  ultimate      9  374.133789\n",
       "21  ultimate     10  395.331667\n",
       "22  ultimate     11  417.192578\n",
       "23  ultimate     12  438.824832"
      ]
     },
     "execution_count": 230,
     "metadata": {},
     "output_type": "execute_result"
    }
   ],
   "source": [
    "# Comparing the average call duration of each plan for each different month.\n",
    "\n",
    "df_planmonth_bycall = df.groupby(['plan', 'month'])['duration'].mean().reset_index()\n",
    "\n",
    "df_planmonth_bycall"
   ]
  },
  {
   "cell_type": "code",
   "execution_count": 231,
   "metadata": {},
   "outputs": [
    {
     "data": {
      "image/png": "[encoded data removed]",
      "text/plain": [
       "<Figure size 432x288 with 1 Axes>"
      ]
     },
     "metadata": {
      "needs_background": "light"
     },
     "output_type": "display_data"
    }
   ],
   "source": [
    "# Making a bar chart to visualize it\n",
    "\n",
    "fig, ax = plt.subplots()\n",
    "for plan in df_planmonth_bycall['plan'].unique():\n",
    "    ax.bar(df_planmonth_bycall.loc[df_planmonth_bycall['plan'] == plan, 'month'],\n",
    "           df_planmonth_bycall.loc[df_planmonth_bycall['plan'] == plan, 'duration'],\n",
    "           label=plan)\n",
    "\n",
    "ax.set_xlabel('Month')\n",
    "ax.set_ylabel('Average call duration')\n",
    "ax.legend()\n",
    "plt.show()"
   ]
  },
  {
   "cell_type": "markdown",
   "metadata": {},
   "source": [
    "Apparently the months of June, July and December were the only ones in which the average call duration was higher for *surf* plan customers than for *ultimate* plan customers.\n",
    "\n",
    "Both plans follow a gradual increase from the beginning to the end of the year. We can have two reasons:\n",
    "- or customers felt more comfortable with calls throughout the year\n",
    "- or the new customers that came in spoke more than the previous ones, changing the average"
   ]
  },
  {
   "cell_type": "code",
   "execution_count": 232,
   "metadata": {},
   "outputs": [
    {
     "data": {
      "text/plain": [
       "month\n",
       "1       5.933538\n",
       "2      36.632754\n",
       "3      89.403875\n",
       "4     162.931373\n",
       "5     243.975630\n",
       "6     292.587111\n",
       "7     331.402000\n",
       "8     333.624894\n",
       "9     357.794623\n",
       "10    387.697944\n",
       "11    398.192782\n",
       "12    453.175605\n",
       "Name: duration, dtype: float64"
      ]
     },
     "execution_count": 232,
     "metadata": {},
     "output_type": "execute_result"
    }
   ],
   "source": [
    "# Comparing the number of minutes that 'surf' users require each month.\n",
    "\n",
    "df_surf = df[df['plan']== 'surf']\n",
    "df_surf_callmean = df_surf.groupby('month')['duration'].mean()\n",
    "df_surf_callmean"
   ]
  },
  {
   "cell_type": "code",
   "execution_count": 233,
   "metadata": {},
   "outputs": [
    {
     "data": {
      "image/png": "[encoded data removed]",
      "text/plain": [
       "<Figure size 432x288 with 1 Axes>"
      ]
     },
     "metadata": {
      "needs_background": "light"
     },
     "output_type": "display_data"
    }
   ],
   "source": [
    "# Creating a histogram for the monthly minutes in the 'surf' plan\n",
    "\n",
    "plt.hist(df_surf['duration'], bins=20)\n",
    "plt.xlabel('total minutes')\n",
    "plt.ylabel('frequency')\n",
    "plt.show()"
   ]
  },
  {
   "cell_type": "markdown",
   "metadata": {},
   "source": [
    "The histogram generated for the number of minutes that 'surf' users require each month shows a positive skewed distribution, with a concentration of smaller values (in relation to the total) at the beginning of the x-axis and a longer tail on the right. This indicates that the majority of users spend fewer minutes on the 'surf' plan per month, with a small percentage of users spending a large number of minutes."
   ]
  },
  {
   "cell_type": "code",
   "execution_count": 234,
   "metadata": {
    "scrolled": true
   },
   "outputs": [
    {
     "data": {
      "text/plain": [
       "month\n",
       "1      27.135185\n",
       "2      88.634333\n",
       "3     107.138125\n",
       "4     166.166750\n",
       "5     247.250667\n",
       "6     265.179355\n",
       "7     330.864861\n",
       "8     348.228519\n",
       "9     374.133789\n",
       "10    395.331667\n",
       "11    417.192578\n",
       "12    438.824832\n",
       "Name: duration, dtype: float64"
      ]
     },
     "execution_count": 234,
     "metadata": {},
     "output_type": "execute_result"
    }
   ],
   "source": [
    "# Comparing the number of minutes 'ultimate' users require each month.\n",
    "\n",
    "df_ultimate = df[df['plan']== 'ultimate']\n",
    "df_ultimate_callmean = df_ultimate.groupby('month')['duration'].mean()\n",
    "df_ultimate_callmean"
   ]
  },
  {
   "cell_type": "code",
   "execution_count": 235,
   "metadata": {},
   "outputs": [
    {
     "data": {
      "image/png": "[encoded data removed]",
      "text/plain": [
       "<Figure size 432x288 with 1 Axes>"
      ]
     },
     "metadata": {
      "needs_background": "light"
     },
     "output_type": "display_data"
    }
   ],
   "source": [
    "# Creating a histogram for the monthly minutes in the 'ultimate' plan\n",
    "\n",
    "plt.hist(df_ultimate['duration'], bins=20)\n",
    "plt.xlabel('total minutes')\n",
    "plt.ylabel('frequency')\n",
    "plt.show()"
   ]
  },
  {
   "cell_type": "markdown",
   "metadata": {},
   "source": [
    "The histogram generated for the number of minutes 'ultimate' users require each month shows a positive skewed distribution similar to the 'surf' plane, with a concentration of smaller values at the beginning of the x-axis and a longer tail to the right. However, from the statistical summary, it can be seen that, on average, users of the 'ultimate' plan spend more minutes per month than users of the 'surf' plan. Furthermore, from the data presented, it appears that the average number of minutes increases faster over the months for the 'ultimate' plan compared to the 'surf' plan."
   ]
  },
  {
   "cell_type": "markdown",
   "metadata": {},
   "source": [
    "Let's now calculate the **mean**, the **variance** and the **standard deviation** of the call duration to reason if users of different plans have different behavior in their calls."
   ]
  },
  {
   "cell_type": "markdown",
   "metadata": {},
   "source": [
    "**Average duration of calls**"
   ]
  },
  {
   "cell_type": "code",
   "execution_count": 236,
   "metadata": {},
   "outputs": [],
   "source": [
    "df_surf_call_mean = df_surf['duration'].mean()"
   ]
  },
  {
   "cell_type": "code",
   "execution_count": 237,
   "metadata": {},
   "outputs": [],
   "source": [
    "df_ultimate_call_mean = df_ultimate['duration'].mean()"
   ]
  },
  {
   "cell_type": "code",
   "execution_count": 238,
   "metadata": {},
   "outputs": [
    {
     "name": "stdout",
     "output_type": "stream",
     "text": [
      "The monthly average call duration in the Surf plan is 323.02954845256215 and in the Ultimate plan is 334.23888\n"
     ]
    }
   ],
   "source": [
    "# Calculating average monthly call duration.\n",
    "\n",
    "print('The monthly average call duration in the Surf plan is ' + str(df_surf_call_mean) + ' and in the Ultimate plan is ' + str(df_ultimate_call_mean))"
   ]
  },
  {
   "cell_type": "markdown",
   "metadata": {},
   "source": [
    "**Call duration variation**"
   ]
  },
  {
   "cell_type": "code",
   "execution_count": 239,
   "metadata": {},
   "outputs": [],
   "source": [
    "df_surf_call_variance = np.var(df_surf['duration'])"
   ]
  },
  {
   "cell_type": "code",
   "execution_count": 240,
   "metadata": {},
   "outputs": [],
   "source": [
    "df_ultimate_call_variance = np.var(df_ultimate['duration'])"
   ]
  },
  {
   "cell_type": "code",
   "execution_count": 241,
   "metadata": {},
   "outputs": [
    {
     "name": "stdout",
     "output_type": "stream",
     "text": [
      "The monthly variance of call duration in the Surf plan is 65590.5476084719 and in the Ultimate plan is 66484.01626274559\n"
     ]
    }
   ],
   "source": [
    "# Calculating the variance of monthly call duration.\n",
    "\n",
    "print('The monthly variance of call duration in the Surf plan is ' + str(df_surf_call_variance) + ' and in the Ultimate plan is ' + str(df_ultimate_call_variance))"
   ]
  },
  {
   "cell_type": "markdown",
   "metadata": {},
   "source": [
    "**Standard deviation of call duration**"
   ]
  },
  {
   "cell_type": "code",
   "execution_count": 242,
   "metadata": {},
   "outputs": [],
   "source": [
    "df_surf_call_std = np.sqrt(df_surf_call_variance)"
   ]
  },
  {
   "cell_type": "code",
   "execution_count": 243,
   "metadata": {},
   "outputs": [],
   "source": [
    "df_ultimate_call_std = np.sqrt(df_ultimate_call_variance)"
   ]
  },
  {
   "cell_type": "code",
   "execution_count": 244,
   "metadata": {},
   "outputs": [
    {
     "name": "stdout",
     "output_type": "stream",
     "text": [
      "The monthly standard deviation of call duration in the Surf plan is 256.10651613825036 and in the Ultimate plan is 257.84494616483295\n"
     ]
    }
   ],
   "source": [
    "# Calculating the standard deviation of monthly call duration.\n",
    "\n",
    "print('The monthly standard deviation of call duration in the Surf plan is ' + str(df_surf_call_std) + ' and in the Ultimate plan is ' + str(df_ultimate_call_std))"
   ]
  },
  {
   "cell_type": "markdown",
   "metadata": {},
   "source": [
    "**Call Duration Box Diagram**"
   ]
  },
  {
   "cell_type": "code",
   "execution_count": 245,
   "metadata": {},
   "outputs": [
    {
     "data": {
      "image/png": "[encoded data removed]",
      "text/plain": [
       "<Figure size 432x288 with 2 Axes>"
      ]
     },
     "metadata": {
      "needs_background": "light"
     },
     "output_type": "display_data"
    }
   ],
   "source": [
    "# Making a boxplot to visualize the monthly call duration distribution.\n",
    "\n",
    "fig, axes = plt.subplots(nrows=1, ncols=2)\n",
    "\n",
    "df_surf.boxplot(column='duration', ax=axes[0])\n",
    "df_ultimate.boxplot(column='duration', ax=axes[1])\n",
    "\n",
    "plt.show()"
   ]
  },
  {
   "cell_type": "code",
   "execution_count": 246,
   "metadata": {},
   "outputs": [
    {
     "data": {
      "text/plain": [
       "497.6599999999999"
      ]
     },
     "execution_count": 246,
     "metadata": {},
     "output_type": "execute_result"
    }
   ],
   "source": [
    "# Checking the maximum value of most call duration data in the Surf plan\n",
    "\n",
    "df_surf['duration'].quantile(0.75)"
   ]
  },
  {
   "cell_type": "code",
   "execution_count": 247,
   "metadata": {},
   "outputs": [
    {
     "data": {
      "text/plain": [
       "497.6599999999999"
      ]
     },
     "execution_count": 247,
     "metadata": {},
     "output_type": "execute_result"
    }
   ],
   "source": [
    "# Checking the maximum value of most call duration data in the Surf plan\n",
    "\n",
    "df_surf['duration'].quantile(0.75)"
   ]
  },
  {
   "cell_type": "code",
   "execution_count": 248,
   "metadata": {},
   "outputs": [
    {
     "data": {
      "text/plain": [
       "23"
      ]
     },
     "execution_count": 248,
     "metadata": {},
     "output_type": "execute_result"
    }
   ],
   "source": [
    "# How many rows represent connections in the Surf plan that exceeded the monthly limit of 1000 minutes\n",
    "\n",
    "len(df_surf.query('duration > 1000'))"
   ]
  },
  {
   "cell_type": "code",
   "execution_count": 249,
   "metadata": {},
   "outputs": [
    {
     "data": {
      "text/plain": [
       "14"
      ]
     },
     "execution_count": 249,
     "metadata": {},
     "output_type": "execute_result"
    }
   ],
   "source": [
    "# How many rows represent calls in the Ultimate plan that exceeded 1000 minutes\n",
    "\n",
    "len(df_ultimate.query('duration > 1000'))"
   ]
  },
  {
   "cell_type": "code",
   "execution_count": 250,
   "metadata": {},
   "outputs": [
    {
     "data": {
      "text/plain": [
       "0"
      ]
     },
     "execution_count": 250,
     "metadata": {},
     "output_type": "execute_result"
    }
   ],
   "source": [
    "# How many rows represent calls in the Ultimate plan that exceeded the monthly limit of 3000 minutes\n",
    "\n",
    "len(df_ultimate.query('duration > 3000'))"
   ]
  },
  {
   "cell_type": "markdown",
   "metadata": {},
   "source": [
    "We can see that for most customers (75% - more than half) of both plans the **average duration of calls** is very similar.\n",
    "\n",
    "In the Surf plan we still have some considerable values (23) above 1000 minutes while for Ultimate they tend to stabilize around 1000 (only 14 above), both having outliers.\n",
    "\n",
    "However, this is a considerably positive point for Ultimate plan customers, who are entitled to 3000 minutes, but none of them exceeded this limit, not generating extra revenue."
   ]
  },
  {
   "cell_type": "markdown",
   "metadata": {},
   "source": [
    " "
   ]
  },
  {
   "cell_type": "markdown",
   "metadata": {},
   "source": [
    "### Messages"
   ]
  },
  {
   "cell_type": "code",
   "execution_count": 251,
   "metadata": {},
   "outputs": [
    {
     "data": {
      "text/html": [
       "<div>\n",
       "<style scoped>\n",
       "    .dataframe tbody tr th:only-of-type {\n",
       "        vertical-align: middle;\n",
       "    }\n",
       "\n",
       "    .dataframe tbody tr th {\n",
       "        vertical-align: top;\n",
       "    }\n",
       "\n",
       "    .dataframe thead th {\n",
       "        text-align: right;\n",
       "    }\n",
       "</style>\n",
       "<table border=\"1\" class=\"dataframe\">\n",
       "  <thead>\n",
       "    <tr style=\"text-align: right;\">\n",
       "      <th></th>\n",
       "      <th>plan</th>\n",
       "      <th>month</th>\n",
       "      <th>msg_id</th>\n",
       "    </tr>\n",
       "  </thead>\n",
       "  <tbody>\n",
       "    <tr>\n",
       "      <th>0</th>\n",
       "      <td>surf</td>\n",
       "      <td>1</td>\n",
       "      <td>0.323077</td>\n",
       "    </tr>\n",
       "    <tr>\n",
       "      <th>1</th>\n",
       "      <td>surf</td>\n",
       "      <td>2</td>\n",
       "      <td>1.565217</td>\n",
       "    </tr>\n",
       "    <tr>\n",
       "      <th>2</th>\n",
       "      <td>surf</td>\n",
       "      <td>3</td>\n",
       "      <td>4.387500</td>\n",
       "    </tr>\n",
       "    <tr>\n",
       "      <th>3</th>\n",
       "      <td>surf</td>\n",
       "      <td>4</td>\n",
       "      <td>8.529412</td>\n",
       "    </tr>\n",
       "    <tr>\n",
       "      <th>4</th>\n",
       "      <td>surf</td>\n",
       "      <td>5</td>\n",
       "      <td>15.386555</td>\n",
       "    </tr>\n",
       "    <tr>\n",
       "      <th>5</th>\n",
       "      <td>surf</td>\n",
       "      <td>6</td>\n",
       "      <td>17.977778</td>\n",
       "    </tr>\n",
       "    <tr>\n",
       "      <th>6</th>\n",
       "      <td>surf</td>\n",
       "      <td>7</td>\n",
       "      <td>20.922581</td>\n",
       "    </tr>\n",
       "    <tr>\n",
       "      <th>7</th>\n",
       "      <td>surf</td>\n",
       "      <td>8</td>\n",
       "      <td>24.404255</td>\n",
       "    </tr>\n",
       "    <tr>\n",
       "      <th>8</th>\n",
       "      <td>surf</td>\n",
       "      <td>9</td>\n",
       "      <td>27.367925</td>\n",
       "    </tr>\n",
       "    <tr>\n",
       "      <th>9</th>\n",
       "      <td>surf</td>\n",
       "      <td>10</td>\n",
       "      <td>31.120968</td>\n",
       "    </tr>\n",
       "    <tr>\n",
       "      <th>10</th>\n",
       "      <td>surf</td>\n",
       "      <td>11</td>\n",
       "      <td>31.323944</td>\n",
       "    </tr>\n",
       "    <tr>\n",
       "      <th>11</th>\n",
       "      <td>surf</td>\n",
       "      <td>12</td>\n",
       "      <td>37.847134</td>\n",
       "    </tr>\n",
       "    <tr>\n",
       "      <th>12</th>\n",
       "      <td>ultimate</td>\n",
       "      <td>1</td>\n",
       "      <td>2.296296</td>\n",
       "    </tr>\n",
       "    <tr>\n",
       "      <th>13</th>\n",
       "      <td>ultimate</td>\n",
       "      <td>2</td>\n",
       "      <td>5.033333</td>\n",
       "    </tr>\n",
       "    <tr>\n",
       "      <th>14</th>\n",
       "      <td>ultimate</td>\n",
       "      <td>3</td>\n",
       "      <td>7.593750</td>\n",
       "    </tr>\n",
       "    <tr>\n",
       "      <th>15</th>\n",
       "      <td>ultimate</td>\n",
       "      <td>4</td>\n",
       "      <td>11.575000</td>\n",
       "    </tr>\n",
       "    <tr>\n",
       "      <th>16</th>\n",
       "      <td>ultimate</td>\n",
       "      <td>5</td>\n",
       "      <td>20.688889</td>\n",
       "    </tr>\n",
       "    <tr>\n",
       "      <th>17</th>\n",
       "      <td>ultimate</td>\n",
       "      <td>6</td>\n",
       "      <td>22.241935</td>\n",
       "    </tr>\n",
       "    <tr>\n",
       "      <th>18</th>\n",
       "      <td>ultimate</td>\n",
       "      <td>7</td>\n",
       "      <td>26.902778</td>\n",
       "    </tr>\n",
       "    <tr>\n",
       "      <th>19</th>\n",
       "      <td>ultimate</td>\n",
       "      <td>8</td>\n",
       "      <td>33.728395</td>\n",
       "    </tr>\n",
       "    <tr>\n",
       "      <th>20</th>\n",
       "      <td>ultimate</td>\n",
       "      <td>9</td>\n",
       "      <td>34.305263</td>\n",
       "    </tr>\n",
       "    <tr>\n",
       "      <th>21</th>\n",
       "      <td>ultimate</td>\n",
       "      <td>10</td>\n",
       "      <td>36.675439</td>\n",
       "    </tr>\n",
       "    <tr>\n",
       "      <th>22</th>\n",
       "      <td>ultimate</td>\n",
       "      <td>11</td>\n",
       "      <td>37.976562</td>\n",
       "    </tr>\n",
       "    <tr>\n",
       "      <th>23</th>\n",
       "      <td>ultimate</td>\n",
       "      <td>12</td>\n",
       "      <td>45.087248</td>\n",
       "    </tr>\n",
       "  </tbody>\n",
       "</table>\n",
       "</div>"
      ],
      "text/plain": [
       "        plan  month     msg_id\n",
       "0       surf      1   0.323077\n",
       "1       surf      2   1.565217\n",
       "2       surf      3   4.387500\n",
       "3       surf      4   8.529412\n",
       "4       surf      5  15.386555\n",
       "5       surf      6  17.977778\n",
       "6       surf      7  20.922581\n",
       "7       surf      8  24.404255\n",
       "8       surf      9  27.367925\n",
       "9       surf     10  31.120968\n",
       "10      surf     11  31.323944\n",
       "11      surf     12  37.847134\n",
       "12  ultimate      1   2.296296\n",
       "13  ultimate      2   5.033333\n",
       "14  ultimate      3   7.593750\n",
       "15  ultimate      4  11.575000\n",
       "16  ultimate      5  20.688889\n",
       "17  ultimate      6  22.241935\n",
       "18  ultimate      7  26.902778\n",
       "19  ultimate      8  33.728395\n",
       "20  ultimate      9  34.305263\n",
       "21  ultimate     10  36.675439\n",
       "22  ultimate     11  37.976562\n",
       "23  ultimate     12  45.087248"
      ]
     },
     "execution_count": 251,
     "metadata": {},
     "output_type": "execute_result"
    }
   ],
   "source": [
    "# Comparing the average number of messages for each plan for each different month.\n",
    "\n",
    "df_planmonth_bymsg = df.groupby(['plan', 'month'])['msg_id'].mean().reset_index()\n",
    "\n",
    "df_planmonth_bymsg"
   ]
  },
  {
   "cell_type": "code",
   "execution_count": 252,
   "metadata": {},
   "outputs": [
    {
     "data": {
      "image/png": "[encoded data removed]",
      "text/plain": [
       "<Figure size 432x288 with 1 Axes>"
      ]
     },
     "metadata": {
      "needs_background": "light"
     },
     "output_type": "display_data"
    }
   ],
   "source": [
    "# Making a bar chart to visualize it.\n",
    "fig, ax = plt.subplots()\n",
    "for plan in df_planmonth_bymsg['plan'].unique()[::-1]:\n",
    "     ax.bar(df_planmonth_bymsg.loc[df_planmonth_bymsg['plan'] == plan, 'month'],\n",
    "            df_planmonth_bymsg.loc[df_planmonth_bymsg['plan'] == plan, 'msg_id'],\n",
    "            label=plan)\n",
    "\n",
    "ax.set_xlabel('Month')\n",
    "ax.set_ylabel('Average number of messages')\n",
    "ax.legend()\n",
    "plt.show()"
   ]
  },
  {
   "cell_type": "markdown",
   "metadata": {},
   "source": [
    "With this bar graph, it is clear that customers of the *ultimate* plan sent, on average, more messages than those of the *surf* plan, with emphasis on a greater difference in the month of August and a continuous increase between October and November, even when *surf* customers appeared to have maintained the same average.\n",
    "\n",
    "Both plans follow a gradual increase from the beginning to the end of the year. We can have two reasons:\n",
    "- or customers felt more comfortable with messages throughout the year\n",
    "- or the new customers that entered sent more messages than the previous ones, changing the average"
   ]
  },
  {
   "cell_type": "code",
   "execution_count": 253,
   "metadata": {},
   "outputs": [
    {
     "data": {
      "text/plain": [
       "month\n",
       "1      0.323077\n",
       "2      1.565217\n",
       "3      4.387500\n",
       "4      8.529412\n",
       "5     15.386555\n",
       "6     17.977778\n",
       "7     20.922581\n",
       "8     24.404255\n",
       "9     27.367925\n",
       "10    31.120968\n",
       "11    31.323944\n",
       "12    37.847134\n",
       "Name: msg_id, dtype: float64"
      ]
     },
     "execution_count": 253,
     "metadata": {},
     "output_type": "execute_result"
    }
   ],
   "source": [
    "# Comparing the number of messages that 'surf' users require each month.\n",
    "\n",
    "df_surf = df[df['plan']== 'surf']\n",
    "df_surf_msgmean = df_surf.groupby('month')['msg_id'].mean()\n",
    "df_surf_msgmean"
   ]
  },
  {
   "cell_type": "code",
   "execution_count": 254,
   "metadata": {},
   "outputs": [
    {
     "data": {
      "image/png": "[encoded data removed]",
      "text/plain": [
       "<Figure size 432x288 with 1 Axes>"
      ]
     },
     "metadata": {
      "needs_background": "light"
     },
     "output_type": "display_data"
    }
   ],
   "source": [
    "# Creating a histogram for monthly messages in the 'surf' plan\n",
    "\n",
    "plt.hist(df_surf['msg_id'], bins=20)\n",
    "plt.xlabel('total messages')\n",
    "plt.ylabel('frequency')\n",
    "plt.show()"
   ]
  },
  {
   "cell_type": "code",
   "execution_count": 255,
   "metadata": {
    "scrolled": true
   },
   "outputs": [
    {
     "data": {
      "text/plain": [
       "month\n",
       "1      2.296296\n",
       "2      5.033333\n",
       "3      7.593750\n",
       "4     11.575000\n",
       "5     20.688889\n",
       "6     22.241935\n",
       "7     26.902778\n",
       "8     33.728395\n",
       "9     34.305263\n",
       "10    36.675439\n",
       "11    37.976562\n",
       "12    45.087248\n",
       "Name: msg_id, dtype: float64"
      ]
     },
     "execution_count": 255,
     "metadata": {},
     "output_type": "execute_result"
    }
   ],
   "source": [
    "# Comparing the number of messages 'ultimate' users require each month.\n",
    "\n",
    "df_ultimate = df[df['plan']== 'ultimate']\n",
    "df_ultimate_msgmean = df_ultimate.groupby('month')['msg_id'].mean()\n",
    "df_ultimate_msgmean"
   ]
  },
  {
   "cell_type": "code",
   "execution_count": 256,
   "metadata": {},
   "outputs": [
    {
     "data": {
      "image/png": "[encoded data removed]",
      "text/plain": [
       "<Figure size 432x288 with 1 Axes>"
      ]
     },
     "metadata": {
      "needs_background": "light"
     },
     "output_type": "display_data"
    }
   ],
   "source": [
    "# Creating a histogram for the monthly minutes in the 'ultimate' plan\n",
    "\n",
    "plt.hist(df_ultimate['msg_id'], bins=20)\n",
    "plt.xlabel('total messages')\n",
    "plt.ylabel('frequency')\n",
    "plt.show()"
   ]
  },
  {
   "cell_type": "markdown",
   "metadata": {},
   "source": [
    "Despite the average number of *surf* messages being lower, it seems that we have some outliers that reach over 200 messages, while the *ultimate* that is entitled to more is close to 150 messages."
   ]
  },
  {
   "cell_type": "markdown",
   "metadata": {},
   "source": [
    "Let's now calculate the **mean**, the **variance** and the **standard deviation** of the number of messages to reason whether users from different plans have different behaviors in relation to these messages."
   ]
  },
  {
   "cell_type": "markdown",
   "metadata": {},
   "source": [
    "**Average number of messages**"
   ]
  },
  {
   "cell_type": "code",
   "execution_count": 257,
   "metadata": {},
   "outputs": [],
   "source": [
    "df_surf_msgmean = df_surf['msg_id'].mean()"
   ]
  },
  {
   "cell_type": "code",
   "execution_count": 258,
   "metadata": {},
   "outputs": [],
   "source": [
    "df_ultimate_msgmean = df_ultimate['msg_id'].mean()"
   ]
  },
  {
   "cell_type": "code",
   "execution_count": 259,
   "metadata": {},
   "outputs": [
    {
     "name": "stdout",
     "output_type": "stream",
     "text": [
      "The monthly average of messages in the Surf plan is 24.220700152207 and in the Ultimate plan is 30.762285714285714\n"
     ]
    }
   ],
   "source": [
    "# Calculating the average monthly length of messages.\n",
    "\n",
    "print('The monthly average of messages in the Surf plan is ' + str(df_surf_msgmean) + ' and in the Ultimate plan is ' + str(df_ultimate_msgmean))"
   ]
  },
  {
   "cell_type": "markdown",
   "metadata": {},
   "source": [
    "**Variation in the number of messages**"
   ]
  },
  {
   "cell_type": "code",
   "execution_count": 260,
   "metadata": {},
   "outputs": [],
   "source": [
    "df_surf_msg_variance = np.var(df_surf['msg_id'])"
   ]
  },
  {
   "cell_type": "code",
   "execution_count": 261,
   "metadata": {},
   "outputs": [],
   "source": [
    "df_ultimate_msg_variance = np.var(df_ultimate['msg_id'])"
   ]
  },
  {
   "cell_type": "code",
   "execution_count": 262,
   "metadata": {},
   "outputs": [
    {
     "name": "stdout",
     "output_type": "stream",
     "text": [
      "The monthly variation of messages in the Surf plan is 1048.4155227974582 and in the Ultimate plan is 1198.281777632653\n"
     ]
    }
   ],
   "source": [
    "# Calculating the variance of the monthly number of messages.\n",
    "\n",
    "print('The monthly variation of messages in the Surf plan is ' + str(df_surf_msg_variance) + ' and in the Ultimate plan is ' + str(df_ultimate_msg_variance))"
   ]
  },
  {
   "cell_type": "markdown",
   "metadata": {},
   "source": [
    "**Standard deviation of number of messages**"
   ]
  },
  {
   "cell_type": "code",
   "execution_count": 263,
   "metadata": {},
   "outputs": [],
   "source": [
    "df_surf_msg_std = np.sqrt(df_surf_msg_variance)"
   ]
  },
  {
   "cell_type": "code",
   "execution_count": 264,
   "metadata": {},
   "outputs": [],
   "source": [
    "df_ultimate_msg_std = np.sqrt(df_ultimate_msg_variance)"
   ]
  },
  {
   "cell_type": "code",
   "execution_count": 265,
   "metadata": {},
   "outputs": [
    {
     "name": "stdout",
     "output_type": "stream",
     "text": [
      "The monthly standard deviation of messages in the Surf plan is 32.379245247495476 and in the Ultimate plan is 34.61620686373152\n"
     ]
    }
   ],
   "source": [
    "# Calculating the standard deviation of the monthly number of messages.\n",
    "\n",
    "print('The monthly standard deviation of messages in the Surf plan is ' + str(df_surf_msg_std) + ' and in the Ultimate plan is ' + str(df_ultimate_msg_std))"
   ]
  },
  {
   "cell_type": "markdown",
   "metadata": {},
   "source": [
    "**Message Number Box Diagram**"
   ]
  },
  {
   "cell_type": "code",
   "execution_count": 266,
   "metadata": {},
   "outputs": [
    {
     "data": {
      "image/png": "[encoded data removed]",
      "text/plain": [
       "<Figure size 432x288 with 2 Axes>"
      ]
     },
     "metadata": {
      "needs_background": "light"
     },
     "output_type": "display_data"
    }
   ],
   "source": [
    "# Making a boxplot to visualize the distribution of the monthly number of messages.\n",
    "\n",
    "fig, axes = plt.subplots(nrows=1, ncols=2)\n",
    "\n",
    "df_surf.boxplot(column='msg_id', ax=axes[0])\n",
    "axes[0].set_title('Surf Plan')\n",
    "\n",
    "df_ultimate.boxplot(column='msg_id', ax=axes[1])\n",
    "axes[1].set_title('Ultimate Plan')\n",
    "\n",
    "plt.show()"
   ]
  },
  {
   "cell_type": "code",
   "execution_count": 267,
   "metadata": {},
   "outputs": [
    {
     "data": {
      "text/plain": [
       "38.0"
      ]
     },
     "execution_count": 267,
     "metadata": {},
     "output_type": "execute_result"
    }
   ],
   "source": [
    "# Checking the maximum value of most message data in the Surf plan\n",
    "\n",
    "df_surf['msg_id'].quantile(0.75)"
   ]
  },
  {
   "cell_type": "code",
   "execution_count": 268,
   "metadata": {},
   "outputs": [
    {
     "data": {
      "text/plain": [
       "53.5"
      ]
     },
     "execution_count": 268,
     "metadata": {},
     "output_type": "execute_result"
    }
   ],
   "source": [
    "# Checking the maximum value of most messaging data in the Ultimate plan\n",
    "\n",
    "df_ultimate['msg_id'].quantile(0.75)"
   ]
  },
  {
   "cell_type": "code",
   "execution_count": 269,
   "metadata": {},
   "outputs": [
    {
     "data": {
      "text/plain": [
       "327"
      ]
     },
     "execution_count": 269,
     "metadata": {},
     "output_type": "execute_result"
    }
   ],
   "source": [
    "# How many rows represent customers on the Surf plan who have exceeded the monthly limit of 1000 messages\n",
    "\n",
    "len(df_surf.query('msg_id > 50'))"
   ]
  },
  {
   "cell_type": "code",
   "execution_count": 270,
   "metadata": {},
   "outputs": [
    {
     "data": {
      "text/plain": [
       "238"
      ]
     },
     "execution_count": 270,
     "metadata": {},
     "output_type": "execute_result"
    }
   ],
   "source": [
    "# How many rows represent customers on the Ultimate plan who have exceeded 1000 messages\n",
    "\n",
    "len(df_ultimate.query('msg_id > 50'))"
   ]
  },
  {
   "cell_type": "code",
   "execution_count": 271,
   "metadata": {},
   "outputs": [
    {
     "data": {
      "text/plain": [
       "0"
      ]
     },
     "execution_count": 271,
     "metadata": {},
     "output_type": "execute_result"
    }
   ],
   "source": [
    "# How many rows represent customers on the Ultimate plan who have exceeded the monthly limit of 3000 minutes\n",
    "\n",
    "len(df_ultimate.query('msg_id > 1000'))"
   ]
  },
  {
   "cell_type": "markdown",
   "metadata": {},
   "source": [
    "We can observe that the majority of clients (75% - more than half) of the Surf Plan were able to limit themselves to the 50 messages included in the package, while for the Ultimate Plan it provided much more than necessary (they did not reach 55 while could have gone up to 1000). At least for the company, releasing 1000 messages, knowing that their customers don't even use 10% of them, seems like a good job of marketing.\n",
    "\n",
    "In the Surf plan we still have some considerable values (327) above the 50 messages in the package, while for Ultimate we only have 238 customers who, depending on the messages, would really need to be on this plan to avoid paying extra fees.\n",
    "\n",
    "Another considerably positive point for Ultimate plan customers, who, having the right to 1000 minutes, did not exceed this limit, not generating extra revenue."
   ]
  },
  {
   "cell_type": "markdown",
   "metadata": {},
   "source": [
    " "
   ]
  },
  {
   "cell_type": "markdown",
   "metadata": {},
   "source": [
    "### Internet"
   ]
  },
  {
   "cell_type": "code",
   "execution_count": 272,
   "metadata": {},
   "outputs": [
    {
     "data": {
      "text/html": [
       "<div>\n",
       "<style scoped>\n",
       "    .dataframe tbody tr th:only-of-type {\n",
       "        vertical-align: middle;\n",
       "    }\n",
       "\n",
       "    .dataframe tbody tr th {\n",
       "        vertical-align: top;\n",
       "    }\n",
       "\n",
       "    .dataframe thead th {\n",
       "        text-align: right;\n",
       "    }\n",
       "</style>\n",
       "<table border=\"1\" class=\"dataframe\">\n",
       "  <thead>\n",
       "    <tr style=\"text-align: right;\">\n",
       "      <th></th>\n",
       "      <th>plan</th>\n",
       "      <th>month</th>\n",
       "      <th>gb_used</th>\n",
       "    </tr>\n",
       "  </thead>\n",
       "  <tbody>\n",
       "    <tr>\n",
       "      <th>0</th>\n",
       "      <td>surf</td>\n",
       "      <td>1</td>\n",
       "      <td>0.153846</td>\n",
       "    </tr>\n",
       "    <tr>\n",
       "      <th>1</th>\n",
       "      <td>surf</td>\n",
       "      <td>2</td>\n",
       "      <td>1.652174</td>\n",
       "    </tr>\n",
       "    <tr>\n",
       "      <th>2</th>\n",
       "      <td>surf</td>\n",
       "      <td>3</td>\n",
       "      <td>3.962500</td>\n",
       "    </tr>\n",
       "    <tr>\n",
       "      <th>3</th>\n",
       "      <td>surf</td>\n",
       "      <td>4</td>\n",
       "      <td>6.088235</td>\n",
       "    </tr>\n",
       "    <tr>\n",
       "      <th>4</th>\n",
       "      <td>surf</td>\n",
       "      <td>5</td>\n",
       "      <td>9.294118</td>\n",
       "    </tr>\n",
       "    <tr>\n",
       "      <th>5</th>\n",
       "      <td>surf</td>\n",
       "      <td>6</td>\n",
       "      <td>11.214815</td>\n",
       "    </tr>\n",
       "    <tr>\n",
       "      <th>6</th>\n",
       "      <td>surf</td>\n",
       "      <td>7</td>\n",
       "      <td>13.393548</td>\n",
       "    </tr>\n",
       "    <tr>\n",
       "      <th>7</th>\n",
       "      <td>surf</td>\n",
       "      <td>8</td>\n",
       "      <td>14.654255</td>\n",
       "    </tr>\n",
       "    <tr>\n",
       "      <th>8</th>\n",
       "      <td>surf</td>\n",
       "      <td>9</td>\n",
       "      <td>15.245283</td>\n",
       "    </tr>\n",
       "    <tr>\n",
       "      <th>9</th>\n",
       "      <td>surf</td>\n",
       "      <td>10</td>\n",
       "      <td>16.552419</td>\n",
       "    </tr>\n",
       "    <tr>\n",
       "      <th>10</th>\n",
       "      <td>surf</td>\n",
       "      <td>11</td>\n",
       "      <td>16.373239</td>\n",
       "    </tr>\n",
       "    <tr>\n",
       "      <th>11</th>\n",
       "      <td>surf</td>\n",
       "      <td>12</td>\n",
       "      <td>18.283439</td>\n",
       "    </tr>\n",
       "    <tr>\n",
       "      <th>12</th>\n",
       "      <td>ultimate</td>\n",
       "      <td>1</td>\n",
       "      <td>1.074074</td>\n",
       "    </tr>\n",
       "    <tr>\n",
       "      <th>13</th>\n",
       "      <td>ultimate</td>\n",
       "      <td>2</td>\n",
       "      <td>4.100000</td>\n",
       "    </tr>\n",
       "    <tr>\n",
       "      <th>14</th>\n",
       "      <td>ultimate</td>\n",
       "      <td>3</td>\n",
       "      <td>7.062500</td>\n",
       "    </tr>\n",
       "    <tr>\n",
       "      <th>15</th>\n",
       "      <td>ultimate</td>\n",
       "      <td>4</td>\n",
       "      <td>8.650000</td>\n",
       "    </tr>\n",
       "    <tr>\n",
       "      <th>16</th>\n",
       "      <td>ultimate</td>\n",
       "      <td>5</td>\n",
       "      <td>11.000000</td>\n",
       "    </tr>\n",
       "    <tr>\n",
       "      <th>17</th>\n",
       "      <td>ultimate</td>\n",
       "      <td>6</td>\n",
       "      <td>12.000000</td>\n",
       "    </tr>\n",
       "    <tr>\n",
       "      <th>18</th>\n",
       "      <td>ultimate</td>\n",
       "      <td>7</td>\n",
       "      <td>13.777778</td>\n",
       "    </tr>\n",
       "    <tr>\n",
       "      <th>19</th>\n",
       "      <td>ultimate</td>\n",
       "      <td>8</td>\n",
       "      <td>16.111111</td>\n",
       "    </tr>\n",
       "    <tr>\n",
       "      <th>20</th>\n",
       "      <td>ultimate</td>\n",
       "      <td>9</td>\n",
       "      <td>15.873684</td>\n",
       "    </tr>\n",
       "    <tr>\n",
       "      <th>21</th>\n",
       "      <td>ultimate</td>\n",
       "      <td>10</td>\n",
       "      <td>16.815789</td>\n",
       "    </tr>\n",
       "    <tr>\n",
       "      <th>22</th>\n",
       "      <td>ultimate</td>\n",
       "      <td>11</td>\n",
       "      <td>17.234375</td>\n",
       "    </tr>\n",
       "    <tr>\n",
       "      <th>23</th>\n",
       "      <td>ultimate</td>\n",
       "      <td>12</td>\n",
       "      <td>18.838926</td>\n",
       "    </tr>\n",
       "  </tbody>\n",
       "</table>\n",
       "</div>"
      ],
      "text/plain": [
       "        plan  month    gb_used\n",
       "0       surf      1   0.153846\n",
       "1       surf      2   1.652174\n",
       "2       surf      3   3.962500\n",
       "3       surf      4   6.088235\n",
       "4       surf      5   9.294118\n",
       "5       surf      6  11.214815\n",
       "6       surf      7  13.393548\n",
       "7       surf      8  14.654255\n",
       "8       surf      9  15.245283\n",
       "9       surf     10  16.552419\n",
       "10      surf     11  16.373239\n",
       "11      surf     12  18.283439\n",
       "12  ultimate      1   1.074074\n",
       "13  ultimate      2   4.100000\n",
       "14  ultimate      3   7.062500\n",
       "15  ultimate      4   8.650000\n",
       "16  ultimate      5  11.000000\n",
       "17  ultimate      6  12.000000\n",
       "18  ultimate      7  13.777778\n",
       "19  ultimate      8  16.111111\n",
       "20  ultimate      9  15.873684\n",
       "21  ultimate     10  16.815789\n",
       "22  ultimate     11  17.234375\n",
       "23  ultimate     12  18.838926"
      ]
     },
     "execution_count": 272,
     "metadata": {},
     "output_type": "execute_result"
    }
   ],
   "source": [
    "# Comparing the average number of gigabytes used for each plan for each different month.\n",
    "\n",
    "df_planmonth_bygb = df.groupby(['plan', 'month'])['gb_used'].mean().reset_index()\n",
    "\n",
    "df_planmonth_bygb"
   ]
  },
  {
   "cell_type": "code",
   "execution_count": 273,
   "metadata": {},
   "outputs": [
    {
     "data": {
      "image/png": "[encoded data removed]",
      "text/plain": [
       "<Figure size 432x288 with 1 Axes>"
      ]
     },
     "metadata": {
      "needs_background": "light"
     },
     "output_type": "display_data"
    }
   ],
   "source": [
    "# Making a bar chart to visualize it.\n",
    "fig, ax = plt.subplots()\n",
    "for plan in df_planmonth_bygb['plan'].unique()[::-1]:\n",
    "     ax.bar(df_planmonth_bygb.loc[df_planmonth_bygb['plan'] == plan, 'month'],\n",
    "            df_planmonth_bygb.loc[df_planmonth_bygb['plan'] == plan, 'gb_used'],\n",
    "            label=plan)\n",
    "\n",
    "ax.set_xlabel('Month')\n",
    "ax.set_ylabel('Average Gb Used')\n",
    "ax.legend()\n",
    "plt.show()"
   ]
  },
  {
   "cell_type": "markdown",
   "metadata": {},
   "source": [
    "With this bar chart it is evident that *ultimate* plan customers used, on average, more internet than *surf* plan customers, with a greater difference in March, a continuous increase between October and November, with emphasis on while *surf* customers appeared to have slightly decreased their usage, so did *ultimate* customers from August to September."
   ]
  },
  {
   "cell_type": "code",
   "execution_count": 274,
   "metadata": {},
   "outputs": [
    {
     "data": {
      "text/plain": [
       "month\n",
       "1      0.153846\n",
       "2      1.652174\n",
       "3      3.962500\n",
       "4      6.088235\n",
       "5      9.294118\n",
       "6     11.214815\n",
       "7     13.393548\n",
       "8     14.654255\n",
       "9     15.245283\n",
       "10    16.552419\n",
       "11    16.373239\n",
       "12    18.283439\n",
       "Name: gb_used, dtype: float64"
      ]
     },
     "execution_count": 274,
     "metadata": {},
     "output_type": "execute_result"
    }
   ],
   "source": [
    "# Comparing the number of gigabytes that 'surf' users require each month.\n",
    "\n",
    "df_surf = df[df['plan']== 'surf']\n",
    "df_surf_gbmean = df_surf.groupby('month')['gb_used'].mean()\n",
    "df_surf_gbmean"
   ]
  },
  {
   "cell_type": "code",
   "execution_count": 275,
   "metadata": {},
   "outputs": [
    {
     "data": {
      "image/png": "[encoded data removed]",
      "text/plain": [
       "<Figure size 432x288 with 1 Axes>"
      ]
     },
     "metadata": {
      "needs_background": "light"
     },
     "output_type": "display_data"
    }
   ],
   "source": [
    "# Creating a histogram for the monthly gigabytes in the 'surf' plan\n",
    "\n",
    "plt.hist(df_surf['gb_used'], bins=20)\n",
    "plt.xlabel('total gb')\n",
    "plt.ylabel('frequency')\n",
    "plt.show()"
   ]
  },
  {
   "cell_type": "code",
   "execution_count": 276,
   "metadata": {
    "scrolled": true
   },
   "outputs": [
    {
     "data": {
      "text/plain": [
       "month\n",
       "1      1.074074\n",
       "2      4.100000\n",
       "3      7.062500\n",
       "4      8.650000\n",
       "5     11.000000\n",
       "6     12.000000\n",
       "7     13.777778\n",
       "8     16.111111\n",
       "9     15.873684\n",
       "10    16.815789\n",
       "11    17.234375\n",
       "12    18.838926\n",
       "Name: gb_used, dtype: float64"
      ]
     },
     "execution_count": 276,
     "metadata": {},
     "output_type": "execute_result"
    }
   ],
   "source": [
    "# Comparing the number of gigabytes 'ultimate' users require each month.\n",
    "\n",
    "df_ultimate = df[df['plan']== 'ultimate']\n",
    "df_ultimate_gbmean = df_ultimate.groupby('month')['gb_used'].mean()\n",
    "df_ultimate_gbmean"
   ]
  },
  {
   "cell_type": "code",
   "execution_count": 277,
   "metadata": {},
   "outputs": [
    {
     "data": {
      "image/png": "[encoded data removed]",
      "text/plain": [
       "<Figure size 432x288 with 1 Axes>"
      ]
     },
     "metadata": {
      "needs_background": "light"
     },
     "output_type": "display_data"
    }
   ],
   "source": [
    "# Creating a histogram for the monthly gigabytes in the 'ultimate' plan\n",
    "\n",
    "plt.hist(df_ultimate['gb_used'], bins=20)\n",
    "plt.xlabel('total gb')\n",
    "plt.ylabel('frequency')\n",
    "plt.show()"
   ]
  },
  {
   "cell_type": "markdown",
   "metadata": {},
   "source": [
    "Despite the average number of *surf* messages being smaller, it seems that we have some outliers that reach over 50 messages, while the *ultimate* that is entitled to more is close to 40 gigabytes."
   ]
  },
  {
   "cell_type": "markdown",
   "metadata": {},
   "source": [
    "Let's now calculate the **mean**, **variance** and **standard deviation** of the number of gigabytes to reason whether users of different plans have different behaviors in relation to this internet use."
   ]
  },
  {
   "cell_type": "markdown",
   "metadata": {},
   "source": [
    "**Average number of gigabytes**"
   ]
  },
  {
   "cell_type": "code",
   "execution_count": 278,
   "metadata": {},
   "outputs": [],
   "source": [
    "df_surf_gbmean = df_surf['gb_used'].mean()"
   ]
  },
  {
   "cell_type": "code",
   "execution_count": 279,
   "metadata": {},
   "outputs": [],
   "source": [
    "df_ultimate_gbmean = df_ultimate['gb_used'].mean()"
   ]
  },
  {
   "cell_type": "code",
   "execution_count": 280,
   "metadata": {},
   "outputs": [
    {
     "name": "stdout",
     "output_type": "stream",
     "text": [
      "Average monthly gigabytes on the Surf plan is 13.313546423135465 and on the Ultimate plan is 14.512\n"
     ]
    }
   ],
   "source": [
    "# Calculating the average monthly length of messages.\n",
    "\n",
    "print('Average monthly gigabytes on the Surf plan is ' + str(df_surf_gbmean) + ' and on the Ultimate plan is ' + str(df_ultimate_gbmean))"
   ]
  },
  {
   "cell_type": "markdown",
   "metadata": {},
   "source": [
    "**Variation of the number of gigabytes**"
   ]
  },
  {
   "cell_type": "code",
   "execution_count": 281,
   "metadata": {},
   "outputs": [],
   "source": [
    "df_surf_gb_variance = np.var(df_surf['gb_used'])"
   ]
  },
  {
   "cell_type": "code",
   "execution_count": 282,
   "metadata": {},
   "outputs": [],
   "source": [
    "df_ultimate_gb_variance = np.var(df_ultimate['gb_used'])"
   ]
  },
  {
   "cell_type": "code",
   "execution_count": 283,
   "metadata": {},
   "outputs": [
    {
     "name": "stdout",
     "output_type": "stream",
     "text": [
      "Monthly gigabyte variance on the Surf plan is 97.14775662633298 and on the Ultimate plan is 96.47614171428573\n"
     ]
    }
   ],
   "source": [
    "# Calculating the variance of the monthly number of gigabytes.\n",
    "\n",
    "print('Monthly gigabyte variance on the Surf plan is ' + str(df_surf_gb_variance) + ' and on the Ultimate plan is ' + str(df_ultimate_gb_variance))"
   ]
  },
  {
   "cell_type": "markdown",
   "metadata": {},
   "source": [
    "**Standard deviation of number of gigabytes**"
   ]
  },
  {
   "cell_type": "code",
   "execution_count": 284,
   "metadata": {},
   "outputs": [],
   "source": [
    "df_surf_gb_std = np.sqrt(df_surf_gb_variance)"
   ]
  },
  {
   "cell_type": "code",
   "execution_count": 285,
   "metadata": {},
   "outputs": [],
   "source": [
    "df_ultimate_gb_std = np.sqrt(df_ultimate_gb_variance)"
   ]
  },
  {
   "cell_type": "code",
   "execution_count": 286,
   "metadata": {},
   "outputs": [
    {
     "name": "stdout",
     "output_type": "stream",
     "text": [
      "The monthly standard deviation of gigabytes on the Surf plan is 32.379245247495476 and on the Ultimate plan is 34.61620686373152\n"
     ]
    }
   ],
   "source": [
    "# Calculating the standard deviation of the monthly number of gigabytes.\n",
    "\n",
    "print('The monthly standard deviation of gigabytes on the Surf plan is ' + str(df_surf_msg_std) + ' and on the Ultimate plan is ' + str(df_ultimate_msg_std))"
   ]
  },
  {
   "cell_type": "markdown",
   "metadata": {},
   "source": [
    "**Number of gigabytes box plot**"
   ]
  },
  {
   "cell_type": "code",
   "execution_count": 287,
   "metadata": {},
   "outputs": [
    {
     "data": {
      "image/png": "[encoded data removed]",
      "text/plain": [
       "<Figure size 432x288 with 2 Axes>"
      ]
     },
     "metadata": {
      "needs_background": "light"
     },
     "output_type": "display_data"
    }
   ],
   "source": [
    "# Making a boxplot to visualize the distribution of the monthly number of messages.\n",
    "\n",
    "fig, axes = plt.subplots(nrows=1, ncols=2)\n",
    "\n",
    "df_surf.boxplot(column='gb_used', ax=axes[0])\n",
    "axes[0].set_title('Surf Plan')\n",
    "\n",
    "df_ultimate.boxplot(column='gb_used', ax=axes[1])\n",
    "axes[1].set_title('Ultimate Plan')\n",
    "\n",
    "plt.show()"
   ]
  },
  {
   "cell_type": "code",
   "execution_count": 288,
   "metadata": {},
   "outputs": [
    {
     "data": {
      "text/plain": [
       "20.0"
      ]
     },
     "execution_count": 288,
     "metadata": {},
     "output_type": "execute_result"
    }
   ],
   "source": [
    "# Checking the maximum value of most message data in the Surf plan\n",
    "\n",
    "df_surf['gb_used'].quantile(0.75)"
   ]
  },
  {
   "cell_type": "code",
   "execution_count": 289,
   "metadata": {},
   "outputs": [
    {
     "data": {
      "text/plain": [
       "21.0"
      ]
     },
     "execution_count": 289,
     "metadata": {},
     "output_type": "execute_result"
    }
   ],
   "source": [
    "# Checking the maximum value of most messaging data in the Ultimate plan\n",
    "\n",
    "df_ultimate['gb_used'].quantile(0.75)"
   ]
  },
  {
   "cell_type": "code",
   "execution_count": 290,
   "metadata": {},
   "outputs": [
    {
     "data": {
      "text/plain": [
       "934"
      ]
     },
     "execution_count": 290,
     "metadata": {},
     "output_type": "execute_result"
    }
   ],
   "source": [
    "# How many rows represent customers on the Surf plan who have exceeded the monthly limit of 1000 messages\n",
    "\n",
    "len(df_surf.query('gb_used > 15'))"
   ]
  },
  {
   "cell_type": "code",
   "execution_count": 291,
   "metadata": {},
   "outputs": [
    {
     "data": {
      "text/plain": [
       "443"
      ]
     },
     "execution_count": 291,
     "metadata": {},
     "output_type": "execute_result"
    }
   ],
   "source": [
    "# How many rows represent customers on the Ultimate plan who have exceeded 1000 messages\n",
    "\n",
    "len(df_ultimate.query('gb_used > 15'))"
   ]
  },
  {
   "cell_type": "code",
   "execution_count": 292,
   "metadata": {},
   "outputs": [
    {
     "data": {
      "text/plain": [
       "45"
      ]
     },
     "execution_count": 292,
     "metadata": {},
     "output_type": "execute_result"
    }
   ],
   "source": [
    "# How many rows represent customers on the Ultimate plan who have exceeded the monthly limit of 3000 minutes\n",
    "\n",
    "len(df_ultimate.query('gb_used > 30'))"
   ]
  },
  {
   "cell_type": "markdown",
   "metadata": {},
   "source": [
    "Undoubtedly, Ultimate Plan customers are more controlled. Most of their data is under 21gb, well under the package's 30gb limit.\n",
    "\n",
    "We can see that more than half of Surf Plan customers exceeded their limit of 15gb included in the package, while for the Ultimate Plan it provided much more than necessary. At least for the company, disclosing 30gb, knowing that only less than 25% of its customers use that amount, seems like a good job of marketing.\n",
    "\n",
    "The internet package was the only one in which Ultimate plan customers exceeded their limit and generated extra revenue."
   ]
  },
  {
   "cell_type": "markdown",
   "metadata": {},
   "source": [
    " "
   ]
  },
  {
   "cell_type": "markdown",
   "metadata": {},
   "source": [
    "# Revenue"
   ]
  },
  {
   "cell_type": "code",
   "execution_count": 293,
   "metadata": {},
   "outputs": [
    {
     "data": {
      "text/html": [
       "<div>\n",
       "<style scoped>\n",
       "    .dataframe tbody tr th:only-of-type {\n",
       "        vertical-align: middle;\n",
       "    }\n",
       "\n",
       "    .dataframe tbody tr th {\n",
       "        vertical-align: top;\n",
       "    }\n",
       "\n",
       "    .dataframe thead th {\n",
       "        text-align: right;\n",
       "    }\n",
       "</style>\n",
       "<table border=\"1\" class=\"dataframe\">\n",
       "  <thead>\n",
       "    <tr style=\"text-align: right;\">\n",
       "      <th></th>\n",
       "      <th>user_id</th>\n",
       "      <th>month</th>\n",
       "      <th>call_id</th>\n",
       "      <th>duration</th>\n",
       "      <th>msg_id</th>\n",
       "      <th>mb_used</th>\n",
       "      <th>gb_used</th>\n",
       "      <th>city</th>\n",
       "      <th>plan</th>\n",
       "      <th>active</th>\n",
       "      <th>extra_min</th>\n",
       "      <th>extra_msgs</th>\n",
       "      <th>extra_gb</th>\n",
       "      <th>revenue</th>\n",
       "    </tr>\n",
       "  </thead>\n",
       "  <tbody>\n",
       "    <tr>\n",
       "      <th>0</th>\n",
       "      <td>1000</td>\n",
       "      <td>12</td>\n",
       "      <td>16</td>\n",
       "      <td>116.83</td>\n",
       "      <td>11.0</td>\n",
       "      <td>1901.47</td>\n",
       "      <td>2</td>\n",
       "      <td>Atlanta-Sandy Springs-Roswell, GA MSA</td>\n",
       "      <td>ultimate</td>\n",
       "      <td>1</td>\n",
       "      <td>0.0</td>\n",
       "      <td>0.0</td>\n",
       "      <td>0</td>\n",
       "      <td>70.00</td>\n",
       "    </tr>\n",
       "    <tr>\n",
       "      <th>1</th>\n",
       "      <td>1001</td>\n",
       "      <td>8</td>\n",
       "      <td>22</td>\n",
       "      <td>171.14</td>\n",
       "      <td>30.0</td>\n",
       "      <td>6919.15</td>\n",
       "      <td>7</td>\n",
       "      <td>Seattle-Tacoma-Bellevue, WA MSA</td>\n",
       "      <td>surf</td>\n",
       "      <td>1</td>\n",
       "      <td>0.0</td>\n",
       "      <td>0.0</td>\n",
       "      <td>0</td>\n",
       "      <td>20.00</td>\n",
       "    </tr>\n",
       "    <tr>\n",
       "      <th>2</th>\n",
       "      <td>1001</td>\n",
       "      <td>9</td>\n",
       "      <td>38</td>\n",
       "      <td>297.69</td>\n",
       "      <td>44.0</td>\n",
       "      <td>13314.82</td>\n",
       "      <td>14</td>\n",
       "      <td>Seattle-Tacoma-Bellevue, WA MSA</td>\n",
       "      <td>surf</td>\n",
       "      <td>1</td>\n",
       "      <td>0.0</td>\n",
       "      <td>0.0</td>\n",
       "      <td>0</td>\n",
       "      <td>20.00</td>\n",
       "    </tr>\n",
       "    <tr>\n",
       "      <th>3</th>\n",
       "      <td>1001</td>\n",
       "      <td>10</td>\n",
       "      <td>47</td>\n",
       "      <td>374.11</td>\n",
       "      <td>53.0</td>\n",
       "      <td>22330.49</td>\n",
       "      <td>23</td>\n",
       "      <td>Seattle-Tacoma-Bellevue, WA MSA</td>\n",
       "      <td>surf</td>\n",
       "      <td>1</td>\n",
       "      <td>0.0</td>\n",
       "      <td>3.0</td>\n",
       "      <td>7</td>\n",
       "      <td>90.09</td>\n",
       "    </tr>\n",
       "    <tr>\n",
       "      <th>4</th>\n",
       "      <td>1001</td>\n",
       "      <td>11</td>\n",
       "      <td>49</td>\n",
       "      <td>404.59</td>\n",
       "      <td>36.0</td>\n",
       "      <td>18504.30</td>\n",
       "      <td>19</td>\n",
       "      <td>Seattle-Tacoma-Bellevue, WA MSA</td>\n",
       "      <td>surf</td>\n",
       "      <td>1</td>\n",
       "      <td>0.0</td>\n",
       "      <td>0.0</td>\n",
       "      <td>4</td>\n",
       "      <td>60.00</td>\n",
       "    </tr>\n",
       "    <tr>\n",
       "      <th>...</th>\n",
       "      <td>...</td>\n",
       "      <td>...</td>\n",
       "      <td>...</td>\n",
       "      <td>...</td>\n",
       "      <td>...</td>\n",
       "      <td>...</td>\n",
       "      <td>...</td>\n",
       "      <td>...</td>\n",
       "      <td>...</td>\n",
       "      <td>...</td>\n",
       "      <td>...</td>\n",
       "      <td>...</td>\n",
       "      <td>...</td>\n",
       "      <td>...</td>\n",
       "    </tr>\n",
       "    <tr>\n",
       "      <th>2841</th>\n",
       "      <td>1499</td>\n",
       "      <td>8</td>\n",
       "      <td>0</td>\n",
       "      <td>0.00</td>\n",
       "      <td>0.0</td>\n",
       "      <td>0.00</td>\n",
       "      <td>0</td>\n",
       "      <td>Orlando-Kissimmee-Sanford, FL MSA</td>\n",
       "      <td>surf</td>\n",
       "      <td>1</td>\n",
       "      <td>0.0</td>\n",
       "      <td>0.0</td>\n",
       "      <td>0</td>\n",
       "      <td>20.00</td>\n",
       "    </tr>\n",
       "    <tr>\n",
       "      <th>2842</th>\n",
       "      <td>1499</td>\n",
       "      <td>9</td>\n",
       "      <td>35</td>\n",
       "      <td>330.37</td>\n",
       "      <td>0.0</td>\n",
       "      <td>12984.76</td>\n",
       "      <td>13</td>\n",
       "      <td>Orlando-Kissimmee-Sanford, FL MSA</td>\n",
       "      <td>surf</td>\n",
       "      <td>1</td>\n",
       "      <td>0.0</td>\n",
       "      <td>0.0</td>\n",
       "      <td>0</td>\n",
       "      <td>20.00</td>\n",
       "    </tr>\n",
       "    <tr>\n",
       "      <th>2843</th>\n",
       "      <td>1499</td>\n",
       "      <td>10</td>\n",
       "      <td>41</td>\n",
       "      <td>363.28</td>\n",
       "      <td>0.0</td>\n",
       "      <td>19492.43</td>\n",
       "      <td>20</td>\n",
       "      <td>Orlando-Kissimmee-Sanford, FL MSA</td>\n",
       "      <td>surf</td>\n",
       "      <td>1</td>\n",
       "      <td>0.0</td>\n",
       "      <td>0.0</td>\n",
       "      <td>5</td>\n",
       "      <td>70.00</td>\n",
       "    </tr>\n",
       "    <tr>\n",
       "      <th>2844</th>\n",
       "      <td>1499</td>\n",
       "      <td>11</td>\n",
       "      <td>39</td>\n",
       "      <td>288.56</td>\n",
       "      <td>0.0</td>\n",
       "      <td>16813.83</td>\n",
       "      <td>17</td>\n",
       "      <td>Orlando-Kissimmee-Sanford, FL MSA</td>\n",
       "      <td>surf</td>\n",
       "      <td>1</td>\n",
       "      <td>0.0</td>\n",
       "      <td>0.0</td>\n",
       "      <td>2</td>\n",
       "      <td>40.00</td>\n",
       "    </tr>\n",
       "    <tr>\n",
       "      <th>2845</th>\n",
       "      <td>1499</td>\n",
       "      <td>12</td>\n",
       "      <td>56</td>\n",
       "      <td>468.10</td>\n",
       "      <td>0.0</td>\n",
       "      <td>22059.21</td>\n",
       "      <td>23</td>\n",
       "      <td>Orlando-Kissimmee-Sanford, FL MSA</td>\n",
       "      <td>surf</td>\n",
       "      <td>1</td>\n",
       "      <td>0.0</td>\n",
       "      <td>0.0</td>\n",
       "      <td>7</td>\n",
       "      <td>90.00</td>\n",
       "    </tr>\n",
       "  </tbody>\n",
       "</table>\n",
       "<p>2846 rows × 14 columns</p>\n",
       "</div>"
      ],
      "text/plain": [
       "      user_id  month  call_id  duration  msg_id   mb_used  gb_used  \\\n",
       "0        1000     12       16    116.83    11.0   1901.47        2   \n",
       "1        1001      8       22    171.14    30.0   6919.15        7   \n",
       "2        1001      9       38    297.69    44.0  13314.82       14   \n",
       "3        1001     10       47    374.11    53.0  22330.49       23   \n",
       "4        1001     11       49    404.59    36.0  18504.30       19   \n",
       "...       ...    ...      ...       ...     ...       ...      ...   \n",
       "2841     1499      8        0      0.00     0.0      0.00        0   \n",
       "2842     1499      9       35    330.37     0.0  12984.76       13   \n",
       "2843     1499     10       41    363.28     0.0  19492.43       20   \n",
       "2844     1499     11       39    288.56     0.0  16813.83       17   \n",
       "2845     1499     12       56    468.10     0.0  22059.21       23   \n",
       "\n",
       "                                       city      plan  active  extra_min  \\\n",
       "0     Atlanta-Sandy Springs-Roswell, GA MSA  ultimate       1        0.0   \n",
       "1           Seattle-Tacoma-Bellevue, WA MSA      surf       1        0.0   \n",
       "2           Seattle-Tacoma-Bellevue, WA MSA      surf       1        0.0   \n",
       "3           Seattle-Tacoma-Bellevue, WA MSA      surf       1        0.0   \n",
       "4           Seattle-Tacoma-Bellevue, WA MSA      surf       1        0.0   \n",
       "...                                     ...       ...     ...        ...   \n",
       "2841      Orlando-Kissimmee-Sanford, FL MSA      surf       1        0.0   \n",
       "2842      Orlando-Kissimmee-Sanford, FL MSA      surf       1        0.0   \n",
       "2843      Orlando-Kissimmee-Sanford, FL MSA      surf       1        0.0   \n",
       "2844      Orlando-Kissimmee-Sanford, FL MSA      surf       1        0.0   \n",
       "2845      Orlando-Kissimmee-Sanford, FL MSA      surf       1        0.0   \n",
       "\n",
       "      extra_msgs  extra_gb  revenue  \n",
       "0            0.0         0    70.00  \n",
       "1            0.0         0    20.00  \n",
       "2            0.0         0    20.00  \n",
       "3            3.0         7    90.09  \n",
       "4            0.0         4    60.00  \n",
       "...          ...       ...      ...  \n",
       "2841         0.0         0    20.00  \n",
       "2842         0.0         0    20.00  \n",
       "2843         0.0         5    70.00  \n",
       "2844         0.0         2    40.00  \n",
       "2845         0.0         7    90.00  \n",
       "\n",
       "[2846 rows x 14 columns]"
      ]
     },
     "execution_count": 293,
     "metadata": {},
     "output_type": "execute_result"
    }
   ],
   "source": [
    "# Reviewing the organization of our Dataframe\n",
    "\n",
    "df"
   ]
  },
  {
   "cell_type": "code",
   "execution_count": 294,
   "metadata": {},
   "outputs": [
    {
     "data": {
      "text/html": [
       "<div>\n",
       "<style scoped>\n",
       "    .dataframe tbody tr th:only-of-type {\n",
       "        vertical-align: middle;\n",
       "    }\n",
       "\n",
       "    .dataframe tbody tr th {\n",
       "        vertical-align: top;\n",
       "    }\n",
       "\n",
       "    .dataframe thead th {\n",
       "        text-align: right;\n",
       "    }\n",
       "</style>\n",
       "<table border=\"1\" class=\"dataframe\">\n",
       "  <thead>\n",
       "    <tr style=\"text-align: right;\">\n",
       "      <th></th>\n",
       "      <th>plan</th>\n",
       "      <th>month</th>\n",
       "      <th>revenue</th>\n",
       "    </tr>\n",
       "  </thead>\n",
       "  <tbody>\n",
       "    <tr>\n",
       "      <th>0</th>\n",
       "      <td>surf</td>\n",
       "      <td>1</td>\n",
       "      <td>20.000000</td>\n",
       "    </tr>\n",
       "    <tr>\n",
       "      <th>1</th>\n",
       "      <td>surf</td>\n",
       "      <td>2</td>\n",
       "      <td>22.004501</td>\n",
       "    </tr>\n",
       "    <tr>\n",
       "      <th>2</th>\n",
       "      <td>surf</td>\n",
       "      <td>3</td>\n",
       "      <td>27.539700</td>\n",
       "    </tr>\n",
       "    <tr>\n",
       "      <th>3</th>\n",
       "      <td>surf</td>\n",
       "      <td>4</td>\n",
       "      <td>30.320931</td>\n",
       "    </tr>\n",
       "    <tr>\n",
       "      <th>4</th>\n",
       "      <td>surf</td>\n",
       "      <td>5</td>\n",
       "      <td>38.042915</td>\n",
       "    </tr>\n",
       "    <tr>\n",
       "      <th>5</th>\n",
       "      <td>surf</td>\n",
       "      <td>6</td>\n",
       "      <td>41.009491</td>\n",
       "    </tr>\n",
       "    <tr>\n",
       "      <th>6</th>\n",
       "      <td>surf</td>\n",
       "      <td>7</td>\n",
       "      <td>53.541000</td>\n",
       "    </tr>\n",
       "    <tr>\n",
       "      <th>7</th>\n",
       "      <td>surf</td>\n",
       "      <td>8</td>\n",
       "      <td>58.131676</td>\n",
       "    </tr>\n",
       "    <tr>\n",
       "      <th>8</th>\n",
       "      <td>surf</td>\n",
       "      <td>9</td>\n",
       "      <td>53.777438</td>\n",
       "    </tr>\n",
       "    <tr>\n",
       "      <th>9</th>\n",
       "      <td>surf</td>\n",
       "      <td>10</td>\n",
       "      <td>62.072098</td>\n",
       "    </tr>\n",
       "    <tr>\n",
       "      <th>10</th>\n",
       "      <td>surf</td>\n",
       "      <td>11</td>\n",
       "      <td>56.575754</td>\n",
       "    </tr>\n",
       "    <tr>\n",
       "      <th>11</th>\n",
       "      <td>surf</td>\n",
       "      <td>12</td>\n",
       "      <td>68.886066</td>\n",
       "    </tr>\n",
       "    <tr>\n",
       "      <th>12</th>\n",
       "      <td>ultimate</td>\n",
       "      <td>1</td>\n",
       "      <td>70.000000</td>\n",
       "    </tr>\n",
       "    <tr>\n",
       "      <th>13</th>\n",
       "      <td>ultimate</td>\n",
       "      <td>2</td>\n",
       "      <td>70.000000</td>\n",
       "    </tr>\n",
       "    <tr>\n",
       "      <th>14</th>\n",
       "      <td>ultimate</td>\n",
       "      <td>3</td>\n",
       "      <td>71.750000</td>\n",
       "    </tr>\n",
       "    <tr>\n",
       "      <th>15</th>\n",
       "      <td>ultimate</td>\n",
       "      <td>4</td>\n",
       "      <td>71.750000</td>\n",
       "    </tr>\n",
       "    <tr>\n",
       "      <th>16</th>\n",
       "      <td>ultimate</td>\n",
       "      <td>5</td>\n",
       "      <td>70.466667</td>\n",
       "    </tr>\n",
       "    <tr>\n",
       "      <th>17</th>\n",
       "      <td>ultimate</td>\n",
       "      <td>6</td>\n",
       "      <td>71.241935</td>\n",
       "    </tr>\n",
       "    <tr>\n",
       "      <th>18</th>\n",
       "      <td>ultimate</td>\n",
       "      <td>7</td>\n",
       "      <td>71.652778</td>\n",
       "    </tr>\n",
       "    <tr>\n",
       "      <th>19</th>\n",
       "      <td>ultimate</td>\n",
       "      <td>8</td>\n",
       "      <td>72.506173</td>\n",
       "    </tr>\n",
       "    <tr>\n",
       "      <th>20</th>\n",
       "      <td>ultimate</td>\n",
       "      <td>9</td>\n",
       "      <td>71.842105</td>\n",
       "    </tr>\n",
       "    <tr>\n",
       "      <th>21</th>\n",
       "      <td>ultimate</td>\n",
       "      <td>10</td>\n",
       "      <td>72.149123</td>\n",
       "    </tr>\n",
       "    <tr>\n",
       "      <th>22</th>\n",
       "      <td>ultimate</td>\n",
       "      <td>11</td>\n",
       "      <td>71.804688</td>\n",
       "    </tr>\n",
       "    <tr>\n",
       "      <th>23</th>\n",
       "      <td>ultimate</td>\n",
       "      <td>12</td>\n",
       "      <td>73.147651</td>\n",
       "    </tr>\n",
       "  </tbody>\n",
       "</table>\n",
       "</div>"
      ],
      "text/plain": [
       "        plan  month    revenue\n",
       "0       surf      1  20.000000\n",
       "1       surf      2  22.004501\n",
       "2       surf      3  27.539700\n",
       "3       surf      4  30.320931\n",
       "4       surf      5  38.042915\n",
       "5       surf      6  41.009491\n",
       "6       surf      7  53.541000\n",
       "7       surf      8  58.131676\n",
       "8       surf      9  53.777438\n",
       "9       surf     10  62.072098\n",
       "10      surf     11  56.575754\n",
       "11      surf     12  68.886066\n",
       "12  ultimate      1  70.000000\n",
       "13  ultimate      2  70.000000\n",
       "14  ultimate      3  71.750000\n",
       "15  ultimate      4  71.750000\n",
       "16  ultimate      5  70.466667\n",
       "17  ultimate      6  71.241935\n",
       "18  ultimate      7  71.652778\n",
       "19  ultimate      8  72.506173\n",
       "20  ultimate      9  71.842105\n",
       "21  ultimate     10  72.149123\n",
       "22  ultimate     11  71.804688\n",
       "23  ultimate     12  73.147651"
      ]
     },
     "execution_count": 294,
     "metadata": {},
     "output_type": "execute_result"
    }
   ],
   "source": [
    "# Comparing the average revenue of each plan for each different month.\n",
    "\n",
    "df_planmonth_byrevenue = df.groupby(['plan', 'month'])['revenue'].mean().reset_index()\n",
    "\n",
    "df_planmonth_byrevenue"
   ]
  },
  {
   "cell_type": "code",
   "execution_count": 295,
   "metadata": {},
   "outputs": [
    {
     "data": {
      "image/png": "[encoded data removed]",
      "text/plain": [
       "<Figure size 432x288 with 1 Axes>"
      ]
     },
     "metadata": {
      "needs_background": "light"
     },
     "output_type": "display_data"
    }
   ],
   "source": [
    "# Making a bar chart to visualize it.\n",
    "fig, ax = plt.subplots()\n",
    "for plan in df_planmonth_byrevenue['plan'].unique()[::-1]:\n",
    "     ax.bar(df_planmonth_byrevenue.loc[df_planmonth_byrevenue['plan'] == plan, 'month'],\n",
    "            df_planmonth_byrevenue.loc[df_planmonth_byrevenue['plan'] == plan, 'revenue'],\n",
    "            label=plan)\n",
    "\n",
    "ax.set_xlabel('Month')\n",
    "ax.set_ylabel('Average Revenue')\n",
    "ax.legend()\n",
    "plt.show()"
   ]
  },
  {
   "cell_type": "markdown",
   "metadata": {},
   "source": [
    "With this bar graph, it is evident that *ultimate* plan customers had, on average, a more homogeneous annual cost than those of the *surf* plan, with a greater difference in the months of January and February. As the year went on, *surf* customers appeared to have increased their spending."
   ]
  },
  {
   "cell_type": "code",
   "execution_count": 296,
   "metadata": {},
   "outputs": [
    {
     "data": {
      "text/plain": [
       "month\n",
       "1     20.000000\n",
       "2     22.004501\n",
       "3     27.539700\n",
       "4     30.320931\n",
       "5     38.042915\n",
       "6     41.009491\n",
       "7     53.541000\n",
       "8     58.131676\n",
       "9     53.777438\n",
       "10    62.072098\n",
       "11    56.575754\n",
       "12    68.886066\n",
       "Name: revenue, dtype: float64"
      ]
     },
     "execution_count": 296,
     "metadata": {},
     "output_type": "execute_result"
    }
   ],
   "source": [
    "# Comparing the income that 'surf' users have each month.\n",
    "\n",
    "df_surf = df[df['plan']== 'surf']\n",
    "df_surf_revenuemean = df_surf.groupby('month')['revenue'].mean()\n",
    "df_surf_revenuemean"
   ]
  },
  {
   "cell_type": "code",
   "execution_count": 297,
   "metadata": {},
   "outputs": [
    {
     "data": {
      "image/png": "[encoded data removed]",
      "text/plain": [
       "<Figure size 432x288 with 1 Axes>"
      ]
     },
     "metadata": {
      "needs_background": "light"
     },
     "output_type": "display_data"
    }
   ],
   "source": [
    "# Creating a histogram for monthly revenue in the 'surf' plan\n",
    "\n",
    "plt.hist(df_surf['revenue'], bins=20)\n",
    "plt.xlabel('total revenue')\n",
    "plt.ylabel('frequency')\n",
    "plt.show()"
   ]
  },
  {
   "cell_type": "code",
   "execution_count": 298,
   "metadata": {
    "scrolled": true
   },
   "outputs": [
    {
     "data": {
      "text/plain": [
       "month\n",
       "1     70.000000\n",
       "2     70.000000\n",
       "3     71.750000\n",
       "4     71.750000\n",
       "5     70.466667\n",
       "6     71.241935\n",
       "7     71.652778\n",
       "8     72.506173\n",
       "9     71.842105\n",
       "10    72.149123\n",
       "11    71.804688\n",
       "12    73.147651\n",
       "Name: revenue, dtype: float64"
      ]
     },
     "execution_count": 298,
     "metadata": {},
     "output_type": "execute_result"
    }
   ],
   "source": [
    "# Comparing the revenue 'ultimate' users have each month.\n",
    "\n",
    "df_ultimate = df[df['plan']== 'ultimate']\n",
    "df_ultimate_revenuemean = df_ultimate.groupby('month')['revenue'].mean()\n",
    "df_ultimate_revenuemean"
   ]
  },
  {
   "cell_type": "code",
   "execution_count": 299,
   "metadata": {},
   "outputs": [
    {
     "data": {
      "image/png": "[encoded data removed]",
      "text/plain": [
       "<Figure size 432x288 with 1 Axes>"
      ]
     },
     "metadata": {
      "needs_background": "light"
     },
     "output_type": "display_data"
    }
   ],
   "source": [
    "# Creating a histogram for the 'ultimate' plan revenue\n",
    "\n",
    "plt.hist(df_ultimate['revenue'], bins=20)\n",
    "plt.xlabel('total revenue')\n",
    "plt.ylabel('frequency')\n",
    "plt.show()"
   ]
  },
  {
   "cell_type": "markdown",
   "metadata": {},
   "source": [
    "Despite the average number of *surf* messages being lower, it seems that we have some outliers that reach over 500 dollars, while *ultimate*, which is already more expensive and offers more product, has few outliers, which are no more than a maximum of 200 dollars."
   ]
  },
  {
   "cell_type": "markdown",
   "metadata": {},
   "source": [
    "Let's now calculate the **mean**, the **variance** and the **standard deviation** of the revenue to reason whether users of the different plans have different behaviors in relation to this revenue."
   ]
  },
  {
   "cell_type": "markdown",
   "metadata": {},
   "source": [
    "**Average revenue**"
   ]
  },
  {
   "cell_type": "code",
   "execution_count": 300,
   "metadata": {},
   "outputs": [],
   "source": [
    "df_surf_revenuemean = df_surf['revenue'].mean()"
   ]
  },
  {
   "cell_type": "code",
   "execution_count": 301,
   "metadata": {},
   "outputs": [],
   "source": [
    "df_ultimate_revenuemean = df_ultimate['revenue'].mean()"
   ]
  },
  {
   "cell_type": "code",
   "execution_count": 302,
   "metadata": {},
   "outputs": [
    {
     "name": "stdout",
     "output_type": "stream",
     "text": [
      "The average monthly revenue in the Surf plan is 51.698455403348554 and in the Ultimate plan is 71.904\n"
     ]
    }
   ],
   "source": [
    "# Calculating the average monthly length of messages.\n",
    "\n",
    "print('The average monthly revenue in the Surf plan is ' + str(df_surf_revenuemean) + ' and in the Ultimate plan is ' + str(df_ultimate_revenuemean))"
   ]
  },
  {
   "cell_type": "markdown",
   "metadata": {},
   "source": [
    "**Variation of the revenue**"
   ]
  },
  {
   "cell_type": "code",
   "execution_count": 303,
   "metadata": {},
   "outputs": [],
   "source": [
    "df_surf_revenue_variance = np.var(df_surf['revenue'])"
   ]
  },
  {
   "cell_type": "code",
   "execution_count": 304,
   "metadata": {},
   "outputs": [],
   "source": [
    "df_ultimate_revenue_variance = np.var(df_ultimate['revenue'])"
   ]
  },
  {
   "cell_type": "code",
   "execution_count": 305,
   "metadata": {},
   "outputs": [
    {
     "name": "stdout",
     "output_type": "stream",
     "text": [
      "Monthly revenue variance in Surf plan is 2604.2211737995485 and in Ultimate plan is 111.39878400000002\n"
     ]
    }
   ],
   "source": [
    "# Calculating the variance in monthly revenue.\n",
    "\n",
    "print('Monthly revenue variance in Surf plan is ' + str(df_surf_revenue_variance) + ' and in Ultimate plan is ' + str(df_ultimate_revenue_variance))"
   ]
  },
  {
   "cell_type": "markdown",
   "metadata": {},
   "source": [
    "**Revenue standard deviation**"
   ]
  },
  {
   "cell_type": "code",
   "execution_count": 306,
   "metadata": {},
   "outputs": [],
   "source": [
    "df_surf_revenue_std = np.sqrt(df_surf_revenue_variance)"
   ]
  },
  {
   "cell_type": "code",
   "execution_count": 307,
   "metadata": {},
   "outputs": [],
   "source": [
    "df_ultimate_revenue_std = np.sqrt(df_ultimate_revenue_variance)"
   ]
  },
  {
   "cell_type": "code",
   "execution_count": 308,
   "metadata": {},
   "outputs": [
    {
     "name": "stdout",
     "output_type": "stream",
     "text": [
      "The monthly standard deviation in revenue on the Surf plan is 51.031570363839954 and on the Ultimate plan is 10.554562236303314\n"
     ]
    }
   ],
   "source": [
    "# Calculating the standard deviation of monthly revenue.\n",
    "\n",
    "print('The monthly standard deviation in revenue on the Surf plan is ' + str(df_surf_revenue_std) + ' and on the Ultimate plan is ' + str(df_ultimate_revenue_std))"
   ]
  },
  {
   "cell_type": "markdown",
   "metadata": {},
   "source": [
    "That is, there really isn't much variation between the expenses of Ultimate plan customers."
   ]
  },
  {
   "cell_type": "markdown",
   "metadata": {},
   "source": [
    "**Revenue Box Diagram**"
   ]
  },
  {
   "cell_type": "code",
   "execution_count": 309,
   "metadata": {},
   "outputs": [
    {
     "data": {
      "image/png": "[encoded data removed]",
      "text/plain": [
       "<Figure size 432x288 with 2 Axes>"
      ]
     },
     "metadata": {
      "needs_background": "light"
     },
     "output_type": "display_data"
    }
   ],
   "source": [
    "# Making a box plot to visualize the revenue distribution.\n",
    "\n",
    "fig, axes = plt.subplots(nrows=1, ncols=2)\n",
    "\n",
    "df_surf.boxplot(column='revenue', ax=axes[0])\n",
    "axes[0].set_title('Surf Plan')\n",
    "\n",
    "df_ultimate.boxplot(column='revenue', ax=axes[1])\n",
    "axes[1].set_title('Ultimate Plan')\n",
    "\n",
    "plt.show()"
   ]
  },
  {
   "cell_type": "code",
   "execution_count": 310,
   "metadata": {},
   "outputs": [
    {
     "data": {
      "text/plain": [
       "70.0"
      ]
     },
     "execution_count": 310,
     "metadata": {},
     "output_type": "execute_result"
    }
   ],
   "source": [
    "# Checking the most expressive maximum value of most revenue data in the Surf plan\n",
    "\n",
    "df_surf['revenue'].quantile(0.75)"
   ]
  },
  {
   "cell_type": "markdown",
   "metadata": {},
   "source": [
    "At least 25% of customers who pay for the *Surf* plan could be paying for the *Ultimate* plan to get more benefits."
   ]
  },
  {
   "cell_type": "code",
   "execution_count": 311,
   "metadata": {},
   "outputs": [
    {
     "data": {
      "text/plain": [
       "70.0"
      ]
     },
     "execution_count": 311,
     "metadata": {},
     "output_type": "execute_result"
    }
   ],
   "source": [
    "# Checking the maximum value of most revenue data in the Ultimate plan\n",
    "\n",
    "df_ultimate['revenue'].quantile(0.75)"
   ]
  },
  {
   "cell_type": "markdown",
   "metadata": {},
   "source": [
    "This is the best evidence that only 25% exceeded the amount already planned. These customers who already accept to pay more at the beginning seem to be more controlled."
   ]
  },
  {
   "cell_type": "code",
   "execution_count": 312,
   "metadata": {},
   "outputs": [
    {
     "data": {
      "text/plain": [
       "1101"
      ]
     },
     "execution_count": 312,
     "metadata": {},
     "output_type": "execute_result"
    }
   ],
   "source": [
    "# How many rows represent Surf plan customers who have exceeded the $20 monthly limit\n",
    "\n",
    "len(df_surf.query('revenue > 20'))"
   ]
  },
  {
   "cell_type": "code",
   "execution_count": 313,
   "metadata": {},
   "outputs": [
    {
     "data": {
      "text/plain": [
       "40"
      ]
     },
     "execution_count": 313,
     "metadata": {},
     "output_type": "execute_result"
    }
   ],
   "source": [
    "# How many rows represent customers on the Ultimate plan who have passed the $70 monthly limit\n",
    "\n",
    "len(df_ultimate.query('revenue > 70'))"
   ]
  },
  {
   "cell_type": "markdown",
   "metadata": {},
   "source": [
    "Undoubtedly, Ultimate Plan customers are more controlled. As a summary, the fact that they do not exceed the monthly limits of the package, they end up not having to worry about extra expenses.\n",
    "\n",
    "We can see that more than half of the Surf Plan customers (1101) exceeded their limit of 20 dollars, while for the Ultimate Plan only 40 spent more than they proposed to pay.\n",
    "\n",
    "Analyzing data is really important to create strategies like these in which most customers consider paying little initially and then end up spending more than those who have already planned a higher cost."
   ]
  },
  {
   "cell_type": "markdown",
   "metadata": {},
   "source": [
    " "
   ]
  },
  {
   "cell_type": "markdown",
   "metadata": {},
   "source": [
    "# Testing statistical hypotheses"
   ]
  },
  {
   "cell_type": "markdown",
   "metadata": {},
   "source": [
    "Testing the hypothesis that the average revenue of Ultimate and Surf calling plan users is different."
   ]
  },
  {
   "cell_type": "code",
   "execution_count": 314,
   "metadata": {},
   "outputs": [
    {
     "name": "stdout",
     "output_type": "stream",
     "text": [
      "p-value: 9.393451574104805e-60\n",
      "We reject the null hypothesis\n"
     ]
    }
   ],
   "source": [
    "# Testing the hypotheses\n",
    "\n",
    "# Null hypothesis = plan revenue is equal\n",
    "# H1 = plans revenue is different\n",
    "\n",
    "surf_revenue = df_surf['revenue']\n",
    "ultimate_revenue = df_ultimate['revenue']\n",
    "\n",
    "alpha=0.05\n",
    "\n",
    "results= st.ttest_ind(surf_revenue, ultimate_revenue, equal_var=False)\n",
    "\n",
    "print('p-value:', results.pvalue)\n",
    "\n",
    "if results.pvalue < alpha:\n",
    "     print(\"We reject the null hypothesis\")\n",
    "else:\n",
    "     print(\"We cannot reject the null hypothesis\")"
   ]
  },
  {
   "cell_type": "markdown",
   "metadata": {},
   "source": [
    "Testing the hypothesis that the average income of users in the NY-NJ area differs from users in other regions."
   ]
  },
  {
   "cell_type": "code",
   "execution_count": 315,
   "metadata": {},
   "outputs": [
    {
     "data": {
      "text/html": [
       "<div>\n",
       "<style scoped>\n",
       "    .dataframe tbody tr th:only-of-type {\n",
       "        vertical-align: middle;\n",
       "    }\n",
       "\n",
       "    .dataframe tbody tr th {\n",
       "        vertical-align: top;\n",
       "    }\n",
       "\n",
       "    .dataframe thead th {\n",
       "        text-align: right;\n",
       "    }\n",
       "</style>\n",
       "<table border=\"1\" class=\"dataframe\">\n",
       "  <thead>\n",
       "    <tr style=\"text-align: right;\">\n",
       "      <th></th>\n",
       "      <th>user_id</th>\n",
       "      <th>month</th>\n",
       "      <th>call_id</th>\n",
       "      <th>duration</th>\n",
       "      <th>msg_id</th>\n",
       "      <th>mb_used</th>\n",
       "      <th>gb_used</th>\n",
       "      <th>city</th>\n",
       "      <th>plan</th>\n",
       "      <th>active</th>\n",
       "      <th>extra_min</th>\n",
       "      <th>extra_msgs</th>\n",
       "      <th>extra_gb</th>\n",
       "      <th>revenue</th>\n",
       "    </tr>\n",
       "  </thead>\n",
       "  <tbody>\n",
       "    <tr>\n",
       "      <th>73</th>\n",
       "      <td>1014</td>\n",
       "      <td>11</td>\n",
       "      <td>23</td>\n",
       "      <td>149.33</td>\n",
       "      <td>9.0</td>\n",
       "      <td>1175.59</td>\n",
       "      <td>2</td>\n",
       "      <td>New York-Newark-Jersey City, NY-NJ-PA MSA</td>\n",
       "      <td>surf</td>\n",
       "      <td>1</td>\n",
       "      <td>0.00</td>\n",
       "      <td>0.0</td>\n",
       "      <td>0</td>\n",
       "      <td>20.0000</td>\n",
       "    </tr>\n",
       "    <tr>\n",
       "      <th>74</th>\n",
       "      <td>1014</td>\n",
       "      <td>12</td>\n",
       "      <td>125</td>\n",
       "      <td>1050.62</td>\n",
       "      <td>64.0</td>\n",
       "      <td>7792.41</td>\n",
       "      <td>8</td>\n",
       "      <td>New York-Newark-Jersey City, NY-NJ-PA MSA</td>\n",
       "      <td>surf</td>\n",
       "      <td>1</td>\n",
       "      <td>550.62</td>\n",
       "      <td>14.0</td>\n",
       "      <td>0</td>\n",
       "      <td>36.9386</td>\n",
       "    </tr>\n",
       "    <tr>\n",
       "      <th>103</th>\n",
       "      <td>1022</td>\n",
       "      <td>1</td>\n",
       "      <td>0</td>\n",
       "      <td>0.00</td>\n",
       "      <td>0.0</td>\n",
       "      <td>0.00</td>\n",
       "      <td>0</td>\n",
       "      <td>New York-Newark-Jersey City, NY-NJ-PA MSA</td>\n",
       "      <td>surf</td>\n",
       "      <td>0</td>\n",
       "      <td>0.00</td>\n",
       "      <td>0.0</td>\n",
       "      <td>0</td>\n",
       "      <td>20.0000</td>\n",
       "    </tr>\n",
       "    <tr>\n",
       "      <th>104</th>\n",
       "      <td>1022</td>\n",
       "      <td>2</td>\n",
       "      <td>0</td>\n",
       "      <td>0.00</td>\n",
       "      <td>0.0</td>\n",
       "      <td>0.00</td>\n",
       "      <td>0</td>\n",
       "      <td>New York-Newark-Jersey City, NY-NJ-PA MSA</td>\n",
       "      <td>surf</td>\n",
       "      <td>0</td>\n",
       "      <td>0.00</td>\n",
       "      <td>0.0</td>\n",
       "      <td>0</td>\n",
       "      <td>20.0000</td>\n",
       "    </tr>\n",
       "    <tr>\n",
       "      <th>105</th>\n",
       "      <td>1022</td>\n",
       "      <td>3</td>\n",
       "      <td>0</td>\n",
       "      <td>0.00</td>\n",
       "      <td>0.0</td>\n",
       "      <td>0.00</td>\n",
       "      <td>0</td>\n",
       "      <td>New York-Newark-Jersey City, NY-NJ-PA MSA</td>\n",
       "      <td>surf</td>\n",
       "      <td>0</td>\n",
       "      <td>0.00</td>\n",
       "      <td>0.0</td>\n",
       "      <td>0</td>\n",
       "      <td>20.0000</td>\n",
       "    </tr>\n",
       "    <tr>\n",
       "      <th>...</th>\n",
       "      <td>...</td>\n",
       "      <td>...</td>\n",
       "      <td>...</td>\n",
       "      <td>...</td>\n",
       "      <td>...</td>\n",
       "      <td>...</td>\n",
       "      <td>...</td>\n",
       "      <td>...</td>\n",
       "      <td>...</td>\n",
       "      <td>...</td>\n",
       "      <td>...</td>\n",
       "      <td>...</td>\n",
       "      <td>...</td>\n",
       "      <td>...</td>\n",
       "    </tr>\n",
       "    <tr>\n",
       "      <th>2829</th>\n",
       "      <td>1498</td>\n",
       "      <td>8</td>\n",
       "      <td>37</td>\n",
       "      <td>244.57</td>\n",
       "      <td>0.0</td>\n",
       "      <td>20261.89</td>\n",
       "      <td>21</td>\n",
       "      <td>New York-Newark-Jersey City, NY-NJ-PA MSA</td>\n",
       "      <td>surf</td>\n",
       "      <td>1</td>\n",
       "      <td>0.00</td>\n",
       "      <td>0.0</td>\n",
       "      <td>5</td>\n",
       "      <td>70.0000</td>\n",
       "    </tr>\n",
       "    <tr>\n",
       "      <th>2830</th>\n",
       "      <td>1498</td>\n",
       "      <td>9</td>\n",
       "      <td>39</td>\n",
       "      <td>344.62</td>\n",
       "      <td>0.0</td>\n",
       "      <td>22827.28</td>\n",
       "      <td>23</td>\n",
       "      <td>New York-Newark-Jersey City, NY-NJ-PA MSA</td>\n",
       "      <td>surf</td>\n",
       "      <td>1</td>\n",
       "      <td>0.00</td>\n",
       "      <td>0.0</td>\n",
       "      <td>8</td>\n",
       "      <td>100.0000</td>\n",
       "    </tr>\n",
       "    <tr>\n",
       "      <th>2831</th>\n",
       "      <td>1498</td>\n",
       "      <td>10</td>\n",
       "      <td>37</td>\n",
       "      <td>278.06</td>\n",
       "      <td>0.0</td>\n",
       "      <td>20580.76</td>\n",
       "      <td>21</td>\n",
       "      <td>New York-Newark-Jersey City, NY-NJ-PA MSA</td>\n",
       "      <td>surf</td>\n",
       "      <td>1</td>\n",
       "      <td>0.00</td>\n",
       "      <td>0.0</td>\n",
       "      <td>6</td>\n",
       "      <td>80.0000</td>\n",
       "    </tr>\n",
       "    <tr>\n",
       "      <th>2832</th>\n",
       "      <td>1498</td>\n",
       "      <td>11</td>\n",
       "      <td>29</td>\n",
       "      <td>208.99</td>\n",
       "      <td>0.0</td>\n",
       "      <td>19168.55</td>\n",
       "      <td>20</td>\n",
       "      <td>New York-Newark-Jersey City, NY-NJ-PA MSA</td>\n",
       "      <td>surf</td>\n",
       "      <td>1</td>\n",
       "      <td>0.00</td>\n",
       "      <td>0.0</td>\n",
       "      <td>4</td>\n",
       "      <td>60.0000</td>\n",
       "    </tr>\n",
       "    <tr>\n",
       "      <th>2833</th>\n",
       "      <td>1498</td>\n",
       "      <td>12</td>\n",
       "      <td>32</td>\n",
       "      <td>324.77</td>\n",
       "      <td>0.0</td>\n",
       "      <td>23137.69</td>\n",
       "      <td>24</td>\n",
       "      <td>New York-Newark-Jersey City, NY-NJ-PA MSA</td>\n",
       "      <td>surf</td>\n",
       "      <td>1</td>\n",
       "      <td>0.00</td>\n",
       "      <td>0.0</td>\n",
       "      <td>8</td>\n",
       "      <td>100.0000</td>\n",
       "    </tr>\n",
       "  </tbody>\n",
       "</table>\n",
       "<p>451 rows × 14 columns</p>\n",
       "</div>"
      ],
      "text/plain": [
       "      user_id  month  call_id  duration  msg_id   mb_used  gb_used  \\\n",
       "73       1014     11       23    149.33     9.0   1175.59        2   \n",
       "74       1014     12      125   1050.62    64.0   7792.41        8   \n",
       "103      1022      1        0      0.00     0.0      0.00        0   \n",
       "104      1022      2        0      0.00     0.0      0.00        0   \n",
       "105      1022      3        0      0.00     0.0      0.00        0   \n",
       "...       ...    ...      ...       ...     ...       ...      ...   \n",
       "2829     1498      8       37    244.57     0.0  20261.89       21   \n",
       "2830     1498      9       39    344.62     0.0  22827.28       23   \n",
       "2831     1498     10       37    278.06     0.0  20580.76       21   \n",
       "2832     1498     11       29    208.99     0.0  19168.55       20   \n",
       "2833     1498     12       32    324.77     0.0  23137.69       24   \n",
       "\n",
       "                                           city  plan  active  extra_min  \\\n",
       "73    New York-Newark-Jersey City, NY-NJ-PA MSA  surf       1       0.00   \n",
       "74    New York-Newark-Jersey City, NY-NJ-PA MSA  surf       1     550.62   \n",
       "103   New York-Newark-Jersey City, NY-NJ-PA MSA  surf       0       0.00   \n",
       "104   New York-Newark-Jersey City, NY-NJ-PA MSA  surf       0       0.00   \n",
       "105   New York-Newark-Jersey City, NY-NJ-PA MSA  surf       0       0.00   \n",
       "...                                         ...   ...     ...        ...   \n",
       "2829  New York-Newark-Jersey City, NY-NJ-PA MSA  surf       1       0.00   \n",
       "2830  New York-Newark-Jersey City, NY-NJ-PA MSA  surf       1       0.00   \n",
       "2831  New York-Newark-Jersey City, NY-NJ-PA MSA  surf       1       0.00   \n",
       "2832  New York-Newark-Jersey City, NY-NJ-PA MSA  surf       1       0.00   \n",
       "2833  New York-Newark-Jersey City, NY-NJ-PA MSA  surf       1       0.00   \n",
       "\n",
       "      extra_msgs  extra_gb   revenue  \n",
       "73           0.0         0   20.0000  \n",
       "74          14.0         0   36.9386  \n",
       "103          0.0         0   20.0000  \n",
       "104          0.0         0   20.0000  \n",
       "105          0.0         0   20.0000  \n",
       "...          ...       ...       ...  \n",
       "2829         0.0         5   70.0000  \n",
       "2830         0.0         8  100.0000  \n",
       "2831         0.0         6   80.0000  \n",
       "2832         0.0         4   60.0000  \n",
       "2833         0.0         8  100.0000  \n",
       "\n",
       "[451 rows x 14 columns]"
      ]
     },
     "execution_count": 315,
     "metadata": {},
     "output_type": "execute_result"
    }
   ],
   "source": [
    "# Filtering a Dataframe which only considers customers from the NY-NJ region\n",
    "\n",
    "ny_revenue = df.query('city == \"New York-Newark-Jersey City, NY-NJ-PA MSA\"')\n",
    "ny_revenue"
   ]
  },
  {
   "cell_type": "markdown",
   "metadata": {},
   "source": [
    "We have 451 rows of customer data from the New York area."
   ]
  },
  {
   "cell_type": "code",
   "execution_count": 316,
   "metadata": {},
   "outputs": [
    {
     "data": {
      "text/html": [
       "<div>\n",
       "<style scoped>\n",
       "    .dataframe tbody tr th:only-of-type {\n",
       "        vertical-align: middle;\n",
       "    }\n",
       "\n",
       "    .dataframe tbody tr th {\n",
       "        vertical-align: top;\n",
       "    }\n",
       "\n",
       "    .dataframe thead th {\n",
       "        text-align: right;\n",
       "    }\n",
       "</style>\n",
       "<table border=\"1\" class=\"dataframe\">\n",
       "  <thead>\n",
       "    <tr style=\"text-align: right;\">\n",
       "      <th></th>\n",
       "      <th>user_id</th>\n",
       "      <th>month</th>\n",
       "      <th>call_id</th>\n",
       "      <th>duration</th>\n",
       "      <th>msg_id</th>\n",
       "      <th>mb_used</th>\n",
       "      <th>gb_used</th>\n",
       "      <th>city</th>\n",
       "      <th>plan</th>\n",
       "      <th>active</th>\n",
       "      <th>extra_min</th>\n",
       "      <th>extra_msgs</th>\n",
       "      <th>extra_gb</th>\n",
       "      <th>revenue</th>\n",
       "    </tr>\n",
       "  </thead>\n",
       "  <tbody>\n",
       "    <tr>\n",
       "      <th>0</th>\n",
       "      <td>1000</td>\n",
       "      <td>12</td>\n",
       "      <td>16</td>\n",
       "      <td>116.83</td>\n",
       "      <td>11.0</td>\n",
       "      <td>1901.47</td>\n",
       "      <td>2</td>\n",
       "      <td>Atlanta-Sandy Springs-Roswell, GA MSA</td>\n",
       "      <td>ultimate</td>\n",
       "      <td>1</td>\n",
       "      <td>0.0</td>\n",
       "      <td>0.0</td>\n",
       "      <td>0</td>\n",
       "      <td>70.00</td>\n",
       "    </tr>\n",
       "    <tr>\n",
       "      <th>1</th>\n",
       "      <td>1001</td>\n",
       "      <td>8</td>\n",
       "      <td>22</td>\n",
       "      <td>171.14</td>\n",
       "      <td>30.0</td>\n",
       "      <td>6919.15</td>\n",
       "      <td>7</td>\n",
       "      <td>Seattle-Tacoma-Bellevue, WA MSA</td>\n",
       "      <td>surf</td>\n",
       "      <td>1</td>\n",
       "      <td>0.0</td>\n",
       "      <td>0.0</td>\n",
       "      <td>0</td>\n",
       "      <td>20.00</td>\n",
       "    </tr>\n",
       "    <tr>\n",
       "      <th>2</th>\n",
       "      <td>1001</td>\n",
       "      <td>9</td>\n",
       "      <td>38</td>\n",
       "      <td>297.69</td>\n",
       "      <td>44.0</td>\n",
       "      <td>13314.82</td>\n",
       "      <td>14</td>\n",
       "      <td>Seattle-Tacoma-Bellevue, WA MSA</td>\n",
       "      <td>surf</td>\n",
       "      <td>1</td>\n",
       "      <td>0.0</td>\n",
       "      <td>0.0</td>\n",
       "      <td>0</td>\n",
       "      <td>20.00</td>\n",
       "    </tr>\n",
       "    <tr>\n",
       "      <th>3</th>\n",
       "      <td>1001</td>\n",
       "      <td>10</td>\n",
       "      <td>47</td>\n",
       "      <td>374.11</td>\n",
       "      <td>53.0</td>\n",
       "      <td>22330.49</td>\n",
       "      <td>23</td>\n",
       "      <td>Seattle-Tacoma-Bellevue, WA MSA</td>\n",
       "      <td>surf</td>\n",
       "      <td>1</td>\n",
       "      <td>0.0</td>\n",
       "      <td>3.0</td>\n",
       "      <td>7</td>\n",
       "      <td>90.09</td>\n",
       "    </tr>\n",
       "    <tr>\n",
       "      <th>4</th>\n",
       "      <td>1001</td>\n",
       "      <td>11</td>\n",
       "      <td>49</td>\n",
       "      <td>404.59</td>\n",
       "      <td>36.0</td>\n",
       "      <td>18504.30</td>\n",
       "      <td>19</td>\n",
       "      <td>Seattle-Tacoma-Bellevue, WA MSA</td>\n",
       "      <td>surf</td>\n",
       "      <td>1</td>\n",
       "      <td>0.0</td>\n",
       "      <td>0.0</td>\n",
       "      <td>4</td>\n",
       "      <td>60.00</td>\n",
       "    </tr>\n",
       "    <tr>\n",
       "      <th>...</th>\n",
       "      <td>...</td>\n",
       "      <td>...</td>\n",
       "      <td>...</td>\n",
       "      <td>...</td>\n",
       "      <td>...</td>\n",
       "      <td>...</td>\n",
       "      <td>...</td>\n",
       "      <td>...</td>\n",
       "      <td>...</td>\n",
       "      <td>...</td>\n",
       "      <td>...</td>\n",
       "      <td>...</td>\n",
       "      <td>...</td>\n",
       "      <td>...</td>\n",
       "    </tr>\n",
       "    <tr>\n",
       "      <th>2841</th>\n",
       "      <td>1499</td>\n",
       "      <td>8</td>\n",
       "      <td>0</td>\n",
       "      <td>0.00</td>\n",
       "      <td>0.0</td>\n",
       "      <td>0.00</td>\n",
       "      <td>0</td>\n",
       "      <td>Orlando-Kissimmee-Sanford, FL MSA</td>\n",
       "      <td>surf</td>\n",
       "      <td>1</td>\n",
       "      <td>0.0</td>\n",
       "      <td>0.0</td>\n",
       "      <td>0</td>\n",
       "      <td>20.00</td>\n",
       "    </tr>\n",
       "    <tr>\n",
       "      <th>2842</th>\n",
       "      <td>1499</td>\n",
       "      <td>9</td>\n",
       "      <td>35</td>\n",
       "      <td>330.37</td>\n",
       "      <td>0.0</td>\n",
       "      <td>12984.76</td>\n",
       "      <td>13</td>\n",
       "      <td>Orlando-Kissimmee-Sanford, FL MSA</td>\n",
       "      <td>surf</td>\n",
       "      <td>1</td>\n",
       "      <td>0.0</td>\n",
       "      <td>0.0</td>\n",
       "      <td>0</td>\n",
       "      <td>20.00</td>\n",
       "    </tr>\n",
       "    <tr>\n",
       "      <th>2843</th>\n",
       "      <td>1499</td>\n",
       "      <td>10</td>\n",
       "      <td>41</td>\n",
       "      <td>363.28</td>\n",
       "      <td>0.0</td>\n",
       "      <td>19492.43</td>\n",
       "      <td>20</td>\n",
       "      <td>Orlando-Kissimmee-Sanford, FL MSA</td>\n",
       "      <td>surf</td>\n",
       "      <td>1</td>\n",
       "      <td>0.0</td>\n",
       "      <td>0.0</td>\n",
       "      <td>5</td>\n",
       "      <td>70.00</td>\n",
       "    </tr>\n",
       "    <tr>\n",
       "      <th>2844</th>\n",
       "      <td>1499</td>\n",
       "      <td>11</td>\n",
       "      <td>39</td>\n",
       "      <td>288.56</td>\n",
       "      <td>0.0</td>\n",
       "      <td>16813.83</td>\n",
       "      <td>17</td>\n",
       "      <td>Orlando-Kissimmee-Sanford, FL MSA</td>\n",
       "      <td>surf</td>\n",
       "      <td>1</td>\n",
       "      <td>0.0</td>\n",
       "      <td>0.0</td>\n",
       "      <td>2</td>\n",
       "      <td>40.00</td>\n",
       "    </tr>\n",
       "    <tr>\n",
       "      <th>2845</th>\n",
       "      <td>1499</td>\n",
       "      <td>12</td>\n",
       "      <td>56</td>\n",
       "      <td>468.10</td>\n",
       "      <td>0.0</td>\n",
       "      <td>22059.21</td>\n",
       "      <td>23</td>\n",
       "      <td>Orlando-Kissimmee-Sanford, FL MSA</td>\n",
       "      <td>surf</td>\n",
       "      <td>1</td>\n",
       "      <td>0.0</td>\n",
       "      <td>0.0</td>\n",
       "      <td>7</td>\n",
       "      <td>90.00</td>\n",
       "    </tr>\n",
       "  </tbody>\n",
       "</table>\n",
       "<p>2395 rows × 14 columns</p>\n",
       "</div>"
      ],
      "text/plain": [
       "      user_id  month  call_id  duration  msg_id   mb_used  gb_used  \\\n",
       "0        1000     12       16    116.83    11.0   1901.47        2   \n",
       "1        1001      8       22    171.14    30.0   6919.15        7   \n",
       "2        1001      9       38    297.69    44.0  13314.82       14   \n",
       "3        1001     10       47    374.11    53.0  22330.49       23   \n",
       "4        1001     11       49    404.59    36.0  18504.30       19   \n",
       "...       ...    ...      ...       ...     ...       ...      ...   \n",
       "2841     1499      8        0      0.00     0.0      0.00        0   \n",
       "2842     1499      9       35    330.37     0.0  12984.76       13   \n",
       "2843     1499     10       41    363.28     0.0  19492.43       20   \n",
       "2844     1499     11       39    288.56     0.0  16813.83       17   \n",
       "2845     1499     12       56    468.10     0.0  22059.21       23   \n",
       "\n",
       "                                       city      plan  active  extra_min  \\\n",
       "0     Atlanta-Sandy Springs-Roswell, GA MSA  ultimate       1        0.0   \n",
       "1           Seattle-Tacoma-Bellevue, WA MSA      surf       1        0.0   \n",
       "2           Seattle-Tacoma-Bellevue, WA MSA      surf       1        0.0   \n",
       "3           Seattle-Tacoma-Bellevue, WA MSA      surf       1        0.0   \n",
       "4           Seattle-Tacoma-Bellevue, WA MSA      surf       1        0.0   \n",
       "...                                     ...       ...     ...        ...   \n",
       "2841      Orlando-Kissimmee-Sanford, FL MSA      surf       1        0.0   \n",
       "2842      Orlando-Kissimmee-Sanford, FL MSA      surf       1        0.0   \n",
       "2843      Orlando-Kissimmee-Sanford, FL MSA      surf       1        0.0   \n",
       "2844      Orlando-Kissimmee-Sanford, FL MSA      surf       1        0.0   \n",
       "2845      Orlando-Kissimmee-Sanford, FL MSA      surf       1        0.0   \n",
       "\n",
       "      extra_msgs  extra_gb  revenue  \n",
       "0            0.0         0    70.00  \n",
       "1            0.0         0    20.00  \n",
       "2            0.0         0    20.00  \n",
       "3            3.0         7    90.09  \n",
       "4            0.0         4    60.00  \n",
       "...          ...       ...      ...  \n",
       "2841         0.0         0    20.00  \n",
       "2842         0.0         0    20.00  \n",
       "2843         0.0         5    70.00  \n",
       "2844         0.0         2    40.00  \n",
       "2845         0.0         7    90.00  \n",
       "\n",
       "[2395 rows x 14 columns]"
      ]
     },
     "execution_count": 316,
     "metadata": {},
     "output_type": "execute_result"
    }
   ],
   "source": [
    "# Filtering a Dataframe in which to consider customers from regions other than NY-NJ\n",
    "\n",
    "otherregions_revenue = df.query('city != \"New York-Newark-Jersey City, NY-NJ-PA MSA\"')\n",
    "otherregions_revenue"
   ]
  },
  {
   "cell_type": "markdown",
   "metadata": {},
   "source": [
    "We have 2395 rows of customer data from other regions."
   ]
  },
  {
   "cell_type": "code",
   "execution_count": 317,
   "metadata": {},
   "outputs": [
    {
     "name": "stdout",
     "output_type": "stream",
     "text": [
      "New York data represents 18.83089770354906% of all collected regions.\n"
     ]
    }
   ],
   "source": [
    "# The percentage that New York customer data represents compared to customers in other regions\n",
    "\n",
    "ny_percentage = (len(ny_revenue) / len(otherregions_revenue)) * 100\n",
    "\n",
    "print('New York data represents ' + str(ny_percentage) + '% of all collected regions.')"
   ]
  },
  {
   "cell_type": "code",
   "execution_count": 318,
   "metadata": {},
   "outputs": [
    {
     "name": "stdout",
     "output_type": "stream",
     "text": [
      "p-value: 0.01254771533552921\n",
      "We reject the null hypothesis\n"
     ]
    }
   ],
   "source": [
    "# Testing the hypotheses\n",
    "\n",
    "# Null hypothesis = revenue of regions is equal\n",
    "# H1 = revenue of regions is different\n",
    "\n",
    "ny = ny_revenue['revenue']\n",
    "otherregions = otherregions_revenue['revenue']\n",
    "\n",
    "alpha=0.05\n",
    "\n",
    "results= st.ttest_ind(ny, otherregions, equal_var=False)\n",
    "\n",
    "print('p-value:', results.pvalue)\n",
    "\n",
    "if results.pvalue < alpha:\n",
    "     print(\"We reject the null hypothesis\")\n",
    "else:\n",
    "     print(\"We cannot reject the null hypothesis\")"
   ]
  },
  {
   "cell_type": "markdown",
   "metadata": {},
   "source": [
    "Apparently telephony costs among New York users are very different from customers in other regions. Could it be that because they are a metropolis they end up using the phone more frequently?\n",
    "\n",
    "This leads us to consider the great importance of carrying out analyzes also based on geographic differences."
   ]
  },
  {
   "cell_type": "markdown",
   "metadata": {},
   "source": [
    "# General Conclusion"
   ]
  },
  {
   "cell_type": "markdown",
   "metadata": {},
   "source": [
    " "
   ]
  },
  {
   "cell_type": "markdown",
   "metadata": {},
   "source": [
    "At the beginning of our data studies, by enriching the table with more columns, we could observe that, if a customer chooses to observe how much service he has available **for every dollar** he invests, we could see that:\n",
    "- as for what is **included** in the package, the **surf** plan is more advantageous for those who want **more internet** for every dollar invested while the **ultimate** plan offers more messages and minutes binding for every dollar.\n",
    "\n",
    "\n",
    "- if you reach the included limits, regarding **extra** payments, the most expensive package (ultimate) is the most advantageous because it offers more messages, more megabytes and more call minutes for each dollar.\n",
    "\n",
    "That is, in terms of the amount of service provided for every dollar invested, it is only worth paying for the cheapest plan for customers who prefer more mobile data (than calling and texting) **but** know that **no use more than 15gb** (15360mb)."
   ]
  },
  {
   "cell_type": "markdown",
   "metadata": {},
   "source": [
    "Of the **500** users analyzed in this study, according to `df_users`, only **481 made calls**.\n",
    "\n",
    "Perhaps the other 19 prefer only to communicate via the internet or by message."
   ]
  },
  {
   "cell_type": "markdown",
   "metadata": {},
   "source": [
    "Of the **500** users analyzed in this study, according to `df_users`, only **402 sent messages**.\n",
    "\n",
    "Perhaps the other 98 prefer only to communicate over the internet or over the phone.\n",
    "\n",
    "We had more customers making calls than sending SMS."
   ]
  },
  {
   "cell_type": "markdown",
   "metadata": {},
   "source": [
    "Within this sample of **500** users analyzed, according to `df_users`, **489 sent messages**.\n",
    "\n",
    "Only 11 still use the services for calling or SMS.\n",
    "\n",
    "Within our \"small group\" of customers, the sequence of the most used services is: **internet** (489) > **connection** (481) > **messages** (402)."
   ]
  },
  {
   "cell_type": "markdown",
   "metadata": {},
   "source": [
    "Apparently the months of June, July and December were the only ones in which the average call duration was higher for *surf* plan customers than for *ultimate* plan customers.\n",
    "\n",
    "Both plans follow a gradual increase from the beginning to the end of the year. We can have two reasons:\n",
    "- or customers felt more comfortable with calls throughout the year\n",
    "- or the new customers that came in spoke more than the previous ones, changing the average"
   ]
  },
  {
   "cell_type": "markdown",
   "metadata": {},
   "source": [
    "The average monthly call duration on the Surf plan is 323.02954845256215 and on the Ultimate plan it is 334.23888"
   ]
  },
  {
   "cell_type": "markdown",
   "metadata": {},
   "source": [
    "The monthly call duration variation in the Surf plan is 65590.5476084719 and in the Ultimate plan it is 66484.01626274559"
   ]
  },
  {
   "cell_type": "markdown",
   "metadata": {},
   "source": [
    "The monthly standard deviation of call duration on the Surf plan is 256.10651613825036 and on the Ultimate plan it is 257.84494616483295"
   ]
  },
  {
   "cell_type": "markdown",
   "metadata": {},
   "source": [
    "We could see that for most customers (75% - more than half) of both plans the **average duration of calls** is very similar.\n",
    "\n",
    "In the Surf plan we still have some considerable values (23) above 1000 minutes while for Ultimate they tend to stabilize around 1000 (only 14 above), both having outliers.\n",
    "\n",
    "However, this is a considerably positive point for Ultimate plan customers, who are entitled to 3000 minutes, but none of them exceeded this limit, not generating extra revenue."
   ]
  },
  {
   "cell_type": "markdown",
   "metadata": {},
   "source": [
    "Customers of the *ultimate* plan sent, on average, more messages than those of the *surf* plan, with a greater difference in the month of August and a continuous increase between October and November, even when *surf* customers appeared to have maintained the same average.\n",
    "\n",
    "Both plans follow a gradual increase from the beginning to the end of the year. We can have two reasons:\n",
    "- or customers felt more comfortable with messages throughout the year\n",
    "- or the new customers that entered sent more messages than the previous ones, changing the average"
   ]
  },
  {
   "cell_type": "markdown",
   "metadata": {},
   "source": [
    "Despite the average number of *surf* messages being lower, it seems that we have some outliers that reach over 200 messages, while the *ultimate* that is entitled to more is close to 150 messages."
   ]
  },
  {
   "cell_type": "markdown",
   "metadata": {},
   "source": [
    "The monthly average of messages in the Surf plan is 24.220700152207 and in the Ultimate plan it is 30.762285714285714"
   ]
  },
  {
   "cell_type": "markdown",
   "metadata": {},
   "source": [
    "The monthly variation of messages in the Surf plan is 1048.4155227974582 and in the Ultimate plan it is 1198.281777632653"
   ]
  },
  {
   "cell_type": "markdown",
   "metadata": {},
   "source": [
    "The monthly standard deviation of messages in the Surf plan is 32.379245247495476 and in the Ultimate plan it is 34.61620686373152"
   ]
  },
  {
   "cell_type": "markdown",
   "metadata": {},
   "source": [
    "The majority of customers (75% - more than half) of the Surf Plan were able to limit themselves to the 50 messages included in the package, while for the Ultimate Plan it provided much more than necessary (they did not reach 55 whereas they could have gone up to 1000). At least for the company, releasing 1000 messages, knowing that their customers don't even use 10% of them, seems like a good job of marketing.\n",
    "\n",
    "In the Surf plan we still have some considerable values (327) above the 50 messages in the package, while for Ultimate we only have 238 customers who, depending on the messages, would really need to be on this plan to avoid paying extra fees.\n",
    "\n",
    "Another considerably positive point for Ultimate plan customers, who, having the right to 1000 minutes, did not exceed this limit, not generating extra revenue."
   ]
  },
  {
   "cell_type": "markdown",
   "metadata": {},
   "source": [
    "It was evident that customers of the *ultimate* plan used, on average, more internet than those of the *surf* plan, with a greater difference in the month of March, a continuous increase between October and November, while customers of the * surf* appeared to have dropped slightly in usage, as did *ultimate* from August to September."
   ]
  },
  {
   "cell_type": "markdown",
   "metadata": {},
   "source": [
    "Despite the average number of *surf* messages being smaller, it seems that we have some outliers that reach over 50 messages, while the *ultimate* that is entitled to more is close to 40 gigabytes."
   ]
  },
  {
   "cell_type": "markdown",
   "metadata": {},
   "source": [
    "The monthly average of gigabytes in the Surf plan is 13,313546423135465 and in the Ultimate plan it is 14,512"
   ]
  },
  {
   "cell_type": "markdown",
   "metadata": {},
   "source": [
    "The monthly variation of gigabytes in the Surf plan is 97.14775662633298 and in the Ultimate plan it is 96.47614171428573"
   ]
  },
  {
   "cell_type": "markdown",
   "metadata": {},
   "source": [
    "The monthly standard deviation of gigabytes in the Surf plan is 32.379245247495476 and in the Ultimate plan it is 34.61620686373152"
   ]
  },
  {
   "cell_type": "markdown",
   "metadata": {},
   "source": [
    "Undoubtedly, Ultimate Plan customers are more controlled. Most of their data is under 21gb, well under the package's 30gb limit.\n",
    "\n",
    "We can see that more than half of Surf Plan customers exceeded their limit of 15gb included in the package, while for the Ultimate Plan it provided much more than necessary. At least for the company, disclosing 30gb, knowing that only less than 25% of its customers use that amount, seems like a good job of marketing.\n",
    "\n",
    "The internet package was the only one in which Ultimate plan customers exceeded their limit and generated extra revenue."
   ]
  },
  {
   "cell_type": "markdown",
   "metadata": {},
   "source": [
    "It was evident that customers of the *ultimate* plan had, on average, a more homogeneous annual cost than those of the *surf* plan, with a greater difference in the months of January and February. As the year went on, *surf* customers appeared to have increased their spending."
   ]
  },
  {
   "cell_type": "markdown",
   "metadata": {},
   "source": [
    "Despite the average number of *surf* messages being lower, it seems that we have some outliers that reach over 500 dollars, while *ultimate*, which is already more expensive and offers more product, has few outliers, which are no more than a maximum of 200 dollars."
   ]
  },
  {
   "cell_type": "markdown",
   "metadata": {},
   "source": [
    "The average monthly revenue in the Surf plan is 51,698455403348554 and in the Ultimate plan is 71,904"
   ]
  },
  {
   "cell_type": "markdown",
   "metadata": {},
   "source": [
    "Monthly revenue variance in Surf plan is 2604.2211737995485 and in Ultimate plan is 111.39878400000002"
   ]
  },
  {
   "cell_type": "markdown",
   "metadata": {},
   "source": [
    "The monthly standard deviation in revenue on the Surf plan is 51.031570363839954 and on the Ultimate plan it is 10.554562236303314\n",
    "That is, there really isn't much variation between the expenses of Ultimate plan customers."
   ]
  },
  {
   "cell_type": "markdown",
   "metadata": {},
   "source": [
    "At least 25% of customers who pay for the Surf plan could be paying for Ultimate to get more benefits. These customers who already accept to pay more at the beginning seem to be more controlled."
   ]
  },
  {
   "cell_type": "markdown",
   "metadata": {},
   "source": [
    "Ultimate Plan customers are more controlled by the fact that they do not exceed the monthly limits of the package, they end up not having to worry about extra revenue.\n",
    "\n",
    "We can see that more than half of the Surf Plan customers (1101) exceeded their limit of 20 dollars, while for the Ultimate Plan only 40 spent more than they proposed to pay.\n",
    "\n",
    "Analyzing data is really important to create strategies like these in which most customers consider paying little initially and then end up spending more than those who have already planned a higher cost."
   ]
  },
  {
   "cell_type": "markdown",
   "metadata": {},
   "source": [
    "We tested and confirmed the hypothesis that the average revenue of Ultimate and Surf calling plan users is different."
   ]
  },
  {
   "cell_type": "markdown",
   "metadata": {},
   "source": [
    "We tested and confirmed the hypothesis that the average income of users in the NY-NJ area differs from users in other regions."
   ]
  },
  {
   "cell_type": "markdown",
   "metadata": {},
   "source": [
    "Data from New York represents 18.83089770354906% of all regions collected."
   ]
  },
  {
   "cell_type": "markdown",
   "metadata": {},
   "source": [
    "Apparently telephony costs among New York users are very different from customers in other regions. Could it be that because they are a metropolis they end up using the phone more frequently?\n",
    "\n",
    "This leads us to consider the great importance of carrying out analyzes based on geographic differences."
   ]
  },
  {
   "cell_type": "markdown",
   "metadata": {},
   "source": [
    "In short, we conclude that the Surf Plan, the cheapest, is more advantageous for the company that covers a large number of customers with its good internet offer for every dollar, however the customers of this plan mostly exceed the package limits, which increases revenue for the company.\n",
    "\n",
    "As for the Ultimate Plan, the most expensive, in addition to already providing limits that most customers do not reach, it ends up not interfering with the customer's monthly costs, since it maintains costs without extras, in addition to the company itself offering limits that almost no customer reaches, and is also favored by the fact that they pay and do not use it.\n",
    "\n",
    "In a search for advantages, we may have a tendency, then, to consider the most expensive package as the most advantageous. But after observing the difference that the location of the client can influence in the needs of greater or lesser use, it is worth putting this variable into play when making this decision."
   ]
  }
 ],
 "metadata": {
  "ExecuteTimeLog": [
   {
    "duration": 828,
    "start_time": "2021-11-16T09:21:11.304Z"
   },
   {
    "duration": 893,
    "start_time": "2021-11-16T09:21:17.728Z"
   },
   {
    "duration": 1150,
    "start_time": "2021-11-16T09:21:29.568Z"
   },
   {
    "duration": 3,
    "start_time": "2021-11-16T09:24:14.495Z"
   },
   {
    "duration": 120,
    "start_time": "2021-11-16T09:24:46.630Z"
   },
   {
    "duration": 3,
    "start_time": "2021-11-16T09:28:27.882Z"
   },
   {
    "duration": 4,
    "start_time": "2021-11-16T09:29:54.281Z"
   },
   {
    "duration": 3,
    "start_time": "2021-11-16T09:30:45.936Z"
   },
   {
    "duration": 4,
    "start_time": "2021-11-16T09:31:06.300Z"
   },
   {
    "duration": 113,
    "start_time": "2021-11-16T09:31:37.208Z"
   },
   {
    "duration": 143,
    "start_time": "2021-11-16T09:31:48.656Z"
   },
   {
    "duration": 98,
    "start_time": "2021-11-16T09:31:55.678Z"
   },
   {
    "duration": 3,
    "start_time": "2021-11-16T09:32:08.535Z"
   },
   {
    "duration": 111,
    "start_time": "2021-11-16T09:32:10.120Z"
   },
   {
    "duration": 3,
    "start_time": "2021-11-16T09:32:15.732Z"
   },
   {
    "duration": 4,
    "start_time": "2021-11-16T09:32:29.423Z"
   },
   {
    "duration": 3,
    "start_time": "2021-11-16T10:03:03.074Z"
   },
   {
    "duration": 3,
    "start_time": "2021-11-16T10:10:01.288Z"
   },
   {
    "duration": 3,
    "start_time": "2021-11-16T10:10:46.923Z"
   },
   {
    "duration": 121,
    "start_time": "2021-11-16T10:37:46.494Z"
   },
   {
    "duration": 125,
    "start_time": "2021-11-16T10:38:20.632Z"
   },
   {
    "duration": 112,
    "start_time": "2021-11-16T10:46:53.001Z"
   },
   {
    "duration": 110,
    "start_time": "2021-11-16T10:48:25.775Z"
   },
   {
    "duration": 3,
    "start_time": "2021-11-16T10:50:18.720Z"
   },
   {
    "duration": 4,
    "start_time": "2021-11-16T10:50:37.649Z"
   },
   {
    "duration": 2,
    "start_time": "2021-11-16T10:50:51.884Z"
   },
   {
    "duration": 3,
    "start_time": "2021-11-16T10:51:56.237Z"
   },
   {
    "duration": 101,
    "start_time": "2021-11-16T10:53:13.791Z"
   },
   {
    "duration": 3,
    "start_time": "2021-11-16T10:55:59.186Z"
   },
   {
    "duration": 3,
    "start_time": "2021-11-16T10:56:10.751Z"
   },
   {
    "duration": 3,
    "start_time": "2021-11-16T10:56:49.038Z"
   },
   {
    "duration": 3,
    "start_time": "2021-11-16T10:56:49.174Z"
   },
   {
    "duration": 4,
    "start_time": "2021-11-16T10:56:49.414Z"
   },
   {
    "duration": 3,
    "start_time": "2021-11-16T10:56:49.680Z"
   },
   {
    "duration": 3,
    "start_time": "2021-11-16T10:56:50.370Z"
   },
   {
    "duration": 114,
    "start_time": "2021-11-16T10:59:34.518Z"
   },
   {
    "duration": 3,
    "start_time": "2021-11-16T11:01:41.201Z"
   },
   {
    "duration": 116,
    "start_time": "2021-11-16T11:01:48.754Z"
   },
   {
    "duration": 3,
    "start_time": "2021-11-16T11:02:16.685Z"
   },
   {
    "duration": 3,
    "start_time": "2021-11-16T11:02:19.479Z"
   },
   {
    "duration": 3,
    "start_time": "2021-11-16T11:02:47.067Z"
   },
   {
    "duration": 3,
    "start_time": "2021-11-16T11:02:49.353Z"
   },
   {
    "duration": 3,
    "start_time": "2021-11-16T11:03:07.835Z"
   },
   {
    "duration": 3,
    "start_time": "2021-11-16T11:03:07.953Z"
   },
   {
    "duration": 112,
    "start_time": "2021-11-16T11:07:52.072Z"
   },
   {
    "duration": 187,
    "start_time": "2021-11-16T11:09:23.468Z"
   },
   {
    "duration": 4,
    "start_time": "2021-11-16T11:10:01.455Z"
   },
   {
    "duration": 3,
    "start_time": "2021-11-16T11:10:05.069Z"
   },
   {
    "duration": 4,
    "start_time": "2021-11-16T11:10:13.376Z"
   },
   {
    "duration": 3,
    "start_time": "2021-11-16T11:10:14.434Z"
   },
   {
    "duration": 3,
    "start_time": "2021-11-16T11:10:22.853Z"
   },
   {
    "duration": 4,
    "start_time": "2021-11-16T11:27:29.279Z"
   },
   {
    "duration": 4,
    "start_time": "2021-11-16T11:29:08.919Z"
   },
   {
    "duration": 118,
    "start_time": "2021-11-16T11:29:46.703Z"
   },
   {
    "duration": 437,
    "start_time": "2021-11-16T11:36:02.181Z"
   },
   {
    "duration": 157,
    "start_time": "2021-11-16T11:36:14.388Z"
   },
   {
    "duration": 207,
    "start_time": "2021-11-16T11:47:15.898Z"
   },
   {
    "duration": 3,
    "start_time": "2021-11-16T11:53:52.092Z"
   },
   {
    "duration": 3,
    "start_time": "2021-11-16T11:53:52.236Z"
   },
   {
    "duration": 3,
    "start_time": "2021-11-16T11:59:12.005Z"
   },
   {
    "duration": 112,
    "start_time": "2021-11-16T12:00:33.446Z"
   },
   {
    "duration": 3,
    "start_time": "2021-11-16T12:02:14.453Z"
   },
   {
    "duration": 3,
    "start_time": "2021-11-16T12:02:39.512Z"
   },
   {
    "duration": 106,
    "start_time": "2021-11-16T12:03:03.460Z"
   },
   {
    "duration": 3,
    "start_time": "2021-11-17T20:37:21.139Z"
   },
   {
    "duration": 3,
    "start_time": "2021-11-17T20:37:22.229Z"
   },
   {
    "duration": 3,
    "start_time": "2021-11-17T20:38:38.806Z"
   },
   {
    "duration": 3,
    "start_time": "2021-11-17T20:38:41.958Z"
   },
   {
    "duration": 3,
    "start_time": "2021-11-17T20:43:46.551Z"
   },
   {
    "duration": 4,
    "start_time": "2021-11-17T20:58:21.835Z"
   },
   {
    "duration": 3,
    "start_time": "2021-11-17T20:59:21.872Z"
   },
   {
    "duration": 4,
    "start_time": "2021-11-17T20:59:45.352Z"
   },
   {
    "duration": 4,
    "start_time": "2021-11-17T20:59:49.646Z"
   },
   {
    "duration": 159,
    "start_time": "2021-11-17T21:02:26.949Z"
   },
   {
    "duration": 3,
    "start_time": "2021-11-17T21:03:53.461Z"
   },
   {
    "duration": 3,
    "start_time": "2021-11-17T21:03:53.694Z"
   },
   {
    "duration": 3,
    "start_time": "2021-11-17T21:05:28.145Z"
   },
   {
    "duration": 116,
    "start_time": "2021-11-17T21:05:57.787Z"
   },
   {
    "duration": 3,
    "start_time": "2021-11-17T21:06:37.993Z"
   },
   {
    "duration": 3,
    "start_time": "2021-11-17T21:06:38.261Z"
   },
   {
    "duration": 3,
    "start_time": "2021-11-17T21:11:54.358Z"
   },
   {
    "duration": 3,
    "start_time": "2021-11-17T21:12:43.846Z"
   },
   {
    "duration": 4,
    "start_time": "2021-11-17T21:13:08.773Z"
   },
   {
    "duration": 3,
    "start_time": "2021-11-17T21:14:44.441Z"
   },
   {
    "duration": 3,
    "start_time": "2021-11-17T21:15:42.059Z"
   },
   {
    "duration": 4,
    "start_time": "2021-11-17T21:15:51.995Z"
   },
   {
    "duration": 3,
    "start_time": "2021-11-17T21:15:53.923Z"
   },
   {
    "duration": 3,
    "start_time": "2021-11-17T21:15:55.282Z"
   },
   {
    "duration": 3,
    "start_time": "2021-11-17T21:16:28.492Z"
   },
   {
    "duration": 3,
    "start_time": "2021-11-17T21:16:32.603Z"
   },
   {
    "duration": 3,
    "start_time": "2021-11-17T21:17:06.941Z"
   },
   {
    "duration": 98,
    "start_time": "2021-11-17T21:18:05.733Z"
   },
   {
    "duration": 4,
    "start_time": "2021-11-17T21:21:35.255Z"
   },
   {
    "duration": 3,
    "start_time": "2021-11-17T21:21:37.804Z"
   },
   {
    "duration": 4,
    "start_time": "2021-11-17T21:23:06.071Z"
   },
   {
    "duration": 3,
    "start_time": "2021-11-17T21:23:24.799Z"
   },
   {
    "duration": 3,
    "start_time": "2021-11-17T21:23:32.591Z"
   },
   {
    "duration": 98,
    "start_time": "2021-11-17T21:28:31.559Z"
   },
   {
    "duration": 3,
    "start_time": "2021-11-17T21:28:45.448Z"
   },
   {
    "duration": 3,
    "start_time": "2021-11-17T21:29:17.303Z"
   },
   {
    "duration": 3,
    "start_time": "2021-11-17T21:29:29.617Z"
   },
   {
    "duration": 3,
    "start_time": "2021-11-17T21:29:32.681Z"
   },
   {
    "duration": 3,
    "start_time": "2021-11-17T21:36:11.474Z"
   },
   {
    "duration": 3,
    "start_time": "2021-11-17T21:36:14.791Z"
   },
   {
    "duration": 3,
    "start_time": "2021-11-17T21:36:53.943Z"
   },
   {
    "duration": 3,
    "start_time": "2021-11-17T21:36:56.165Z"
   },
   {
    "duration": 4,
    "start_time": "2021-11-17T21:37:16.590Z"
   },
   {
    "duration": 3,
    "start_time": "2021-11-17T21:37:22.702Z"
   },
   {
    "duration": 4,
    "start_time": "2021-11-17T21:38:03.479Z"
   },
   {
    "duration": 3,
    "start_time": "2021-11-17T21:38:08.601Z"
   },
   {
    "duration": 3,
    "start_time": "2021-11-17T21:38:12.928Z"
   },
   {
    "duration": 3,
    "start_time": "2021-11-17T21:38:48.896Z"
   },
   {
    "duration": 2,
    "start_time": "2021-11-17T21:38:49.171Z"
   },
   {
    "duration": 4,
    "start_time": "2021-11-17T21:39:57.889Z"
   },
   {
    "duration": 3,
    "start_time": "2021-11-17T21:39:58.057Z"
   },
   {
    "duration": 3,
    "start_time": "2021-11-17T21:41:20.108Z"
   },
   {
    "duration": 3,
    "start_time": "2021-11-17T21:41:20.629Z"
   },
   {
    "duration": 3,
    "start_time": "2021-11-17T21:42:49.136Z"
   },
   {
    "duration": 3,
    "start_time": "2021-11-17T21:43:15.137Z"
   },
   {
    "duration": 4,
    "start_time": "2021-11-17T21:43:16.766Z"
   },
   {
    "duration": 4,
    "start_time": "2021-11-17T21:43:31.711Z"
   },
   {
    "duration": 3,
    "start_time": "2021-11-17T21:43:36.312Z"
   },
   {
    "duration": 4,
    "start_time": "2021-11-17T21:45:08.825Z"
   },
   {
    "duration": 4,
    "start_time": "2021-11-17T21:45:10.119Z"
   },
   {
    "duration": 4,
    "start_time": "2021-11-17T21:45:13.748Z"
   },
   {
    "duration": 3,
    "start_time": "2021-11-17T21:45:22.219Z"
   },
   {
    "duration": 3,
    "start_time": "2021-11-17T21:45:33.412Z"
   },
   {
    "duration": 2,
    "start_time": "2021-11-17T21:46:01.885Z"
   },
   {
    "duration": 3,
    "start_time": "2021-11-17T21:46:03.628Z"
   },
   {
    "duration": 107,
    "start_time": "2021-11-17T21:47:32.512Z"
   },
   {
    "duration": 103,
    "start_time": "2021-11-17T21:50:36.243Z"
   },
   {
    "duration": 3,
    "start_time": "2021-11-18T06:28:31.440Z"
   },
   {
    "duration": 3,
    "start_time": "2021-11-18T06:29:00.168Z"
   },
   {
    "duration": 3,
    "start_time": "2021-11-18T06:31:27.008Z"
   },
   {
    "duration": 2,
    "start_time": "2021-11-18T06:35:34.288Z"
   },
   {
    "duration": 2,
    "start_time": "2021-11-18T06:38:04.527Z"
   }
  ],
  "kernelspec": {
   "display_name": "Python 3 (ipykernel)",
   "language": "python",
   "name": "python3"
  },
  "language_info": {
   "codemirror_mode": {
    "name": "ipython",
    "version": 3
   },
   "file_extension": ".py",
   "mimetype": "text/x-python",
   "name": "python",
   "nbconvert_exporter": "python",
   "pygments_lexer": "ipython3",
   "version": "3.9.5"
  },
  "toc": {
   "base_numbering": 1,
   "nav_menu": {},
   "number_sections": true,
   "sideBar": true,
   "skip_h1_title": false,
   "title_cell": "Table of Contents",
   "title_sidebar": "Contents",
   "toc_cell": false,
   "toc_position": {
    "height": "calc(100% - 180px)",
    "left": "10px",
    "top": "150px",
    "width": "165px"
   },
   "toc_section_display": true,
   "toc_window_display": true
  }
 },
 "nbformat": 4,
 "nbformat_minor": 2
}
